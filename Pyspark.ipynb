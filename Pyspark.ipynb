{
  "nbformat": 4,
  "nbformat_minor": 0,
  "metadata": {
    "colab": {
      "provenance": [],
      "authorship_tag": "ABX9TyOrhxIWULbk4KgtFjrtVQRa",
      "include_colab_link": true
    },
    "kernelspec": {
      "name": "python3",
      "display_name": "Python 3"
    },
    "language_info": {
      "name": "python"
    },
    "accelerator": "GPU",
    "gpuClass": "standard"
  },
  "cells": [
    {
      "cell_type": "markdown",
      "metadata": {
        "id": "view-in-github",
        "colab_type": "text"
      },
      "source": [
        "<a href=\"https://colab.research.google.com/github/Kim-matthew-0422/pyspark1/blob/main/Pyspark.ipynb\" target=\"_parent\"><img src=\"https://colab.research.google.com/assets/colab-badge.svg\" alt=\"Open In Colab\"/></a>"
      ]
    },
    {
      "cell_type": "code",
      "execution_count": 2,
      "metadata": {
        "colab": {
          "base_uri": "https://localhost:8080/"
        },
        "id": "qFJz-MFBnJB0",
        "outputId": "ef5660f9-e39c-44a3-f90f-19ca18e194bd"
      },
      "outputs": [
        {
          "output_type": "stream",
          "name": "stdout",
          "text": [
            "Traceback (most recent call last):\n",
            "  File \"/usr/local/bin/kaggle\", line 5, in <module>\n",
            "    from kaggle.cli import main\n",
            "  File \"/usr/local/lib/python3.8/dist-packages/kaggle/__init__.py\", line 23, in <module>\n",
            "    api.authenticate()\n",
            "  File \"/usr/local/lib/python3.8/dist-packages/kaggle/api/kaggle_api_extended.py\", line 164, in authenticate\n",
            "    raise IOError('Could not find {}. Make sure it\\'s located in'\n",
            "OSError: Could not find kaggle.json. Make sure it's located in /root/.kaggle. Or use the environment method.\n"
          ]
        }
      ],
      "source": [
        "!kaggle competitions download -c titanic"
      ]
    },
    {
      "cell_type": "code",
      "source": [
        "!nvidia-smi -L"
      ],
      "metadata": {
        "colab": {
          "base_uri": "https://localhost:8080/"
        },
        "id": "dvQX8GJxubcN",
        "outputId": "ccdd0ac4-9284-4c90-a34e-c022b28b3183"
      },
      "execution_count": 1,
      "outputs": [
        {
          "output_type": "stream",
          "name": "stdout",
          "text": [
            "GPU 0: Tesla T4 (UUID: GPU-e6d27991-ef43-bb4e-b51d-c5f7cfb62a55)\n"
          ]
        }
      ]
    },
    {
      "cell_type": "code",
      "source": [
        "!mkdir ~/.kaggle"
      ],
      "metadata": {
        "id": "cIOSG9RvubaX",
        "colab": {
          "base_uri": "https://localhost:8080/"
        },
        "outputId": "feb8ce00-3b86-4dbc-8bfa-e54493ed07a0"
      },
      "execution_count": 3,
      "outputs": [
        {
          "output_type": "stream",
          "name": "stdout",
          "text": [
            "mkdir: cannot create directory ‘/root/.kaggle’: File exists\n"
          ]
        }
      ]
    },
    {
      "cell_type": "code",
      "source": [
        "from google.colab import files\n",
        "files.upload()"
      ],
      "metadata": {
        "colab": {
          "base_uri": "https://localhost:8080/",
          "height": 90
        },
        "id": "qyA8CiR5ubYZ",
        "outputId": "38ab7886-add2-4641-840d-1f75df8a3a18"
      },
      "execution_count": 4,
      "outputs": [
        {
          "output_type": "display_data",
          "data": {
            "text/plain": [
              "<IPython.core.display.HTML object>"
            ],
            "text/html": [
              "\n",
              "     <input type=\"file\" id=\"files-203fa783-cb05-4205-94e2-ea9c96996135\" name=\"files[]\" multiple disabled\n",
              "        style=\"border:none\" />\n",
              "     <output id=\"result-203fa783-cb05-4205-94e2-ea9c96996135\">\n",
              "      Upload widget is only available when the cell has been executed in the\n",
              "      current browser session. Please rerun this cell to enable.\n",
              "      </output>\n",
              "      <script>// Copyright 2017 Google LLC\n",
              "//\n",
              "// Licensed under the Apache License, Version 2.0 (the \"License\");\n",
              "// you may not use this file except in compliance with the License.\n",
              "// You may obtain a copy of the License at\n",
              "//\n",
              "//      http://www.apache.org/licenses/LICENSE-2.0\n",
              "//\n",
              "// Unless required by applicable law or agreed to in writing, software\n",
              "// distributed under the License is distributed on an \"AS IS\" BASIS,\n",
              "// WITHOUT WARRANTIES OR CONDITIONS OF ANY KIND, either express or implied.\n",
              "// See the License for the specific language governing permissions and\n",
              "// limitations under the License.\n",
              "\n",
              "/**\n",
              " * @fileoverview Helpers for google.colab Python module.\n",
              " */\n",
              "(function(scope) {\n",
              "function span(text, styleAttributes = {}) {\n",
              "  const element = document.createElement('span');\n",
              "  element.textContent = text;\n",
              "  for (const key of Object.keys(styleAttributes)) {\n",
              "    element.style[key] = styleAttributes[key];\n",
              "  }\n",
              "  return element;\n",
              "}\n",
              "\n",
              "// Max number of bytes which will be uploaded at a time.\n",
              "const MAX_PAYLOAD_SIZE = 100 * 1024;\n",
              "\n",
              "function _uploadFiles(inputId, outputId) {\n",
              "  const steps = uploadFilesStep(inputId, outputId);\n",
              "  const outputElement = document.getElementById(outputId);\n",
              "  // Cache steps on the outputElement to make it available for the next call\n",
              "  // to uploadFilesContinue from Python.\n",
              "  outputElement.steps = steps;\n",
              "\n",
              "  return _uploadFilesContinue(outputId);\n",
              "}\n",
              "\n",
              "// This is roughly an async generator (not supported in the browser yet),\n",
              "// where there are multiple asynchronous steps and the Python side is going\n",
              "// to poll for completion of each step.\n",
              "// This uses a Promise to block the python side on completion of each step,\n",
              "// then passes the result of the previous step as the input to the next step.\n",
              "function _uploadFilesContinue(outputId) {\n",
              "  const outputElement = document.getElementById(outputId);\n",
              "  const steps = outputElement.steps;\n",
              "\n",
              "  const next = steps.next(outputElement.lastPromiseValue);\n",
              "  return Promise.resolve(next.value.promise).then((value) => {\n",
              "    // Cache the last promise value to make it available to the next\n",
              "    // step of the generator.\n",
              "    outputElement.lastPromiseValue = value;\n",
              "    return next.value.response;\n",
              "  });\n",
              "}\n",
              "\n",
              "/**\n",
              " * Generator function which is called between each async step of the upload\n",
              " * process.\n",
              " * @param {string} inputId Element ID of the input file picker element.\n",
              " * @param {string} outputId Element ID of the output display.\n",
              " * @return {!Iterable<!Object>} Iterable of next steps.\n",
              " */\n",
              "function* uploadFilesStep(inputId, outputId) {\n",
              "  const inputElement = document.getElementById(inputId);\n",
              "  inputElement.disabled = false;\n",
              "\n",
              "  const outputElement = document.getElementById(outputId);\n",
              "  outputElement.innerHTML = '';\n",
              "\n",
              "  const pickedPromise = new Promise((resolve) => {\n",
              "    inputElement.addEventListener('change', (e) => {\n",
              "      resolve(e.target.files);\n",
              "    });\n",
              "  });\n",
              "\n",
              "  const cancel = document.createElement('button');\n",
              "  inputElement.parentElement.appendChild(cancel);\n",
              "  cancel.textContent = 'Cancel upload';\n",
              "  const cancelPromise = new Promise((resolve) => {\n",
              "    cancel.onclick = () => {\n",
              "      resolve(null);\n",
              "    };\n",
              "  });\n",
              "\n",
              "  // Wait for the user to pick the files.\n",
              "  const files = yield {\n",
              "    promise: Promise.race([pickedPromise, cancelPromise]),\n",
              "    response: {\n",
              "      action: 'starting',\n",
              "    }\n",
              "  };\n",
              "\n",
              "  cancel.remove();\n",
              "\n",
              "  // Disable the input element since further picks are not allowed.\n",
              "  inputElement.disabled = true;\n",
              "\n",
              "  if (!files) {\n",
              "    return {\n",
              "      response: {\n",
              "        action: 'complete',\n",
              "      }\n",
              "    };\n",
              "  }\n",
              "\n",
              "  for (const file of files) {\n",
              "    const li = document.createElement('li');\n",
              "    li.append(span(file.name, {fontWeight: 'bold'}));\n",
              "    li.append(span(\n",
              "        `(${file.type || 'n/a'}) - ${file.size} bytes, ` +\n",
              "        `last modified: ${\n",
              "            file.lastModifiedDate ? file.lastModifiedDate.toLocaleDateString() :\n",
              "                                    'n/a'} - `));\n",
              "    const percent = span('0% done');\n",
              "    li.appendChild(percent);\n",
              "\n",
              "    outputElement.appendChild(li);\n",
              "\n",
              "    const fileDataPromise = new Promise((resolve) => {\n",
              "      const reader = new FileReader();\n",
              "      reader.onload = (e) => {\n",
              "        resolve(e.target.result);\n",
              "      };\n",
              "      reader.readAsArrayBuffer(file);\n",
              "    });\n",
              "    // Wait for the data to be ready.\n",
              "    let fileData = yield {\n",
              "      promise: fileDataPromise,\n",
              "      response: {\n",
              "        action: 'continue',\n",
              "      }\n",
              "    };\n",
              "\n",
              "    // Use a chunked sending to avoid message size limits. See b/62115660.\n",
              "    let position = 0;\n",
              "    do {\n",
              "      const length = Math.min(fileData.byteLength - position, MAX_PAYLOAD_SIZE);\n",
              "      const chunk = new Uint8Array(fileData, position, length);\n",
              "      position += length;\n",
              "\n",
              "      const base64 = btoa(String.fromCharCode.apply(null, chunk));\n",
              "      yield {\n",
              "        response: {\n",
              "          action: 'append',\n",
              "          file: file.name,\n",
              "          data: base64,\n",
              "        },\n",
              "      };\n",
              "\n",
              "      let percentDone = fileData.byteLength === 0 ?\n",
              "          100 :\n",
              "          Math.round((position / fileData.byteLength) * 100);\n",
              "      percent.textContent = `${percentDone}% done`;\n",
              "\n",
              "    } while (position < fileData.byteLength);\n",
              "  }\n",
              "\n",
              "  // All done.\n",
              "  yield {\n",
              "    response: {\n",
              "      action: 'complete',\n",
              "    }\n",
              "  };\n",
              "}\n",
              "\n",
              "scope.google = scope.google || {};\n",
              "scope.google.colab = scope.google.colab || {};\n",
              "scope.google.colab._files = {\n",
              "  _uploadFiles,\n",
              "  _uploadFilesContinue,\n",
              "};\n",
              "})(self);\n",
              "</script> "
            ]
          },
          "metadata": {}
        },
        {
          "output_type": "stream",
          "name": "stdout",
          "text": [
            "Saving kaggle.json to kaggle.json\n"
          ]
        },
        {
          "output_type": "execute_result",
          "data": {
            "text/plain": [
              "{'kaggle.json': b'{\"username\":\"etkim422\",\"key\":\"80ab2ded6fd7d42e4f1a1492a557fa36\"}'}"
            ]
          },
          "metadata": {},
          "execution_count": 4
        }
      ]
    },
    {
      "cell_type": "code",
      "source": [],
      "metadata": {
        "id": "fToowBqqubWa"
      },
      "execution_count": null,
      "outputs": []
    },
    {
      "cell_type": "code",
      "source": [
        "!cp kaggle.json ~/.kaggle/"
      ],
      "metadata": {
        "id": "_qZWjON_ubUQ"
      },
      "execution_count": 5,
      "outputs": []
    },
    {
      "cell_type": "code",
      "source": [
        "!kaggle competitions download -c titanic"
      ],
      "metadata": {
        "colab": {
          "base_uri": "https://localhost:8080/"
        },
        "id": "J4dz7EzDubSI",
        "outputId": "b63190e2-b14a-46df-a48f-3e1710b80981"
      },
      "execution_count": 6,
      "outputs": [
        {
          "output_type": "stream",
          "name": "stdout",
          "text": [
            "Warning: Your Kaggle API key is readable by other users on this system! To fix this, you can run 'chmod 600 /root/.kaggle/kaggle.json'\n",
            "Downloading titanic.zip to /content\n",
            "  0% 0.00/34.1k [00:00<?, ?B/s]\n",
            "100% 34.1k/34.1k [00:00<00:00, 1.19MB/s]\n"
          ]
        }
      ]
    },
    {
      "cell_type": "code",
      "source": [
        "!ls"
      ],
      "metadata": {
        "colab": {
          "base_uri": "https://localhost:8080/"
        },
        "id": "7kdQSo9SubP3",
        "outputId": "c5347629-17f5-4528-cc00-2730264bfb91"
      },
      "execution_count": 7,
      "outputs": [
        {
          "output_type": "stream",
          "name": "stdout",
          "text": [
            "kaggle.json  sample_data  titanic.zip\n"
          ]
        }
      ]
    },
    {
      "cell_type": "code",
      "source": [
        "\n",
        "!wget https://raw.githubusercontent.com/mrdbourke/tensorflow-deep-learning/main/extras/helper_functions.py\n",
        "from helper_functions import create_tensorboard_callback, plot_loss_curves, unzip_data, compare_historys, walk_through_dir"
      ],
      "metadata": {
        "colab": {
          "base_uri": "https://localhost:8080/"
        },
        "id": "PYqKFWmcubM9",
        "outputId": "92ce5deb-319a-402c-a637-c74cc702f5e7"
      },
      "execution_count": 8,
      "outputs": [
        {
          "output_type": "stream",
          "name": "stdout",
          "text": [
            "--2023-03-08 08:14:52--  https://raw.githubusercontent.com/mrdbourke/tensorflow-deep-learning/main/extras/helper_functions.py\n",
            "Resolving raw.githubusercontent.com (raw.githubusercontent.com)... 185.199.109.133, 185.199.108.133, 185.199.110.133, ...\n",
            "Connecting to raw.githubusercontent.com (raw.githubusercontent.com)|185.199.109.133|:443... connected.\n",
            "HTTP request sent, awaiting response... 200 OK\n",
            "Length: 10246 (10K) [text/plain]\n",
            "Saving to: ‘helper_functions.py’\n",
            "\n",
            "helper_functions.py 100%[===================>]  10.01K  --.-KB/s    in 0s      \n",
            "\n",
            "2023-03-08 08:14:52 (72.1 MB/s) - ‘helper_functions.py’ saved [10246/10246]\n",
            "\n"
          ]
        }
      ]
    },
    {
      "cell_type": "code",
      "source": [
        "unzip_data('titanic.zip')"
      ],
      "metadata": {
        "id": "mkr7JpfcvofJ"
      },
      "execution_count": 9,
      "outputs": []
    },
    {
      "cell_type": "code",
      "source": [
        "!ls"
      ],
      "metadata": {
        "colab": {
          "base_uri": "https://localhost:8080/"
        },
        "id": "USPVc5QYwTUD",
        "outputId": "2b3334be-fda2-4e66-f648-f62bf72970a2"
      },
      "execution_count": 10,
      "outputs": [
        {
          "output_type": "stream",
          "name": "stdout",
          "text": [
            "gender_submission.csv  kaggle.json  sample_data  titanic.zip\n",
            "helper_functions.py    __pycache__  test.csv\t train.csv\n"
          ]
        }
      ]
    },
    {
      "cell_type": "code",
      "source": [
        "!apt-get install openjdk-8-jdk-headless -qq > /dev/null"
      ],
      "metadata": {
        "id": "sdBTw5yYwUk5"
      },
      "execution_count": 11,
      "outputs": []
    },
    {
      "cell_type": "code",
      "source": [
        "!wget -q https://www-us.apache.org/dist/spark/spark-3.1.2/spark-3.1.2-bin-hadoop2.7.tgz\n",
        "!tar xf spark-3.1.2-bin-hadoop2.7.tgz"
      ],
      "metadata": {
        "colab": {
          "base_uri": "https://localhost:8080/"
        },
        "id": "YfV_yQnCwkux",
        "outputId": "80cff6af-4920-4e42-8a4b-316f7dd6fd96"
      },
      "execution_count": 12,
      "outputs": [
        {
          "output_type": "stream",
          "name": "stdout",
          "text": [
            "tar: spark-3.1.2-bin-hadoop2.7.tgz: Cannot open: No such file or directory\n",
            "tar: Error is not recoverable: exiting now\n"
          ]
        }
      ]
    },
    {
      "cell_type": "code",
      "source": [
        "import os\n",
        "os.environ[\"JAVA_HOME\"] = \"/usr/lib/jvm/java-8-openjdk-amd64\"\n",
        "os.environ[\"SPARK_HOME\"] = \"/content/spark-3.1.2-bin-hadoop2.7\""
      ],
      "metadata": {
        "id": "0jt6wGFPwksV"
      },
      "execution_count": 13,
      "outputs": []
    },
    {
      "cell_type": "code",
      "source": [
        "!pip install pyspark"
      ],
      "metadata": {
        "colab": {
          "base_uri": "https://localhost:8080/"
        },
        "id": "2F8DREecwkp4",
        "outputId": "6ff02b13-009c-430f-ab68-1cccdf2c586f"
      },
      "execution_count": 14,
      "outputs": [
        {
          "output_type": "stream",
          "name": "stdout",
          "text": [
            "Looking in indexes: https://pypi.org/simple, https://us-python.pkg.dev/colab-wheels/public/simple/\n",
            "Collecting pyspark\n",
            "  Downloading pyspark-3.3.2.tar.gz (281.4 MB)\n",
            "\u001b[2K     \u001b[90m━━━━━━━━━━━━━━━━━━━━━━━━━━━━━━━━━━━━━━━\u001b[0m \u001b[32m281.4/281.4 MB\u001b[0m \u001b[31m5.5 MB/s\u001b[0m eta \u001b[36m0:00:00\u001b[0m\n",
            "\u001b[?25h  Preparing metadata (setup.py) ... \u001b[?25l\u001b[?25hdone\n",
            "Collecting py4j==0.10.9.5\n",
            "  Downloading py4j-0.10.9.5-py2.py3-none-any.whl (199 kB)\n",
            "\u001b[2K     \u001b[90m━━━━━━━━━━━━━━━━━━━━━━━━━━━━━━━━━━━━━━\u001b[0m \u001b[32m199.7/199.7 KB\u001b[0m \u001b[31m24.2 MB/s\u001b[0m eta \u001b[36m0:00:00\u001b[0m\n",
            "\u001b[?25hBuilding wheels for collected packages: pyspark\n",
            "  Building wheel for pyspark (setup.py) ... \u001b[?25l\u001b[?25hdone\n",
            "  Created wheel for pyspark: filename=pyspark-3.3.2-py2.py3-none-any.whl size=281824025 sha256=55f465dd69effcf30fbaaf806efdbb4e79393699b1bafcb4c066850cfd86152b\n",
            "  Stored in directory: /root/.cache/pip/wheels/b1/59/a0/a1a0624b5e865fd389919c1a10f53aec9b12195d6747710baf\n",
            "Successfully built pyspark\n",
            "Installing collected packages: py4j, pyspark\n",
            "Successfully installed py4j-0.10.9.5 pyspark-3.3.2\n"
          ]
        }
      ]
    },
    {
      "cell_type": "code",
      "source": [
        "import pyspark\n",
        "import pandas as pd"
      ],
      "metadata": {
        "id": "_E2meDWkwknY"
      },
      "execution_count": 15,
      "outputs": []
    },
    {
      "cell_type": "code",
      "source": [
        "!ls"
      ],
      "metadata": {
        "colab": {
          "base_uri": "https://localhost:8080/"
        },
        "id": "_L6JEy04wkk1",
        "outputId": "5fee0afb-cad8-48a2-8701-f50dc5f25da9"
      },
      "execution_count": null,
      "outputs": [
        {
          "output_type": "stream",
          "name": "stdout",
          "text": [
            "gender_submission.csv  kaggle.json  sample_data  titanic.zip\n",
            "helper_functions.py    __pycache__  test.csv\t train.csv\n"
          ]
        }
      ]
    },
    {
      "cell_type": "code",
      "source": [
        "from pyspark.sql import SparkSession"
      ],
      "metadata": {
        "id": "jfCzia_Wz0hv"
      },
      "execution_count": 16,
      "outputs": []
    },
    {
      "cell_type": "code",
      "source": [],
      "metadata": {
        "id": "xLf8fg8J0e82"
      },
      "execution_count": null,
      "outputs": []
    },
    {
      "cell_type": "code",
      "source": [
        "!wget -q https://dlcdn.apache.org/spark/spark-3.3.2/spark-3.3.2-bin-hadoop3.tgz"
      ],
      "metadata": {
        "id": "-lFvkytB0fYm"
      },
      "execution_count": 17,
      "outputs": []
    },
    {
      "cell_type": "code",
      "source": [
        "!ls"
      ],
      "metadata": {
        "colab": {
          "base_uri": "https://localhost:8080/"
        },
        "id": "rOKw_gya0e6r",
        "outputId": "ea85369e-cbfc-4fe4-8db2-5ebb8892fafa"
      },
      "execution_count": null,
      "outputs": [
        {
          "output_type": "stream",
          "name": "stdout",
          "text": [
            "gender_submission.csv  __pycache__\t\t    test.csv\n",
            "helper_functions.py    sample_data\t\t    titanic.zip\n",
            "kaggle.json\t       spark-3.3.2-bin-hadoop3.tgz  train.csv\n"
          ]
        }
      ]
    },
    {
      "cell_type": "code",
      "source": [
        "!tar xf spark-3.3.2-bin-hadoop3.tgz"
      ],
      "metadata": {
        "id": "6A1tphnC0e4h"
      },
      "execution_count": 18,
      "outputs": []
    },
    {
      "cell_type": "code",
      "source": [
        "import os\n",
        "os.environ[\"JAVA_HOME\"] = \"/usr/lib/jvm/java-8-openjdk-amd64\"\n",
        "os.environ[\"SPARK_HOME\"] = \"/content/spark-3.3.2-bin-hadoop3\""
      ],
      "metadata": {
        "id": "ooIjaFCe18y7"
      },
      "execution_count": 19,
      "outputs": []
    },
    {
      "cell_type": "code",
      "source": [
        "!pip install -q findspark"
      ],
      "metadata": {
        "id": "1T1cvvnK2BKw"
      },
      "execution_count": 20,
      "outputs": []
    },
    {
      "cell_type": "code",
      "source": [
        "spark = SparkSession.builder\\\n",
        "        .master(\"local[*]\")\\\n",
        "        .appName(\"Test Setup\")\\\n",
        "        .getOrCreate()"
      ],
      "metadata": {
        "id": "vy-ZqpVo2FW7"
      },
      "execution_count": 21,
      "outputs": []
    },
    {
      "cell_type": "code",
      "source": [],
      "metadata": {
        "id": "Hg0R1-uB0P0E"
      },
      "execution_count": null,
      "outputs": []
    },
    {
      "cell_type": "code",
      "source": [
        "df_test = spark.read.csv('test.csv', header = True)\n",
        "df_train = spark.read.csv('train.csv',header=True)"
      ],
      "metadata": {
        "id": "fpL_Bnb5wkiT"
      },
      "execution_count": 22,
      "outputs": []
    },
    {
      "cell_type": "code",
      "source": [
        "!ls"
      ],
      "metadata": {
        "colab": {
          "base_uri": "https://localhost:8080/"
        },
        "id": "MbEpPfggwkf2",
        "outputId": "25560c5a-8a73-4c0a-9acf-c7828972ae25"
      },
      "execution_count": 23,
      "outputs": [
        {
          "output_type": "stream",
          "name": "stdout",
          "text": [
            "gender_submission.csv  sample_data\t\t    titanic.zip\n",
            "helper_functions.py    spark-3.3.2-bin-hadoop3\t    train.csv\n",
            "kaggle.json\t       spark-3.3.2-bin-hadoop3.tgz\n",
            "__pycache__\t       test.csv\n"
          ]
        }
      ]
    },
    {
      "cell_type": "code",
      "source": [
        "df_train.show()"
      ],
      "metadata": {
        "colab": {
          "base_uri": "https://localhost:8080/"
        },
        "id": "i5MnZBH5wkOW",
        "outputId": "0a8fe856-d678-4146-b0f2-f8053aed5b83"
      },
      "execution_count": 24,
      "outputs": [
        {
          "output_type": "stream",
          "name": "stdout",
          "text": [
            "+-----------+--------+------+--------------------+------+----+-----+-----+----------------+-------+-----+--------+\n",
            "|PassengerId|Survived|Pclass|                Name|   Sex| Age|SibSp|Parch|          Ticket|   Fare|Cabin|Embarked|\n",
            "+-----------+--------+------+--------------------+------+----+-----+-----+----------------+-------+-----+--------+\n",
            "|          1|       0|     3|Braund, Mr. Owen ...|  male|  22|    1|    0|       A/5 21171|   7.25| null|       S|\n",
            "|          2|       1|     1|Cumings, Mrs. Joh...|female|  38|    1|    0|        PC 17599|71.2833|  C85|       C|\n",
            "|          3|       1|     3|Heikkinen, Miss. ...|female|  26|    0|    0|STON/O2. 3101282|  7.925| null|       S|\n",
            "|          4|       1|     1|Futrelle, Mrs. Ja...|female|  35|    1|    0|          113803|   53.1| C123|       S|\n",
            "|          5|       0|     3|Allen, Mr. Willia...|  male|  35|    0|    0|          373450|   8.05| null|       S|\n",
            "|          6|       0|     3|    Moran, Mr. James|  male|null|    0|    0|          330877| 8.4583| null|       Q|\n",
            "|          7|       0|     1|McCarthy, Mr. Tim...|  male|  54|    0|    0|           17463|51.8625|  E46|       S|\n",
            "|          8|       0|     3|Palsson, Master. ...|  male|   2|    3|    1|          349909| 21.075| null|       S|\n",
            "|          9|       1|     3|Johnson, Mrs. Osc...|female|  27|    0|    2|          347742|11.1333| null|       S|\n",
            "|         10|       1|     2|Nasser, Mrs. Nich...|female|  14|    1|    0|          237736|30.0708| null|       C|\n",
            "|         11|       1|     3|Sandstrom, Miss. ...|female|   4|    1|    1|         PP 9549|   16.7|   G6|       S|\n",
            "|         12|       1|     1|Bonnell, Miss. El...|female|  58|    0|    0|          113783|  26.55| C103|       S|\n",
            "|         13|       0|     3|Saundercock, Mr. ...|  male|  20|    0|    0|       A/5. 2151|   8.05| null|       S|\n",
            "|         14|       0|     3|Andersson, Mr. An...|  male|  39|    1|    5|          347082| 31.275| null|       S|\n",
            "|         15|       0|     3|Vestrom, Miss. Hu...|female|  14|    0|    0|          350406| 7.8542| null|       S|\n",
            "|         16|       1|     2|Hewlett, Mrs. (Ma...|female|  55|    0|    0|          248706|     16| null|       S|\n",
            "|         17|       0|     3|Rice, Master. Eugene|  male|   2|    4|    1|          382652| 29.125| null|       Q|\n",
            "|         18|       1|     2|Williams, Mr. Cha...|  male|null|    0|    0|          244373|     13| null|       S|\n",
            "|         19|       0|     3|Vander Planke, Mr...|female|  31|    1|    0|          345763|     18| null|       S|\n",
            "|         20|       1|     3|Masselmani, Mrs. ...|female|null|    0|    0|            2649|  7.225| null|       C|\n",
            "+-----------+--------+------+--------------------+------+----+-----+-----+----------------+-------+-----+--------+\n",
            "only showing top 20 rows\n",
            "\n"
          ]
        }
      ]
    },
    {
      "cell_type": "code",
      "source": [
        "df_train.dtypes"
      ],
      "metadata": {
        "colab": {
          "base_uri": "https://localhost:8080/"
        },
        "id": "eI1sGCIyubKY",
        "outputId": "18377c9a-8602-40f7-b05f-cba6127d395b"
      },
      "execution_count": null,
      "outputs": [
        {
          "output_type": "execute_result",
          "data": {
            "text/plain": [
              "[('PassengerId', 'string'),\n",
              " ('Survived', 'string'),\n",
              " ('Pclass', 'string'),\n",
              " ('Name', 'string'),\n",
              " ('Sex', 'string'),\n",
              " ('Age', 'string'),\n",
              " ('SibSp', 'string'),\n",
              " ('Parch', 'string'),\n",
              " ('Ticket', 'string'),\n",
              " ('Fare', 'string'),\n",
              " ('Cabin', 'string'),\n",
              " ('Embarked', 'string')]"
            ]
          },
          "metadata": {},
          "execution_count": 29
        }
      ]
    },
    {
      "cell_type": "code",
      "source": [],
      "metadata": {
        "colab": {
          "base_uri": "https://localhost:8080/",
          "height": 470
        },
        "id": "RaDmjyrL3nuM",
        "outputId": "977fd9d6-d935-4134-b673-a13293a8949d"
      },
      "execution_count": null,
      "outputs": [
        {
          "output_type": "error",
          "ename": "AnalysisException",
          "evalue": "ignored",
          "traceback": [
            "\u001b[0;31m---------------------------------------------------------------------------\u001b[0m",
            "\u001b[0;31mAnalysisException\u001b[0m                         Traceback (most recent call last)",
            "\u001b[0;32m<ipython-input-30-b73300561a4e>\u001b[0m in \u001b[0;36m<module>\u001b[0;34m\u001b[0m\n\u001b[0;32m----> 1\u001b[0;31m \u001b[0mdf\u001b[0m \u001b[0;34m=\u001b[0m \u001b[0mdf_train\u001b[0m\u001b[0;34m.\u001b[0m\u001b[0munion\u001b[0m\u001b[0;34m(\u001b[0m\u001b[0mdf_test\u001b[0m\u001b[0;34m)\u001b[0m\u001b[0;34m\u001b[0m\u001b[0;34m\u001b[0m\u001b[0m\n\u001b[0m",
            "\u001b[0;32m/usr/local/lib/python3.8/dist-packages/pyspark/sql/dataframe.py\u001b[0m in \u001b[0;36munion\u001b[0;34m(self, other)\u001b[0m\n\u001b[1;32m   2255\u001b[0m         \u001b[0mAlso\u001b[0m \u001b[0;32mas\u001b[0m \u001b[0mstandard\u001b[0m \u001b[0;32min\u001b[0m \u001b[0mSQL\u001b[0m\u001b[0;34m,\u001b[0m \u001b[0mthis\u001b[0m \u001b[0mfunction\u001b[0m \u001b[0mresolves\u001b[0m \u001b[0mcolumns\u001b[0m \u001b[0mby\u001b[0m \u001b[0mposition\u001b[0m \u001b[0;34m(\u001b[0m\u001b[0;32mnot\u001b[0m \u001b[0mby\u001b[0m \u001b[0mname\u001b[0m\u001b[0;34m)\u001b[0m\u001b[0;34m.\u001b[0m\u001b[0;34m\u001b[0m\u001b[0;34m\u001b[0m\u001b[0m\n\u001b[1;32m   2256\u001b[0m         \"\"\"\n\u001b[0;32m-> 2257\u001b[0;31m         \u001b[0;32mreturn\u001b[0m \u001b[0mDataFrame\u001b[0m\u001b[0;34m(\u001b[0m\u001b[0mself\u001b[0m\u001b[0;34m.\u001b[0m\u001b[0m_jdf\u001b[0m\u001b[0;34m.\u001b[0m\u001b[0munion\u001b[0m\u001b[0;34m(\u001b[0m\u001b[0mother\u001b[0m\u001b[0;34m.\u001b[0m\u001b[0m_jdf\u001b[0m\u001b[0;34m)\u001b[0m\u001b[0;34m,\u001b[0m \u001b[0mself\u001b[0m\u001b[0;34m.\u001b[0m\u001b[0msparkSession\u001b[0m\u001b[0;34m)\u001b[0m\u001b[0;34m\u001b[0m\u001b[0;34m\u001b[0m\u001b[0m\n\u001b[0m\u001b[1;32m   2258\u001b[0m \u001b[0;34m\u001b[0m\u001b[0m\n\u001b[1;32m   2259\u001b[0m     \u001b[0;34m@\u001b[0m\u001b[0msince\u001b[0m\u001b[0;34m(\u001b[0m\u001b[0;36m1.3\u001b[0m\u001b[0;34m)\u001b[0m\u001b[0;34m\u001b[0m\u001b[0;34m\u001b[0m\u001b[0m\n",
            "\u001b[0;32m/usr/local/lib/python3.8/dist-packages/py4j/java_gateway.py\u001b[0m in \u001b[0;36m__call__\u001b[0;34m(self, *args)\u001b[0m\n\u001b[1;32m   1319\u001b[0m \u001b[0;34m\u001b[0m\u001b[0m\n\u001b[1;32m   1320\u001b[0m         \u001b[0manswer\u001b[0m \u001b[0;34m=\u001b[0m \u001b[0mself\u001b[0m\u001b[0;34m.\u001b[0m\u001b[0mgateway_client\u001b[0m\u001b[0;34m.\u001b[0m\u001b[0msend_command\u001b[0m\u001b[0;34m(\u001b[0m\u001b[0mcommand\u001b[0m\u001b[0;34m)\u001b[0m\u001b[0;34m\u001b[0m\u001b[0;34m\u001b[0m\u001b[0m\n\u001b[0;32m-> 1321\u001b[0;31m         return_value = get_return_value(\n\u001b[0m\u001b[1;32m   1322\u001b[0m             answer, self.gateway_client, self.target_id, self.name)\n\u001b[1;32m   1323\u001b[0m \u001b[0;34m\u001b[0m\u001b[0m\n",
            "\u001b[0;32m/usr/local/lib/python3.8/dist-packages/pyspark/sql/utils.py\u001b[0m in \u001b[0;36mdeco\u001b[0;34m(*a, **kw)\u001b[0m\n\u001b[1;32m    194\u001b[0m                 \u001b[0;31m# Hide where the exception came from that shows a non-Pythonic\u001b[0m\u001b[0;34m\u001b[0m\u001b[0;34m\u001b[0m\u001b[0;34m\u001b[0m\u001b[0m\n\u001b[1;32m    195\u001b[0m                 \u001b[0;31m# JVM exception message.\u001b[0m\u001b[0;34m\u001b[0m\u001b[0;34m\u001b[0m\u001b[0;34m\u001b[0m\u001b[0m\n\u001b[0;32m--> 196\u001b[0;31m                 \u001b[0;32mraise\u001b[0m \u001b[0mconverted\u001b[0m \u001b[0;32mfrom\u001b[0m \u001b[0;32mNone\u001b[0m\u001b[0;34m\u001b[0m\u001b[0;34m\u001b[0m\u001b[0m\n\u001b[0m\u001b[1;32m    197\u001b[0m             \u001b[0;32melse\u001b[0m\u001b[0;34m:\u001b[0m\u001b[0;34m\u001b[0m\u001b[0;34m\u001b[0m\u001b[0m\n\u001b[1;32m    198\u001b[0m                 \u001b[0;32mraise\u001b[0m\u001b[0;34m\u001b[0m\u001b[0;34m\u001b[0m\u001b[0m\n",
            "\u001b[0;31mAnalysisException\u001b[0m: Union can only be performed on tables with the same number of columns, but the first table has 12 columns and the second table has 11 columns;\n'Union false, false\n:- Relation [PassengerId#56,Survived#57,Pclass#58,Name#59,Sex#60,Age#61,SibSp#62,Parch#63,Ticket#64,Fare#65,Cabin#66,Embarked#67] csv\n+- Relation [PassengerId#17,Pclass#18,Name#19,Sex#20,Age#21,SibSp#22,Parch#23,Ticket#24,Fare#25,Cabin#26,Embarked#27] csv\n"
          ]
        }
      ]
    },
    {
      "cell_type": "code",
      "source": [
        "\n",
        "from pyspark.sql.functions import lit\n",
        "\n",
        "df_test = df_test.withColumn('new', lit(0))\n",
        "df_test = df_test.withColumn('traintest', lit('test'))\n",
        "df_train = df_train.withColumn('traintest',lit('train'))"
      ],
      "metadata": {
        "id": "87nqM_yL3nsU"
      },
      "execution_count": 25,
      "outputs": []
    },
    {
      "cell_type": "code",
      "source": [
        "  df_test = df_test.drop('Survived')"
      ],
      "metadata": {
        "id": "4ZTD7FU68-Y4"
      },
      "execution_count": 26,
      "outputs": []
    },
    {
      "cell_type": "code",
      "source": [
        "df_test.show()"
      ],
      "metadata": {
        "colab": {
          "base_uri": "https://localhost:8080/"
        },
        "id": "p8x1aRLG3np7",
        "outputId": "37eef3fc-c6f3-48f4-f1a4-342c8b9089db"
      },
      "execution_count": null,
      "outputs": [
        {
          "output_type": "stream",
          "name": "stdout",
          "text": [
            "+-----------+------+--------------------+------+----+-----+-----+----------------+-------+-----+--------+---+---------+\n",
            "|PassengerId|Pclass|                Name|   Sex| Age|SibSp|Parch|          Ticket|   Fare|Cabin|Embarked|new|traintest|\n",
            "+-----------+------+--------------------+------+----+-----+-----+----------------+-------+-----+--------+---+---------+\n",
            "|        892|     3|    Kelly, Mr. James|  male|34.5|    0|    0|          330911| 7.8292| null|       Q|  0|     test|\n",
            "|        893|     3|Wilkes, Mrs. Jame...|female|  47|    1|    0|          363272|      7| null|       S|  0|     test|\n",
            "|        894|     2|Myles, Mr. Thomas...|  male|  62|    0|    0|          240276| 9.6875| null|       Q|  0|     test|\n",
            "|        895|     3|    Wirz, Mr. Albert|  male|  27|    0|    0|          315154| 8.6625| null|       S|  0|     test|\n",
            "|        896|     3|Hirvonen, Mrs. Al...|female|  22|    1|    1|         3101298|12.2875| null|       S|  0|     test|\n",
            "|        897|     3|Svensson, Mr. Joh...|  male|  14|    0|    0|            7538|  9.225| null|       S|  0|     test|\n",
            "|        898|     3|Connolly, Miss. Kate|female|  30|    0|    0|          330972| 7.6292| null|       Q|  0|     test|\n",
            "|        899|     2|Caldwell, Mr. Alb...|  male|  26|    1|    1|          248738|     29| null|       S|  0|     test|\n",
            "|        900|     3|Abrahim, Mrs. Jos...|female|  18|    0|    0|            2657| 7.2292| null|       C|  0|     test|\n",
            "|        901|     3|Davies, Mr. John ...|  male|  21|    2|    0|       A/4 48871|  24.15| null|       S|  0|     test|\n",
            "|        902|     3|    Ilieff, Mr. Ylio|  male|null|    0|    0|          349220| 7.8958| null|       S|  0|     test|\n",
            "|        903|     1|Jones, Mr. Charle...|  male|  46|    0|    0|             694|     26| null|       S|  0|     test|\n",
            "|        904|     1|Snyder, Mrs. John...|female|  23|    1|    0|           21228|82.2667|  B45|       S|  0|     test|\n",
            "|        905|     2|Howard, Mr. Benjamin|  male|  63|    1|    0|           24065|     26| null|       S|  0|     test|\n",
            "|        906|     1|Chaffee, Mrs. Her...|female|  47|    1|    0|     W.E.P. 5734| 61.175|  E31|       S|  0|     test|\n",
            "|        907|     2|del Carlo, Mrs. S...|female|  24|    1|    0|   SC/PARIS 2167|27.7208| null|       C|  0|     test|\n",
            "|        908|     2|   Keane, Mr. Daniel|  male|  35|    0|    0|          233734|  12.35| null|       Q|  0|     test|\n",
            "|        909|     3|   Assaf, Mr. Gerios|  male|  21|    0|    0|            2692|  7.225| null|       C|  0|     test|\n",
            "|        910|     3|Ilmakangas, Miss....|female|  27|    1|    0|STON/O2. 3101270|  7.925| null|       S|  0|     test|\n",
            "|        911|     3|\"Assaf Khalil, Mr...|female|  45|    0|    0|            2696|  7.225| null|       C|  0|     test|\n",
            "+-----------+------+--------------------+------+----+-----+-----+----------------+-------+-----+--------+---+---------+\n",
            "only showing top 20 rows\n",
            "\n"
          ]
        }
      ]
    },
    {
      "cell_type": "code",
      "source": [
        "df_test = df_test.withColumnRenamed('new', 'Survived')"
      ],
      "metadata": {
        "id": "iEYQTL263nnp"
      },
      "execution_count": 27,
      "outputs": []
    },
    {
      "cell_type": "code",
      "source": [
        "df_test.show()"
      ],
      "metadata": {
        "colab": {
          "base_uri": "https://localhost:8080/"
        },
        "id": "gNq-dPwA3nkG",
        "outputId": "b1b01e91-956a-418c-928c-17d1307151c6"
      },
      "execution_count": null,
      "outputs": [
        {
          "output_type": "stream",
          "name": "stdout",
          "text": [
            "+-----------+------+--------------------+------+----+-----+-----+----------------+-------+-----+--------+--------+---------+\n",
            "|PassengerId|Pclass|                Name|   Sex| Age|SibSp|Parch|          Ticket|   Fare|Cabin|Embarked|Survived|traintest|\n",
            "+-----------+------+--------------------+------+----+-----+-----+----------------+-------+-----+--------+--------+---------+\n",
            "|        892|     3|    Kelly, Mr. James|  male|34.5|    0|    0|          330911| 7.8292| null|       Q|       0|     test|\n",
            "|        893|     3|Wilkes, Mrs. Jame...|female|  47|    1|    0|          363272|      7| null|       S|       0|     test|\n",
            "|        894|     2|Myles, Mr. Thomas...|  male|  62|    0|    0|          240276| 9.6875| null|       Q|       0|     test|\n",
            "|        895|     3|    Wirz, Mr. Albert|  male|  27|    0|    0|          315154| 8.6625| null|       S|       0|     test|\n",
            "|        896|     3|Hirvonen, Mrs. Al...|female|  22|    1|    1|         3101298|12.2875| null|       S|       0|     test|\n",
            "|        897|     3|Svensson, Mr. Joh...|  male|  14|    0|    0|            7538|  9.225| null|       S|       0|     test|\n",
            "|        898|     3|Connolly, Miss. Kate|female|  30|    0|    0|          330972| 7.6292| null|       Q|       0|     test|\n",
            "|        899|     2|Caldwell, Mr. Alb...|  male|  26|    1|    1|          248738|     29| null|       S|       0|     test|\n",
            "|        900|     3|Abrahim, Mrs. Jos...|female|  18|    0|    0|            2657| 7.2292| null|       C|       0|     test|\n",
            "|        901|     3|Davies, Mr. John ...|  male|  21|    2|    0|       A/4 48871|  24.15| null|       S|       0|     test|\n",
            "|        902|     3|    Ilieff, Mr. Ylio|  male|null|    0|    0|          349220| 7.8958| null|       S|       0|     test|\n",
            "|        903|     1|Jones, Mr. Charle...|  male|  46|    0|    0|             694|     26| null|       S|       0|     test|\n",
            "|        904|     1|Snyder, Mrs. John...|female|  23|    1|    0|           21228|82.2667|  B45|       S|       0|     test|\n",
            "|        905|     2|Howard, Mr. Benjamin|  male|  63|    1|    0|           24065|     26| null|       S|       0|     test|\n",
            "|        906|     1|Chaffee, Mrs. Her...|female|  47|    1|    0|     W.E.P. 5734| 61.175|  E31|       S|       0|     test|\n",
            "|        907|     2|del Carlo, Mrs. S...|female|  24|    1|    0|   SC/PARIS 2167|27.7208| null|       C|       0|     test|\n",
            "|        908|     2|   Keane, Mr. Daniel|  male|  35|    0|    0|          233734|  12.35| null|       Q|       0|     test|\n",
            "|        909|     3|   Assaf, Mr. Gerios|  male|  21|    0|    0|            2692|  7.225| null|       C|       0|     test|\n",
            "|        910|     3|Ilmakangas, Miss....|female|  27|    1|    0|STON/O2. 3101270|  7.925| null|       S|       0|     test|\n",
            "|        911|     3|\"Assaf Khalil, Mr...|female|  45|    0|    0|            2696|  7.225| null|       C|       0|     test|\n",
            "+-----------+------+--------------------+------+----+-----+-----+----------------+-------+-----+--------+--------+---------+\n",
            "only showing top 20 rows\n",
            "\n"
          ]
        }
      ]
    },
    {
      "cell_type": "code",
      "source": [
        "df_test = df_test.select(df_train.columns)"
      ],
      "metadata": {
        "id": "4zZkEln43nh2"
      },
      "execution_count": 28,
      "outputs": []
    },
    {
      "cell_type": "markdown",
      "source": [],
      "metadata": {
        "id": "Sf9-xo_e5BGd"
      }
    },
    {
      "cell_type": "code",
      "source": [
        "df_test.show()"
      ],
      "metadata": {
        "colab": {
          "base_uri": "https://localhost:8080/"
        },
        "id": "1fp-Btw13nfx",
        "outputId": "47218fd1-2689-4a16-8ee0-5bddc19fb277"
      },
      "execution_count": null,
      "outputs": [
        {
          "output_type": "stream",
          "name": "stdout",
          "text": [
            "+-----------+--------+------+--------------------+------+----+-----+-----+----------------+-------+-----+--------+---------+\n",
            "|PassengerId|Survived|Pclass|                Name|   Sex| Age|SibSp|Parch|          Ticket|   Fare|Cabin|Embarked|traintest|\n",
            "+-----------+--------+------+--------------------+------+----+-----+-----+----------------+-------+-----+--------+---------+\n",
            "|        892|       0|     3|    Kelly, Mr. James|  male|34.5|    0|    0|          330911| 7.8292| null|       Q|     test|\n",
            "|        893|       0|     3|Wilkes, Mrs. Jame...|female|  47|    1|    0|          363272|      7| null|       S|     test|\n",
            "|        894|       0|     2|Myles, Mr. Thomas...|  male|  62|    0|    0|          240276| 9.6875| null|       Q|     test|\n",
            "|        895|       0|     3|    Wirz, Mr. Albert|  male|  27|    0|    0|          315154| 8.6625| null|       S|     test|\n",
            "|        896|       0|     3|Hirvonen, Mrs. Al...|female|  22|    1|    1|         3101298|12.2875| null|       S|     test|\n",
            "|        897|       0|     3|Svensson, Mr. Joh...|  male|  14|    0|    0|            7538|  9.225| null|       S|     test|\n",
            "|        898|       0|     3|Connolly, Miss. Kate|female|  30|    0|    0|          330972| 7.6292| null|       Q|     test|\n",
            "|        899|       0|     2|Caldwell, Mr. Alb...|  male|  26|    1|    1|          248738|     29| null|       S|     test|\n",
            "|        900|       0|     3|Abrahim, Mrs. Jos...|female|  18|    0|    0|            2657| 7.2292| null|       C|     test|\n",
            "|        901|       0|     3|Davies, Mr. John ...|  male|  21|    2|    0|       A/4 48871|  24.15| null|       S|     test|\n",
            "|        902|       0|     3|    Ilieff, Mr. Ylio|  male|null|    0|    0|          349220| 7.8958| null|       S|     test|\n",
            "|        903|       0|     1|Jones, Mr. Charle...|  male|  46|    0|    0|             694|     26| null|       S|     test|\n",
            "|        904|       0|     1|Snyder, Mrs. John...|female|  23|    1|    0|           21228|82.2667|  B45|       S|     test|\n",
            "|        905|       0|     2|Howard, Mr. Benjamin|  male|  63|    1|    0|           24065|     26| null|       S|     test|\n",
            "|        906|       0|     1|Chaffee, Mrs. Her...|female|  47|    1|    0|     W.E.P. 5734| 61.175|  E31|       S|     test|\n",
            "|        907|       0|     2|del Carlo, Mrs. S...|female|  24|    1|    0|   SC/PARIS 2167|27.7208| null|       C|     test|\n",
            "|        908|       0|     2|   Keane, Mr. Daniel|  male|  35|    0|    0|          233734|  12.35| null|       Q|     test|\n",
            "|        909|       0|     3|   Assaf, Mr. Gerios|  male|  21|    0|    0|            2692|  7.225| null|       C|     test|\n",
            "|        910|       0|     3|Ilmakangas, Miss....|female|  27|    1|    0|STON/O2. 3101270|  7.925| null|       S|     test|\n",
            "|        911|       0|     3|\"Assaf Khalil, Mr...|female|  45|    0|    0|            2696|  7.225| null|       C|     test|\n",
            "+-----------+--------+------+--------------------+------+----+-----+-----+----------------+-------+-----+--------+---------+\n",
            "only showing top 20 rows\n",
            "\n"
          ]
        }
      ]
    },
    {
      "cell_type": "code",
      "source": [
        "df = df_train.union(df_test)"
      ],
      "metadata": {
        "id": "xCLNQR1l3ndq"
      },
      "execution_count": 29,
      "outputs": []
    },
    {
      "cell_type": "code",
      "source": [
        "df.show()"
      ],
      "metadata": {
        "colab": {
          "base_uri": "https://localhost:8080/"
        },
        "id": "LszjVrxr3nbi",
        "outputId": "f58cafb7-75b4-4e62-e345-067cde5f6d0a"
      },
      "execution_count": null,
      "outputs": [
        {
          "output_type": "stream",
          "name": "stdout",
          "text": [
            "+-----------+--------+------+--------------------+------+----+-----+-----+----------------+-------+-----+--------+---------+\n",
            "|PassengerId|Survived|Pclass|                Name|   Sex| Age|SibSp|Parch|          Ticket|   Fare|Cabin|Embarked|traintest|\n",
            "+-----------+--------+------+--------------------+------+----+-----+-----+----------------+-------+-----+--------+---------+\n",
            "|          1|       0|     3|Braund, Mr. Owen ...|  male|  22|    1|    0|       A/5 21171|   7.25| null|       S|    train|\n",
            "|          2|       1|     1|Cumings, Mrs. Joh...|female|  38|    1|    0|        PC 17599|71.2833|  C85|       C|    train|\n",
            "|          3|       1|     3|Heikkinen, Miss. ...|female|  26|    0|    0|STON/O2. 3101282|  7.925| null|       S|    train|\n",
            "|          4|       1|     1|Futrelle, Mrs. Ja...|female|  35|    1|    0|          113803|   53.1| C123|       S|    train|\n",
            "|          5|       0|     3|Allen, Mr. Willia...|  male|  35|    0|    0|          373450|   8.05| null|       S|    train|\n",
            "|          6|       0|     3|    Moran, Mr. James|  male|null|    0|    0|          330877| 8.4583| null|       Q|    train|\n",
            "|          7|       0|     1|McCarthy, Mr. Tim...|  male|  54|    0|    0|           17463|51.8625|  E46|       S|    train|\n",
            "|          8|       0|     3|Palsson, Master. ...|  male|   2|    3|    1|          349909| 21.075| null|       S|    train|\n",
            "|          9|       1|     3|Johnson, Mrs. Osc...|female|  27|    0|    2|          347742|11.1333| null|       S|    train|\n",
            "|         10|       1|     2|Nasser, Mrs. Nich...|female|  14|    1|    0|          237736|30.0708| null|       C|    train|\n",
            "|         11|       1|     3|Sandstrom, Miss. ...|female|   4|    1|    1|         PP 9549|   16.7|   G6|       S|    train|\n",
            "|         12|       1|     1|Bonnell, Miss. El...|female|  58|    0|    0|          113783|  26.55| C103|       S|    train|\n",
            "|         13|       0|     3|Saundercock, Mr. ...|  male|  20|    0|    0|       A/5. 2151|   8.05| null|       S|    train|\n",
            "|         14|       0|     3|Andersson, Mr. An...|  male|  39|    1|    5|          347082| 31.275| null|       S|    train|\n",
            "|         15|       0|     3|Vestrom, Miss. Hu...|female|  14|    0|    0|          350406| 7.8542| null|       S|    train|\n",
            "|         16|       1|     2|Hewlett, Mrs. (Ma...|female|  55|    0|    0|          248706|     16| null|       S|    train|\n",
            "|         17|       0|     3|Rice, Master. Eugene|  male|   2|    4|    1|          382652| 29.125| null|       Q|    train|\n",
            "|         18|       1|     2|Williams, Mr. Cha...|  male|null|    0|    0|          244373|     13| null|       S|    train|\n",
            "|         19|       0|     3|Vander Planke, Mr...|female|  31|    1|    0|          345763|     18| null|       S|    train|\n",
            "|         20|       1|     3|Masselmani, Mrs. ...|female|null|    0|    0|            2649|  7.225| null|       C|    train|\n",
            "+-----------+--------+------+--------------------+------+----+-----+-----+----------------+-------+-----+--------+---------+\n",
            "only showing top 20 rows\n",
            "\n"
          ]
        }
      ]
    },
    {
      "cell_type": "code",
      "source": [
        "df.count()"
      ],
      "metadata": {
        "colab": {
          "base_uri": "https://localhost:8080/"
        },
        "id": "0m-YCcN-3nZP",
        "outputId": "52978e5e-899d-4046-c971-dd7057f38a3a"
      },
      "execution_count": 30,
      "outputs": [
        {
          "output_type": "execute_result",
          "data": {
            "text/plain": [
              "1309"
            ]
          },
          "metadata": {},
          "execution_count": 30
        }
      ]
    },
    {
      "cell_type": "code",
      "source": [
        "df_train.count()"
      ],
      "metadata": {
        "colab": {
          "base_uri": "https://localhost:8080/"
        },
        "id": "62qgbK5F3nXI",
        "outputId": "adf98911-e966-4815-bc6c-ff484e0eab57"
      },
      "execution_count": 31,
      "outputs": [
        {
          "output_type": "execute_result",
          "data": {
            "text/plain": [
              "891"
            ]
          },
          "metadata": {},
          "execution_count": 31
        }
      ]
    },
    {
      "cell_type": "code",
      "source": [
        "df.printSchema()"
      ],
      "metadata": {
        "colab": {
          "base_uri": "https://localhost:8080/"
        },
        "id": "V49ibI633nVJ",
        "outputId": "d66e2fdf-21d8-43f4-a5e7-eed9799e744a"
      },
      "execution_count": 32,
      "outputs": [
        {
          "output_type": "stream",
          "name": "stdout",
          "text": [
            "root\n",
            " |-- PassengerId: string (nullable = true)\n",
            " |-- Survived: string (nullable = true)\n",
            " |-- Pclass: string (nullable = true)\n",
            " |-- Name: string (nullable = true)\n",
            " |-- Sex: string (nullable = true)\n",
            " |-- Age: string (nullable = true)\n",
            " |-- SibSp: string (nullable = true)\n",
            " |-- Parch: string (nullable = true)\n",
            " |-- Ticket: string (nullable = true)\n",
            " |-- Fare: string (nullable = true)\n",
            " |-- Cabin: string (nullable = true)\n",
            " |-- Embarked: string (nullable = true)\n",
            " |-- traintest: string (nullable = false)\n",
            "\n"
          ]
        }
      ]
    },
    {
      "cell_type": "code",
      "source": [
        "from pyspark.sql.functions import col,isnan, when, count\n",
        "df.select([count(when(isnan(c) | col(c).isNull(), c)).alias(c) for c in df.columns]\n",
        "   ).show()\n"
      ],
      "metadata": {
        "colab": {
          "base_uri": "https://localhost:8080/"
        },
        "id": "_8_vPi8Q3nTA",
        "outputId": "9da02f59-3b86-45ef-ebc1-86c0d136c10a"
      },
      "execution_count": 33,
      "outputs": [
        {
          "output_type": "stream",
          "name": "stdout",
          "text": [
            "+-----------+--------+------+----+---+---+-----+-----+------+----+-----+--------+---------+\n",
            "|PassengerId|Survived|Pclass|Name|Sex|Age|SibSp|Parch|Ticket|Fare|Cabin|Embarked|traintest|\n",
            "+-----------+--------+------+----+---+---+-----+-----+------+----+-----+--------+---------+\n",
            "|          0|       0|     0|   0|  0|263|    0|    0|     0|   1| 1014|       2|        0|\n",
            "+-----------+--------+------+----+---+---+-----+-----+------+----+-----+--------+---------+\n",
            "\n"
          ]
        }
      ]
    },
    {
      "cell_type": "code",
      "source": [
        "df.count()"
      ],
      "metadata": {
        "colab": {
          "base_uri": "https://localhost:8080/"
        },
        "id": "CboraO1aCXrO",
        "outputId": "0bd494e2-1b61-4392-984b-b4255dda8537"
      },
      "execution_count": null,
      "outputs": [
        {
          "output_type": "execute_result",
          "data": {
            "text/plain": [
              "1309"
            ]
          },
          "metadata": {},
          "execution_count": 153
        }
      ]
    },
    {
      "cell_type": "code",
      "source": [],
      "metadata": {
        "id": "3Fr1ae2P3nQ-"
      },
      "execution_count": null,
      "outputs": []
    },
    {
      "cell_type": "code",
      "source": [],
      "metadata": {
        "colab": {
          "base_uri": "https://localhost:8080/"
        },
        "id": "iswlY9Ko3nPC",
        "outputId": "4d8e2b2a-ce41-4c5a-e4e8-020a06394c43"
      },
      "execution_count": null,
      "outputs": [
        {
          "output_type": "execute_result",
          "data": {
            "text/plain": [
              "1046"
            ]
          },
          "metadata": {},
          "execution_count": 155
        }
      ]
    },
    {
      "cell_type": "code",
      "source": [],
      "metadata": {
        "id": "P707rrAB3nM7"
      },
      "execution_count": null,
      "outputs": []
    },
    {
      "cell_type": "code",
      "source": [],
      "metadata": {
        "colab": {
          "base_uri": "https://localhost:8080/"
        },
        "id": "RnQEIqoO3nK5",
        "outputId": "9b50a5d8-3f3b-4742-cf00-012d56285a21"
      },
      "execution_count": null,
      "outputs": [
        {
          "output_type": "execute_result",
          "data": {
            "text/plain": [
              "['PassengerId',\n",
              " 'Survived',\n",
              " 'Pclass',\n",
              " 'Name',\n",
              " 'Sex',\n",
              " 'Age',\n",
              " 'SibSp',\n",
              " 'Parch',\n",
              " 'Ticket',\n",
              " 'Fare',\n",
              " 'Cabin',\n",
              " 'Embarked',\n",
              " 'traintest']"
            ]
          },
          "metadata": {},
          "execution_count": 157
        }
      ]
    },
    {
      "cell_type": "code",
      "source": [
        "from pyspark.ml.feature import VectorAssembler\n"
      ],
      "metadata": {
        "id": "tfQfRHMe3nI_"
      },
      "execution_count": null,
      "outputs": []
    },
    {
      "cell_type": "code",
      "source": [],
      "metadata": {
        "id": "UFFyZCh73nFC"
      },
      "execution_count": null,
      "outputs": []
    },
    {
      "cell_type": "code",
      "source": [],
      "metadata": {
        "id": "ZAC7Yp7I3nDC"
      },
      "execution_count": null,
      "outputs": []
    },
    {
      "cell_type": "code",
      "source": [],
      "metadata": {
        "colab": {
          "base_uri": "https://localhost:8080/"
        },
        "id": "ihoinWwE3nA_",
        "outputId": "62a033f5-24a9-43b7-c3cc-80295881c117"
      },
      "execution_count": null,
      "outputs": [
        {
          "output_type": "execute_result",
          "data": {
            "text/plain": [
              "['PassengerId',\n",
              " 'Survived',\n",
              " 'Pclass',\n",
              " 'Name',\n",
              " 'Sex',\n",
              " 'Age',\n",
              " 'SibSp',\n",
              " 'Parch',\n",
              " 'Ticket',\n",
              " 'Fare',\n",
              " 'Embarked',\n",
              " 'traintest']"
            ]
          },
          "metadata": {},
          "execution_count": 161
        }
      ]
    },
    {
      "cell_type": "code",
      "source": [],
      "metadata": {
        "id": "PRaPUKs73m_G"
      },
      "execution_count": null,
      "outputs": []
    },
    {
      "cell_type": "code",
      "source": [],
      "metadata": {
        "id": "BHe_7-6J3m8v"
      },
      "execution_count": null,
      "outputs": []
    },
    {
      "cell_type": "code",
      "source": [],
      "metadata": {
        "id": "Oz-ML7xy3m6e"
      },
      "execution_count": null,
      "outputs": []
    },
    {
      "cell_type": "code",
      "source": [
        "df.show()"
      ],
      "metadata": {
        "colab": {
          "base_uri": "https://localhost:8080/"
        },
        "id": "MWTard2THuGP",
        "outputId": "8491a4a5-107a-4d68-94a1-fee9368a1304"
      },
      "execution_count": null,
      "outputs": [
        {
          "output_type": "stream",
          "name": "stdout",
          "text": [
            "+-----------+--------+------+--------------------+------+----+-----+-----+----------------+-------+-----+--------+---------+\n",
            "|PassengerId|Survived|Pclass|                Name|   Sex| Age|SibSp|Parch|          Ticket|   Fare|Cabin|Embarked|traintest|\n",
            "+-----------+--------+------+--------------------+------+----+-----+-----+----------------+-------+-----+--------+---------+\n",
            "|          1|       0|     3|Braund, Mr. Owen ...|  male|  22|    1|    0|       A/5 21171|   7.25| null|       S|    train|\n",
            "|          2|       1|     1|Cumings, Mrs. Joh...|female|  38|    1|    0|        PC 17599|71.2833|  C85|       C|    train|\n",
            "|          3|       1|     3|Heikkinen, Miss. ...|female|  26|    0|    0|STON/O2. 3101282|  7.925| null|       S|    train|\n",
            "|          4|       1|     1|Futrelle, Mrs. Ja...|female|  35|    1|    0|          113803|   53.1| C123|       S|    train|\n",
            "|          5|       0|     3|Allen, Mr. Willia...|  male|  35|    0|    0|          373450|   8.05| null|       S|    train|\n",
            "|          6|       0|     3|    Moran, Mr. James|  male|null|    0|    0|          330877| 8.4583| null|       Q|    train|\n",
            "|          7|       0|     1|McCarthy, Mr. Tim...|  male|  54|    0|    0|           17463|51.8625|  E46|       S|    train|\n",
            "|          8|       0|     3|Palsson, Master. ...|  male|   2|    3|    1|          349909| 21.075| null|       S|    train|\n",
            "|          9|       1|     3|Johnson, Mrs. Osc...|female|  27|    0|    2|          347742|11.1333| null|       S|    train|\n",
            "|         10|       1|     2|Nasser, Mrs. Nich...|female|  14|    1|    0|          237736|30.0708| null|       C|    train|\n",
            "|         11|       1|     3|Sandstrom, Miss. ...|female|   4|    1|    1|         PP 9549|   16.7|   G6|       S|    train|\n",
            "|         12|       1|     1|Bonnell, Miss. El...|female|  58|    0|    0|          113783|  26.55| C103|       S|    train|\n",
            "|         13|       0|     3|Saundercock, Mr. ...|  male|  20|    0|    0|       A/5. 2151|   8.05| null|       S|    train|\n",
            "|         14|       0|     3|Andersson, Mr. An...|  male|  39|    1|    5|          347082| 31.275| null|       S|    train|\n",
            "|         15|       0|     3|Vestrom, Miss. Hu...|female|  14|    0|    0|          350406| 7.8542| null|       S|    train|\n",
            "|         16|       1|     2|Hewlett, Mrs. (Ma...|female|  55|    0|    0|          248706|     16| null|       S|    train|\n",
            "|         17|       0|     3|Rice, Master. Eugene|  male|   2|    4|    1|          382652| 29.125| null|       Q|    train|\n",
            "|         18|       1|     2|Williams, Mr. Cha...|  male|null|    0|    0|          244373|     13| null|       S|    train|\n",
            "|         19|       0|     3|Vander Planke, Mr...|female|  31|    1|    0|          345763|     18| null|       S|    train|\n",
            "|         20|       1|     3|Masselmani, Mrs. ...|female|null|    0|    0|            2649|  7.225| null|       C|    train|\n",
            "+-----------+--------+------+--------------------+------+----+-----+-----+----------------+-------+-----+--------+---------+\n",
            "only showing top 20 rows\n",
            "\n"
          ]
        }
      ]
    },
    {
      "cell_type": "code",
      "source": [
        "from pyspark.ml.feature import StringIndexer\n",
        "\n",
        "indexer = StringIndexer(inputCol='Sex', outputCol = 'SexEncoded')\n",
        "indexer_fitted = indexer.fit(df)"
      ],
      "metadata": {
        "id": "ZwuuhTQiHs9j"
      },
      "execution_count": 34,
      "outputs": []
    },
    {
      "cell_type": "code",
      "source": [
        "df = indexer_fitted.transform(df)\n",
        "df.show()"
      ],
      "metadata": {
        "colab": {
          "base_uri": "https://localhost:8080/"
        },
        "id": "lHjEofMbI53j",
        "outputId": "0d706713-1ca9-45ae-b04b-110b078279e6"
      },
      "execution_count": 35,
      "outputs": [
        {
          "output_type": "stream",
          "name": "stdout",
          "text": [
            "+-----------+--------+------+--------------------+------+----+-----+-----+----------------+-------+-----+--------+---------+----------+\n",
            "|PassengerId|Survived|Pclass|                Name|   Sex| Age|SibSp|Parch|          Ticket|   Fare|Cabin|Embarked|traintest|SexEncoded|\n",
            "+-----------+--------+------+--------------------+------+----+-----+-----+----------------+-------+-----+--------+---------+----------+\n",
            "|          1|       0|     3|Braund, Mr. Owen ...|  male|  22|    1|    0|       A/5 21171|   7.25| null|       S|    train|       0.0|\n",
            "|          2|       1|     1|Cumings, Mrs. Joh...|female|  38|    1|    0|        PC 17599|71.2833|  C85|       C|    train|       1.0|\n",
            "|          3|       1|     3|Heikkinen, Miss. ...|female|  26|    0|    0|STON/O2. 3101282|  7.925| null|       S|    train|       1.0|\n",
            "|          4|       1|     1|Futrelle, Mrs. Ja...|female|  35|    1|    0|          113803|   53.1| C123|       S|    train|       1.0|\n",
            "|          5|       0|     3|Allen, Mr. Willia...|  male|  35|    0|    0|          373450|   8.05| null|       S|    train|       0.0|\n",
            "|          6|       0|     3|    Moran, Mr. James|  male|null|    0|    0|          330877| 8.4583| null|       Q|    train|       0.0|\n",
            "|          7|       0|     1|McCarthy, Mr. Tim...|  male|  54|    0|    0|           17463|51.8625|  E46|       S|    train|       0.0|\n",
            "|          8|       0|     3|Palsson, Master. ...|  male|   2|    3|    1|          349909| 21.075| null|       S|    train|       0.0|\n",
            "|          9|       1|     3|Johnson, Mrs. Osc...|female|  27|    0|    2|          347742|11.1333| null|       S|    train|       1.0|\n",
            "|         10|       1|     2|Nasser, Mrs. Nich...|female|  14|    1|    0|          237736|30.0708| null|       C|    train|       1.0|\n",
            "|         11|       1|     3|Sandstrom, Miss. ...|female|   4|    1|    1|         PP 9549|   16.7|   G6|       S|    train|       1.0|\n",
            "|         12|       1|     1|Bonnell, Miss. El...|female|  58|    0|    0|          113783|  26.55| C103|       S|    train|       1.0|\n",
            "|         13|       0|     3|Saundercock, Mr. ...|  male|  20|    0|    0|       A/5. 2151|   8.05| null|       S|    train|       0.0|\n",
            "|         14|       0|     3|Andersson, Mr. An...|  male|  39|    1|    5|          347082| 31.275| null|       S|    train|       0.0|\n",
            "|         15|       0|     3|Vestrom, Miss. Hu...|female|  14|    0|    0|          350406| 7.8542| null|       S|    train|       1.0|\n",
            "|         16|       1|     2|Hewlett, Mrs. (Ma...|female|  55|    0|    0|          248706|     16| null|       S|    train|       1.0|\n",
            "|         17|       0|     3|Rice, Master. Eugene|  male|   2|    4|    1|          382652| 29.125| null|       Q|    train|       0.0|\n",
            "|         18|       1|     2|Williams, Mr. Cha...|  male|null|    0|    0|          244373|     13| null|       S|    train|       0.0|\n",
            "|         19|       0|     3|Vander Planke, Mr...|female|  31|    1|    0|          345763|     18| null|       S|    train|       1.0|\n",
            "|         20|       1|     3|Masselmani, Mrs. ...|female|null|    0|    0|            2649|  7.225| null|       C|    train|       1.0|\n",
            "+-----------+--------+------+--------------------+------+----+-----+-----+----------------+-------+-----+--------+---------+----------+\n",
            "only showing top 20 rows\n",
            "\n"
          ]
        }
      ]
    },
    {
      "cell_type": "code",
      "source": [
        "df.withColumn('sex', df['SexEncoded'])"
      ],
      "metadata": {
        "colab": {
          "base_uri": "https://localhost:8080/"
        },
        "id": "P3hq2Sd9I51V",
        "outputId": "656c5460-67c6-4ebd-ebe3-f483341e578c"
      },
      "execution_count": 36,
      "outputs": [
        {
          "output_type": "execute_result",
          "data": {
            "text/plain": [
              "DataFrame[PassengerId: string, Survived: string, Pclass: string, Name: string, sex: double, Age: string, SibSp: string, Parch: string, Ticket: string, Fare: string, Cabin: string, Embarked: string, traintest: string, SexEncoded: double]"
            ]
          },
          "metadata": {},
          "execution_count": 36
        }
      ]
    },
    {
      "cell_type": "code",
      "source": [
        "df = df.withColumn('sex', df['SexEncoded'])"
      ],
      "metadata": {
        "id": "2Jm8-SobI5y4"
      },
      "execution_count": 37,
      "outputs": []
    },
    {
      "cell_type": "code",
      "source": [
        "df.show()"
      ],
      "metadata": {
        "colab": {
          "base_uri": "https://localhost:8080/"
        },
        "id": "v8dm8_N3I5wq",
        "outputId": "1bde4222-241e-431d-c129-0bd2dfbd0641"
      },
      "execution_count": null,
      "outputs": [
        {
          "output_type": "stream",
          "name": "stdout",
          "text": [
            "+-----------+--------+------+--------------------+---+----+-----+-----+----------------+-------+-----+--------+---------+----------+\n",
            "|PassengerId|Survived|Pclass|                Name|sex| Age|SibSp|Parch|          Ticket|   Fare|Cabin|Embarked|traintest|SexEncoded|\n",
            "+-----------+--------+------+--------------------+---+----+-----+-----+----------------+-------+-----+--------+---------+----------+\n",
            "|          1|       0|     3|Braund, Mr. Owen ...|0.0|  22|    1|    0|       A/5 21171|   7.25| null|       S|    train|       0.0|\n",
            "|          2|       1|     1|Cumings, Mrs. Joh...|1.0|  38|    1|    0|        PC 17599|71.2833|  C85|       C|    train|       1.0|\n",
            "|          3|       1|     3|Heikkinen, Miss. ...|1.0|  26|    0|    0|STON/O2. 3101282|  7.925| null|       S|    train|       1.0|\n",
            "|          4|       1|     1|Futrelle, Mrs. Ja...|1.0|  35|    1|    0|          113803|   53.1| C123|       S|    train|       1.0|\n",
            "|          5|       0|     3|Allen, Mr. Willia...|0.0|  35|    0|    0|          373450|   8.05| null|       S|    train|       0.0|\n",
            "|          6|       0|     3|    Moran, Mr. James|0.0|null|    0|    0|          330877| 8.4583| null|       Q|    train|       0.0|\n",
            "|          7|       0|     1|McCarthy, Mr. Tim...|0.0|  54|    0|    0|           17463|51.8625|  E46|       S|    train|       0.0|\n",
            "|          8|       0|     3|Palsson, Master. ...|0.0|   2|    3|    1|          349909| 21.075| null|       S|    train|       0.0|\n",
            "|          9|       1|     3|Johnson, Mrs. Osc...|1.0|  27|    0|    2|          347742|11.1333| null|       S|    train|       1.0|\n",
            "|         10|       1|     2|Nasser, Mrs. Nich...|1.0|  14|    1|    0|          237736|30.0708| null|       C|    train|       1.0|\n",
            "|         11|       1|     3|Sandstrom, Miss. ...|1.0|   4|    1|    1|         PP 9549|   16.7|   G6|       S|    train|       1.0|\n",
            "|         12|       1|     1|Bonnell, Miss. El...|1.0|  58|    0|    0|          113783|  26.55| C103|       S|    train|       1.0|\n",
            "|         13|       0|     3|Saundercock, Mr. ...|0.0|  20|    0|    0|       A/5. 2151|   8.05| null|       S|    train|       0.0|\n",
            "|         14|       0|     3|Andersson, Mr. An...|0.0|  39|    1|    5|          347082| 31.275| null|       S|    train|       0.0|\n",
            "|         15|       0|     3|Vestrom, Miss. Hu...|1.0|  14|    0|    0|          350406| 7.8542| null|       S|    train|       1.0|\n",
            "|         16|       1|     2|Hewlett, Mrs. (Ma...|1.0|  55|    0|    0|          248706|     16| null|       S|    train|       1.0|\n",
            "|         17|       0|     3|Rice, Master. Eugene|0.0|   2|    4|    1|          382652| 29.125| null|       Q|    train|       0.0|\n",
            "|         18|       1|     2|Williams, Mr. Cha...|0.0|null|    0|    0|          244373|     13| null|       S|    train|       0.0|\n",
            "|         19|       0|     3|Vander Planke, Mr...|1.0|  31|    1|    0|          345763|     18| null|       S|    train|       1.0|\n",
            "|         20|       1|     3|Masselmani, Mrs. ...|1.0|null|    0|    0|            2649|  7.225| null|       C|    train|       1.0|\n",
            "+-----------+--------+------+--------------------+---+----+-----+-----+----------------+-------+-----+--------+---------+----------+\n",
            "only showing top 20 rows\n",
            "\n"
          ]
        }
      ]
    },
    {
      "cell_type": "code",
      "source": [
        "df = df.drop('SexEncoded')"
      ],
      "metadata": {
        "id": "0yi5XhivI5up"
      },
      "execution_count": 38,
      "outputs": []
    },
    {
      "cell_type": "code",
      "source": [
        "df.show()"
      ],
      "metadata": {
        "colab": {
          "base_uri": "https://localhost:8080/"
        },
        "id": "iHKt69TBI5sN",
        "outputId": "08570cf1-5a4e-4e27-d3b6-0b1aa7615038"
      },
      "execution_count": 39,
      "outputs": [
        {
          "output_type": "stream",
          "name": "stdout",
          "text": [
            "+-----------+--------+------+--------------------+---+----+-----+-----+----------------+-------+-----+--------+---------+\n",
            "|PassengerId|Survived|Pclass|                Name|sex| Age|SibSp|Parch|          Ticket|   Fare|Cabin|Embarked|traintest|\n",
            "+-----------+--------+------+--------------------+---+----+-----+-----+----------------+-------+-----+--------+---------+\n",
            "|          1|       0|     3|Braund, Mr. Owen ...|0.0|  22|    1|    0|       A/5 21171|   7.25| null|       S|    train|\n",
            "|          2|       1|     1|Cumings, Mrs. Joh...|1.0|  38|    1|    0|        PC 17599|71.2833|  C85|       C|    train|\n",
            "|          3|       1|     3|Heikkinen, Miss. ...|1.0|  26|    0|    0|STON/O2. 3101282|  7.925| null|       S|    train|\n",
            "|          4|       1|     1|Futrelle, Mrs. Ja...|1.0|  35|    1|    0|          113803|   53.1| C123|       S|    train|\n",
            "|          5|       0|     3|Allen, Mr. Willia...|0.0|  35|    0|    0|          373450|   8.05| null|       S|    train|\n",
            "|          6|       0|     3|    Moran, Mr. James|0.0|null|    0|    0|          330877| 8.4583| null|       Q|    train|\n",
            "|          7|       0|     1|McCarthy, Mr. Tim...|0.0|  54|    0|    0|           17463|51.8625|  E46|       S|    train|\n",
            "|          8|       0|     3|Palsson, Master. ...|0.0|   2|    3|    1|          349909| 21.075| null|       S|    train|\n",
            "|          9|       1|     3|Johnson, Mrs. Osc...|1.0|  27|    0|    2|          347742|11.1333| null|       S|    train|\n",
            "|         10|       1|     2|Nasser, Mrs. Nich...|1.0|  14|    1|    0|          237736|30.0708| null|       C|    train|\n",
            "|         11|       1|     3|Sandstrom, Miss. ...|1.0|   4|    1|    1|         PP 9549|   16.7|   G6|       S|    train|\n",
            "|         12|       1|     1|Bonnell, Miss. El...|1.0|  58|    0|    0|          113783|  26.55| C103|       S|    train|\n",
            "|         13|       0|     3|Saundercock, Mr. ...|0.0|  20|    0|    0|       A/5. 2151|   8.05| null|       S|    train|\n",
            "|         14|       0|     3|Andersson, Mr. An...|0.0|  39|    1|    5|          347082| 31.275| null|       S|    train|\n",
            "|         15|       0|     3|Vestrom, Miss. Hu...|1.0|  14|    0|    0|          350406| 7.8542| null|       S|    train|\n",
            "|         16|       1|     2|Hewlett, Mrs. (Ma...|1.0|  55|    0|    0|          248706|     16| null|       S|    train|\n",
            "|         17|       0|     3|Rice, Master. Eugene|0.0|   2|    4|    1|          382652| 29.125| null|       Q|    train|\n",
            "|         18|       1|     2|Williams, Mr. Cha...|0.0|null|    0|    0|          244373|     13| null|       S|    train|\n",
            "|         19|       0|     3|Vander Planke, Mr...|1.0|  31|    1|    0|          345763|     18| null|       S|    train|\n",
            "|         20|       1|     3|Masselmani, Mrs. ...|1.0|null|    0|    0|            2649|  7.225| null|       C|    train|\n",
            "+-----------+--------+------+--------------------+---+----+-----+-----+----------------+-------+-----+--------+---------+\n",
            "only showing top 20 rows\n",
            "\n"
          ]
        }
      ]
    },
    {
      "cell_type": "code",
      "source": [],
      "metadata": {
        "id": "nbuvNvTXI5py"
      },
      "execution_count": null,
      "outputs": []
    },
    {
      "cell_type": "code",
      "source": [
        "df.collect()[7]['Name']"
      ],
      "metadata": {
        "colab": {
          "base_uri": "https://localhost:8080/",
          "height": 35
        },
        "id": "TMYRJ18YI5nv",
        "outputId": "81fe9856-c5dc-42ad-be18-7f77905f94f5"
      },
      "execution_count": null,
      "outputs": [
        {
          "output_type": "execute_result",
          "data": {
            "text/plain": [
              "'Palsson, Master. Gosta Leonard'"
            ],
            "application/vnd.google.colaboratory.intrinsic+json": {
              "type": "string"
            }
          },
          "metadata": {},
          "execution_count": 172
        }
      ]
    },
    {
      "cell_type": "code",
      "source": [
        "df = df.fillna(value = '0', subset=['Cabin'])"
      ],
      "metadata": {
        "id": "vSEv1-XhI5lh"
      },
      "execution_count": 40,
      "outputs": []
    },
    {
      "cell_type": "code",
      "source": [
        "df.show()"
      ],
      "metadata": {
        "colab": {
          "base_uri": "https://localhost:8080/"
        },
        "id": "G17Bx64TMl3O",
        "outputId": "3e41a4e5-d098-42b0-8906-b4abfa0d6913"
      },
      "execution_count": 41,
      "outputs": [
        {
          "output_type": "stream",
          "name": "stdout",
          "text": [
            "+-----------+--------+------+--------------------+---+----+-----+-----+----------------+-------+-----+--------+---------+\n",
            "|PassengerId|Survived|Pclass|                Name|sex| Age|SibSp|Parch|          Ticket|   Fare|Cabin|Embarked|traintest|\n",
            "+-----------+--------+------+--------------------+---+----+-----+-----+----------------+-------+-----+--------+---------+\n",
            "|          1|       0|     3|Braund, Mr. Owen ...|0.0|  22|    1|    0|       A/5 21171|   7.25|    0|       S|    train|\n",
            "|          2|       1|     1|Cumings, Mrs. Joh...|1.0|  38|    1|    0|        PC 17599|71.2833|  C85|       C|    train|\n",
            "|          3|       1|     3|Heikkinen, Miss. ...|1.0|  26|    0|    0|STON/O2. 3101282|  7.925|    0|       S|    train|\n",
            "|          4|       1|     1|Futrelle, Mrs. Ja...|1.0|  35|    1|    0|          113803|   53.1| C123|       S|    train|\n",
            "|          5|       0|     3|Allen, Mr. Willia...|0.0|  35|    0|    0|          373450|   8.05|    0|       S|    train|\n",
            "|          6|       0|     3|    Moran, Mr. James|0.0|null|    0|    0|          330877| 8.4583|    0|       Q|    train|\n",
            "|          7|       0|     1|McCarthy, Mr. Tim...|0.0|  54|    0|    0|           17463|51.8625|  E46|       S|    train|\n",
            "|          8|       0|     3|Palsson, Master. ...|0.0|   2|    3|    1|          349909| 21.075|    0|       S|    train|\n",
            "|          9|       1|     3|Johnson, Mrs. Osc...|1.0|  27|    0|    2|          347742|11.1333|    0|       S|    train|\n",
            "|         10|       1|     2|Nasser, Mrs. Nich...|1.0|  14|    1|    0|          237736|30.0708|    0|       C|    train|\n",
            "|         11|       1|     3|Sandstrom, Miss. ...|1.0|   4|    1|    1|         PP 9549|   16.7|   G6|       S|    train|\n",
            "|         12|       1|     1|Bonnell, Miss. El...|1.0|  58|    0|    0|          113783|  26.55| C103|       S|    train|\n",
            "|         13|       0|     3|Saundercock, Mr. ...|0.0|  20|    0|    0|       A/5. 2151|   8.05|    0|       S|    train|\n",
            "|         14|       0|     3|Andersson, Mr. An...|0.0|  39|    1|    5|          347082| 31.275|    0|       S|    train|\n",
            "|         15|       0|     3|Vestrom, Miss. Hu...|1.0|  14|    0|    0|          350406| 7.8542|    0|       S|    train|\n",
            "|         16|       1|     2|Hewlett, Mrs. (Ma...|1.0|  55|    0|    0|          248706|     16|    0|       S|    train|\n",
            "|         17|       0|     3|Rice, Master. Eugene|0.0|   2|    4|    1|          382652| 29.125|    0|       Q|    train|\n",
            "|         18|       1|     2|Williams, Mr. Cha...|0.0|null|    0|    0|          244373|     13|    0|       S|    train|\n",
            "|         19|       0|     3|Vander Planke, Mr...|1.0|  31|    1|    0|          345763|     18|    0|       S|    train|\n",
            "|         20|       1|     3|Masselmani, Mrs. ...|1.0|null|    0|    0|            2649|  7.225|    0|       C|    train|\n",
            "+-----------+--------+------+--------------------+---+----+-----+-----+----------------+-------+-----+--------+---------+\n",
            "only showing top 20 rows\n",
            "\n"
          ]
        }
      ]
    },
    {
      "cell_type": "code",
      "source": [
        "df.select([count(when(isnan(c) | col(c).isNull(), c)).alias(c) for c in df.columns]\n",
        "   ).show()"
      ],
      "metadata": {
        "colab": {
          "base_uri": "https://localhost:8080/"
        },
        "id": "XE2tMXC9Ty57",
        "outputId": "e42db688-3b94-451f-cbb5-144885ffa1b9"
      },
      "execution_count": 42,
      "outputs": [
        {
          "output_type": "stream",
          "name": "stdout",
          "text": [
            "+-----------+--------+------+----+---+---+-----+-----+------+----+-----+--------+---------+\n",
            "|PassengerId|Survived|Pclass|Name|sex|Age|SibSp|Parch|Ticket|Fare|Cabin|Embarked|traintest|\n",
            "+-----------+--------+------+----+---+---+-----+-----+------+----+-----+--------+---------+\n",
            "|          0|       0|     0|   0|  0|263|    0|    0|     0|   1|    0|       2|        0|\n",
            "+-----------+--------+------+----+---+---+-----+-----+------+----+-----+--------+---------+\n",
            "\n"
          ]
        }
      ]
    },
    {
      "cell_type": "code",
      "source": [
        "null_embarked_df = df.filter(df.Embarked.isNull())\n",
        "null_embarked_df.show(truncate=False)"
      ],
      "metadata": {
        "colab": {
          "base_uri": "https://localhost:8080/"
        },
        "id": "Se12tvfSTy3Q",
        "outputId": "82801e58-4f86-46b1-af70-dab18f47e732"
      },
      "execution_count": 43,
      "outputs": [
        {
          "output_type": "stream",
          "name": "stdout",
          "text": [
            "+-----------+--------+------+-----------------------------------------+---+---+-----+-----+------+----+-----+--------+---------+\n",
            "|PassengerId|Survived|Pclass|Name                                     |sex|Age|SibSp|Parch|Ticket|Fare|Cabin|Embarked|traintest|\n",
            "+-----------+--------+------+-----------------------------------------+---+---+-----+-----+------+----+-----+--------+---------+\n",
            "|62         |1       |1     |Icard, Miss. Amelie                      |1.0|38 |0    |0    |113572|80  |B28  |null    |train    |\n",
            "|830        |1       |1     |Stone, Mrs. George Nelson (Martha Evelyn)|1.0|62 |0    |0    |113572|80  |B28  |null    |train    |\n",
            "+-----------+--------+------+-----------------------------------------+---+---+-----+-----+------+----+-----+--------+---------+\n",
            "\n"
          ]
        }
      ]
    },
    {
      "cell_type": "code",
      "source": [
        "df = df.na.drop(subset = ['Embarked'])"
      ],
      "metadata": {
        "id": "LoHotbUVTy0c"
      },
      "execution_count": 44,
      "outputs": []
    },
    {
      "cell_type": "code",
      "source": [
        "df = df.na.drop(subset = ['Fare'])"
      ],
      "metadata": {
        "id": "8LB75on-UsC0"
      },
      "execution_count": 46,
      "outputs": []
    },
    {
      "cell_type": "code",
      "source": [
        "df.select([count(when(isnan(c) | col(c).isNull(), c)).alias(c) for c in df.columns]\n",
        "   ).show()"
      ],
      "metadata": {
        "colab": {
          "base_uri": "https://localhost:8080/"
        },
        "id": "LO4dktRrTyyB",
        "outputId": "705f7b1d-d313-4244-fb15-268994e766eb"
      },
      "execution_count": 47,
      "outputs": [
        {
          "output_type": "stream",
          "name": "stdout",
          "text": [
            "+-----------+--------+------+----+---+---+-----+-----+------+----+-----+--------+---------+\n",
            "|PassengerId|Survived|Pclass|Name|sex|Age|SibSp|Parch|Ticket|Fare|Cabin|Embarked|traintest|\n",
            "+-----------+--------+------+----+---+---+-----+-----+------+----+-----+--------+---------+\n",
            "|          0|       0|     0|   0|  0|263|    0|    0|     0|   0|    0|       0|        0|\n",
            "+-----------+--------+------+----+---+---+-----+-----+------+----+-----+--------+---------+\n",
            "\n"
          ]
        }
      ]
    },
    {
      "cell_type": "code",
      "source": [
        "indexer = StringIndexer(inputCol='Embarked', outputCol = 'EmbarkedEncoded')\n",
        "indexer_fitted = indexer.fit(df)"
      ],
      "metadata": {
        "id": "eKdP7SYnI5jP"
      },
      "execution_count": 48,
      "outputs": []
    },
    {
      "cell_type": "code",
      "source": [],
      "metadata": {
        "colab": {
          "base_uri": "https://localhost:8080/",
          "height": 165
        },
        "id": "gIcU3-GnLe4t",
        "outputId": "ff7397ed-e538-4c54-c767-37fcd2dbc734"
      },
      "execution_count": null,
      "outputs": [
        {
          "output_type": "error",
          "ename": "AttributeError",
          "evalue": "ignored",
          "traceback": [
            "\u001b[0;31m---------------------------------------------------------------------------\u001b[0m",
            "\u001b[0;31mAttributeError\u001b[0m                            Traceback (most recent call last)",
            "\u001b[0;32m<ipython-input-179-3f81b5e4e00b>\u001b[0m in \u001b[0;36m<module>\u001b[0;34m\u001b[0m\n\u001b[0;32m----> 1\u001b[0;31m \u001b[0mindexer_fitted\u001b[0m\u001b[0;34m.\u001b[0m\u001b[0mshow\u001b[0m\u001b[0;34m(\u001b[0m\u001b[0;34m)\u001b[0m\u001b[0;34m\u001b[0m\u001b[0;34m\u001b[0m\u001b[0m\n\u001b[0m",
            "\u001b[0;31mAttributeError\u001b[0m: 'StringIndexerModel' object has no attribute 'show'"
          ]
        }
      ]
    },
    {
      "cell_type": "code",
      "source": [
        "df = indexer_fitted.transform(df)\n",
        "df.show()"
      ],
      "metadata": {
        "colab": {
          "base_uri": "https://localhost:8080/"
        },
        "id": "BKDH1NFYLe1O",
        "outputId": "7a7cc158-757e-491a-cbde-455344086dd7"
      },
      "execution_count": 49,
      "outputs": [
        {
          "output_type": "stream",
          "name": "stdout",
          "text": [
            "+-----------+--------+------+--------------------+---+----+-----+-----+----------------+-------+-----+--------+---------+---------------+\n",
            "|PassengerId|Survived|Pclass|                Name|sex| Age|SibSp|Parch|          Ticket|   Fare|Cabin|Embarked|traintest|EmbarkedEncoded|\n",
            "+-----------+--------+------+--------------------+---+----+-----+-----+----------------+-------+-----+--------+---------+---------------+\n",
            "|          1|       0|     3|Braund, Mr. Owen ...|0.0|  22|    1|    0|       A/5 21171|   7.25|    0|       S|    train|            0.0|\n",
            "|          2|       1|     1|Cumings, Mrs. Joh...|1.0|  38|    1|    0|        PC 17599|71.2833|  C85|       C|    train|            1.0|\n",
            "|          3|       1|     3|Heikkinen, Miss. ...|1.0|  26|    0|    0|STON/O2. 3101282|  7.925|    0|       S|    train|            0.0|\n",
            "|          4|       1|     1|Futrelle, Mrs. Ja...|1.0|  35|    1|    0|          113803|   53.1| C123|       S|    train|            0.0|\n",
            "|          5|       0|     3|Allen, Mr. Willia...|0.0|  35|    0|    0|          373450|   8.05|    0|       S|    train|            0.0|\n",
            "|          6|       0|     3|    Moran, Mr. James|0.0|null|    0|    0|          330877| 8.4583|    0|       Q|    train|            2.0|\n",
            "|          7|       0|     1|McCarthy, Mr. Tim...|0.0|  54|    0|    0|           17463|51.8625|  E46|       S|    train|            0.0|\n",
            "|          8|       0|     3|Palsson, Master. ...|0.0|   2|    3|    1|          349909| 21.075|    0|       S|    train|            0.0|\n",
            "|          9|       1|     3|Johnson, Mrs. Osc...|1.0|  27|    0|    2|          347742|11.1333|    0|       S|    train|            0.0|\n",
            "|         10|       1|     2|Nasser, Mrs. Nich...|1.0|  14|    1|    0|          237736|30.0708|    0|       C|    train|            1.0|\n",
            "|         11|       1|     3|Sandstrom, Miss. ...|1.0|   4|    1|    1|         PP 9549|   16.7|   G6|       S|    train|            0.0|\n",
            "|         12|       1|     1|Bonnell, Miss. El...|1.0|  58|    0|    0|          113783|  26.55| C103|       S|    train|            0.0|\n",
            "|         13|       0|     3|Saundercock, Mr. ...|0.0|  20|    0|    0|       A/5. 2151|   8.05|    0|       S|    train|            0.0|\n",
            "|         14|       0|     3|Andersson, Mr. An...|0.0|  39|    1|    5|          347082| 31.275|    0|       S|    train|            0.0|\n",
            "|         15|       0|     3|Vestrom, Miss. Hu...|1.0|  14|    0|    0|          350406| 7.8542|    0|       S|    train|            0.0|\n",
            "|         16|       1|     2|Hewlett, Mrs. (Ma...|1.0|  55|    0|    0|          248706|     16|    0|       S|    train|            0.0|\n",
            "|         17|       0|     3|Rice, Master. Eugene|0.0|   2|    4|    1|          382652| 29.125|    0|       Q|    train|            2.0|\n",
            "|         18|       1|     2|Williams, Mr. Cha...|0.0|null|    0|    0|          244373|     13|    0|       S|    train|            0.0|\n",
            "|         19|       0|     3|Vander Planke, Mr...|1.0|  31|    1|    0|          345763|     18|    0|       S|    train|            0.0|\n",
            "|         20|       1|     3|Masselmani, Mrs. ...|1.0|null|    0|    0|            2649|  7.225|    0|       C|    train|            1.0|\n",
            "+-----------+--------+------+--------------------+---+----+-----+-----+----------------+-------+-----+--------+---------+---------------+\n",
            "only showing top 20 rows\n",
            "\n"
          ]
        }
      ]
    },
    {
      "cell_type": "code",
      "source": [],
      "metadata": {
        "colab": {
          "base_uri": "https://localhost:8080/",
          "height": 1000
        },
        "id": "6de74ZDBLezm",
        "outputId": "b11ff1be-e8e8-4edf-8900-bd06a4e545b9"
      },
      "execution_count": null,
      "outputs": [
        {
          "output_type": "error",
          "ename": "Py4JJavaError",
          "evalue": "ignored",
          "traceback": [
            "\u001b[0;31m---------------------------------------------------------------------------\u001b[0m",
            "\u001b[0;31mPy4JJavaError\u001b[0m                             Traceback (most recent call last)",
            "\u001b[0;32m<ipython-input-206-e4f81bd13c3e>\u001b[0m in \u001b[0;36m<module>\u001b[0;34m\u001b[0m\n\u001b[1;32m      1\u001b[0m \u001b[0;32mfrom\u001b[0m \u001b[0mpyspark\u001b[0m\u001b[0;34m.\u001b[0m\u001b[0msql\u001b[0m \u001b[0;32mimport\u001b[0m \u001b[0mfunctions\u001b[0m \u001b[0;32mas\u001b[0m \u001b[0mF\u001b[0m\u001b[0;34m\u001b[0m\u001b[0;34m\u001b[0m\u001b[0m\n\u001b[1;32m      2\u001b[0m \u001b[0;34m\u001b[0m\u001b[0m\n\u001b[0;32m----> 3\u001b[0;31m \u001b[0mdf\u001b[0m\u001b[0;34m.\u001b[0m\u001b[0mfilter\u001b[0m\u001b[0;34m(\u001b[0m\u001b[0mF\u001b[0m\u001b[0;34m.\u001b[0m\u001b[0mcol\u001b[0m\u001b[0;34m(\u001b[0m\u001b[0;34m'Ticket'\u001b[0m\u001b[0;34m)\u001b[0m\u001b[0;34m.\u001b[0m\u001b[0mcontains\u001b[0m\u001b[0;34m(\u001b[0m\u001b[0;34m'A'\u001b[0m\u001b[0;34m)\u001b[0m\u001b[0;34m)\u001b[0m\u001b[0;34m.\u001b[0m\u001b[0mshow\u001b[0m\u001b[0;34m(\u001b[0m\u001b[0;34m)\u001b[0m\u001b[0;34m\u001b[0m\u001b[0;34m\u001b[0m\u001b[0m\n\u001b[0m",
            "\u001b[0;32m/usr/local/lib/python3.8/dist-packages/pyspark/sql/dataframe.py\u001b[0m in \u001b[0;36mshow\u001b[0;34m(self, n, truncate, vertical)\u001b[0m\n\u001b[1;32m    604\u001b[0m \u001b[0;34m\u001b[0m\u001b[0m\n\u001b[1;32m    605\u001b[0m         \u001b[0;32mif\u001b[0m \u001b[0misinstance\u001b[0m\u001b[0;34m(\u001b[0m\u001b[0mtruncate\u001b[0m\u001b[0;34m,\u001b[0m \u001b[0mbool\u001b[0m\u001b[0;34m)\u001b[0m \u001b[0;32mand\u001b[0m \u001b[0mtruncate\u001b[0m\u001b[0;34m:\u001b[0m\u001b[0;34m\u001b[0m\u001b[0;34m\u001b[0m\u001b[0m\n\u001b[0;32m--> 606\u001b[0;31m             \u001b[0mprint\u001b[0m\u001b[0;34m(\u001b[0m\u001b[0mself\u001b[0m\u001b[0;34m.\u001b[0m\u001b[0m_jdf\u001b[0m\u001b[0;34m.\u001b[0m\u001b[0mshowString\u001b[0m\u001b[0;34m(\u001b[0m\u001b[0mn\u001b[0m\u001b[0;34m,\u001b[0m \u001b[0;36m20\u001b[0m\u001b[0;34m,\u001b[0m \u001b[0mvertical\u001b[0m\u001b[0;34m)\u001b[0m\u001b[0;34m)\u001b[0m\u001b[0;34m\u001b[0m\u001b[0;34m\u001b[0m\u001b[0m\n\u001b[0m\u001b[1;32m    607\u001b[0m         \u001b[0;32melse\u001b[0m\u001b[0;34m:\u001b[0m\u001b[0;34m\u001b[0m\u001b[0;34m\u001b[0m\u001b[0m\n\u001b[1;32m    608\u001b[0m             \u001b[0;32mtry\u001b[0m\u001b[0;34m:\u001b[0m\u001b[0;34m\u001b[0m\u001b[0;34m\u001b[0m\u001b[0m\n",
            "\u001b[0;32m/usr/local/lib/python3.8/dist-packages/py4j/java_gateway.py\u001b[0m in \u001b[0;36m__call__\u001b[0;34m(self, *args)\u001b[0m\n\u001b[1;32m   1319\u001b[0m \u001b[0;34m\u001b[0m\u001b[0m\n\u001b[1;32m   1320\u001b[0m         \u001b[0manswer\u001b[0m \u001b[0;34m=\u001b[0m \u001b[0mself\u001b[0m\u001b[0;34m.\u001b[0m\u001b[0mgateway_client\u001b[0m\u001b[0;34m.\u001b[0m\u001b[0msend_command\u001b[0m\u001b[0;34m(\u001b[0m\u001b[0mcommand\u001b[0m\u001b[0;34m)\u001b[0m\u001b[0;34m\u001b[0m\u001b[0;34m\u001b[0m\u001b[0m\n\u001b[0;32m-> 1321\u001b[0;31m         return_value = get_return_value(\n\u001b[0m\u001b[1;32m   1322\u001b[0m             answer, self.gateway_client, self.target_id, self.name)\n\u001b[1;32m   1323\u001b[0m \u001b[0;34m\u001b[0m\u001b[0m\n",
            "\u001b[0;32m/usr/local/lib/python3.8/dist-packages/pyspark/sql/utils.py\u001b[0m in \u001b[0;36mdeco\u001b[0;34m(*a, **kw)\u001b[0m\n\u001b[1;32m    188\u001b[0m     \u001b[0;32mdef\u001b[0m \u001b[0mdeco\u001b[0m\u001b[0;34m(\u001b[0m\u001b[0;34m*\u001b[0m\u001b[0ma\u001b[0m\u001b[0;34m:\u001b[0m \u001b[0mAny\u001b[0m\u001b[0;34m,\u001b[0m \u001b[0;34m**\u001b[0m\u001b[0mkw\u001b[0m\u001b[0;34m:\u001b[0m \u001b[0mAny\u001b[0m\u001b[0;34m)\u001b[0m \u001b[0;34m->\u001b[0m \u001b[0mAny\u001b[0m\u001b[0;34m:\u001b[0m\u001b[0;34m\u001b[0m\u001b[0;34m\u001b[0m\u001b[0m\n\u001b[1;32m    189\u001b[0m         \u001b[0;32mtry\u001b[0m\u001b[0;34m:\u001b[0m\u001b[0;34m\u001b[0m\u001b[0;34m\u001b[0m\u001b[0m\n\u001b[0;32m--> 190\u001b[0;31m             \u001b[0;32mreturn\u001b[0m \u001b[0mf\u001b[0m\u001b[0;34m(\u001b[0m\u001b[0;34m*\u001b[0m\u001b[0ma\u001b[0m\u001b[0;34m,\u001b[0m \u001b[0;34m**\u001b[0m\u001b[0mkw\u001b[0m\u001b[0;34m)\u001b[0m\u001b[0;34m\u001b[0m\u001b[0;34m\u001b[0m\u001b[0m\n\u001b[0m\u001b[1;32m    191\u001b[0m         \u001b[0;32mexcept\u001b[0m \u001b[0mPy4JJavaError\u001b[0m \u001b[0;32mas\u001b[0m \u001b[0me\u001b[0m\u001b[0;34m:\u001b[0m\u001b[0;34m\u001b[0m\u001b[0;34m\u001b[0m\u001b[0m\n\u001b[1;32m    192\u001b[0m             \u001b[0mconverted\u001b[0m \u001b[0;34m=\u001b[0m \u001b[0mconvert_exception\u001b[0m\u001b[0;34m(\u001b[0m\u001b[0me\u001b[0m\u001b[0;34m.\u001b[0m\u001b[0mjava_exception\u001b[0m\u001b[0;34m)\u001b[0m\u001b[0;34m\u001b[0m\u001b[0;34m\u001b[0m\u001b[0m\n",
            "\u001b[0;32m/usr/local/lib/python3.8/dist-packages/py4j/protocol.py\u001b[0m in \u001b[0;36mget_return_value\u001b[0;34m(answer, gateway_client, target_id, name)\u001b[0m\n\u001b[1;32m    324\u001b[0m             \u001b[0mvalue\u001b[0m \u001b[0;34m=\u001b[0m \u001b[0mOUTPUT_CONVERTER\u001b[0m\u001b[0;34m[\u001b[0m\u001b[0mtype\u001b[0m\u001b[0;34m]\u001b[0m\u001b[0;34m(\u001b[0m\u001b[0manswer\u001b[0m\u001b[0;34m[\u001b[0m\u001b[0;36m2\u001b[0m\u001b[0;34m:\u001b[0m\u001b[0;34m]\u001b[0m\u001b[0;34m,\u001b[0m \u001b[0mgateway_client\u001b[0m\u001b[0;34m)\u001b[0m\u001b[0;34m\u001b[0m\u001b[0;34m\u001b[0m\u001b[0m\n\u001b[1;32m    325\u001b[0m             \u001b[0;32mif\u001b[0m \u001b[0manswer\u001b[0m\u001b[0;34m[\u001b[0m\u001b[0;36m1\u001b[0m\u001b[0;34m]\u001b[0m \u001b[0;34m==\u001b[0m \u001b[0mREFERENCE_TYPE\u001b[0m\u001b[0;34m:\u001b[0m\u001b[0;34m\u001b[0m\u001b[0;34m\u001b[0m\u001b[0m\n\u001b[0;32m--> 326\u001b[0;31m                 raise Py4JJavaError(\n\u001b[0m\u001b[1;32m    327\u001b[0m                     \u001b[0;34m\"An error occurred while calling {0}{1}{2}.\\n\"\u001b[0m\u001b[0;34m.\u001b[0m\u001b[0;34m\u001b[0m\u001b[0;34m\u001b[0m\u001b[0m\n\u001b[1;32m    328\u001b[0m                     format(target_id, \".\", name), value)\n",
            "\u001b[0;31mPy4JJavaError\u001b[0m: An error occurred while calling o1149.showString.\n: org.apache.spark.SparkException: Job aborted due to stage failure: Task 0 in stage 153.0 failed 1 times, most recent failure: Lost task 0.0 in stage 153.0 (TID 155) (789c99f8ed36 executor driver): org.apache.spark.SparkException: Failed to execute user defined function (StringIndexerModel$$Lambda$3601/2016693796: (string) => double)\n\tat org.apache.spark.sql.errors.QueryExecutionErrors$.failedExecuteUserDefinedFunctionError(QueryExecutionErrors.scala:190)\n\tat org.apache.spark.sql.errors.QueryExecutionErrors.failedExecuteUserDefinedFunctionError(QueryExecutionErrors.scala)\n\tat org.apache.spark.sql.catalyst.expressions.GeneratedClass$GeneratedIteratorForCodegenStage3.processNext(Unknown Source)\n\tat org.apache.spark.sql.execution.BufferedRowIterator.hasNext(BufferedRowIterator.java:43)\n\tat org.apache.spark.sql.execution.WholeStageCodegenExec$$anon$1.hasNext(WholeStageCodegenExec.scala:760)\n\tat org.apache.spark.sql.execution.SparkPlan.$anonfun$getByteArrayRdd$1(SparkPlan.scala:364)\n\tat org.apache.spark.rdd.RDD.$anonfun$mapPartitionsInternal$2(RDD.scala:890)\n\tat org.apache.spark.rdd.RDD.$anonfun$mapPartitionsInternal$2$adapted(RDD.scala:890)\n\tat org.apache.spark.rdd.MapPartitionsRDD.compute(MapPartitionsRDD.scala:52)\n\tat org.apache.spark.rdd.RDD.computeOrReadCheckpoint(RDD.scala:365)\n\tat org.apache.spark.rdd.RDD.iterator(RDD.scala:329)\n\tat org.apache.spark.scheduler.ResultTask.runTask(ResultTask.scala:90)\n\tat org.apache.spark.scheduler.Task.run(Task.scala:136)\n\tat org.apache.spark.executor.Executor$TaskRunner.$anonfun$run$3(Executor.scala:548)\n\tat org.apache.spark.util.Utils$.tryWithSafeFinally(Utils.scala:1504)\n\tat org.apache.spark.executor.Executor$TaskRunner.run(Executor.scala:551)\n\tat java.util.concurrent.ThreadPoolExecutor.runWorker(ThreadPoolExecutor.java:1149)\n\tat java.util.concurrent.ThreadPoolExecutor$Worker.run(ThreadPoolExecutor.java:624)\n\tat java.lang.Thread.run(Thread.java:750)\nCaused by: org.apache.spark.SparkException: StringIndexer encountered NULL value. To handle or skip NULLS, try setting StringIndexer.handleInvalid.\n\tat org.apache.spark.ml.feature.StringIndexerModel.$anonfun$getIndexer$1(StringIndexer.scala:396)\n\tat org.apache.spark.ml.feature.StringIndexerModel.$anonfun$getIndexer$1$adapted(StringIndexer.scala:391)\n\t... 17 more\n\nDriver stacktrace:\n\tat org.apache.spark.scheduler.DAGScheduler.failJobAndIndependentStages(DAGScheduler.scala:2672)\n\tat org.apache.spark.scheduler.DAGScheduler.$anonfun$abortStage$2(DAGScheduler.scala:2608)\n\tat org.apache.spark.scheduler.DAGScheduler.$anonfun$abortStage$2$adapted(DAGScheduler.scala:2607)\n\tat scala.collection.mutable.ResizableArray.foreach(ResizableArray.scala:62)\n\tat scala.collection.mutable.ResizableArray.foreach$(ResizableArray.scala:55)\n\tat scala.collection.mutable.ArrayBuffer.foreach(ArrayBuffer.scala:49)\n\tat org.apache.spark.scheduler.DAGScheduler.abortStage(DAGScheduler.scala:2607)\n\tat org.apache.spark.scheduler.DAGScheduler.$anonfun$handleTaskSetFailed$1(DAGScheduler.scala:1182)\n\tat org.apache.spark.scheduler.DAGScheduler.$anonfun$handleTaskSetFailed$1$adapted(DAGScheduler.scala:1182)\n\tat scala.Option.foreach(Option.scala:407)\n\tat org.apache.spark.scheduler.DAGScheduler.handleTaskSetFailed(DAGScheduler.scala:1182)\n\tat org.apache.spark.scheduler.DAGSchedulerEventProcessLoop.doOnReceive(DAGScheduler.scala:2860)\n\tat org.apache.spark.scheduler.DAGSchedulerEventProcessLoop.onReceive(DAGScheduler.scala:2802)\n\tat org.apache.spark.scheduler.DAGSchedulerEventProcessLoop.onReceive(DAGScheduler.scala:2791)\n\tat org.apache.spark.util.EventLoop$$anon$1.run(EventLoop.scala:49)\n\tat org.apache.spark.scheduler.DAGScheduler.runJob(DAGScheduler.scala:952)\n\tat org.apache.spark.SparkContext.runJob(SparkContext.scala:2238)\n\tat org.apache.spark.SparkContext.runJob(SparkContext.scala:2259)\n\tat org.apache.spark.SparkContext.runJob(SparkContext.scala:2278)\n\tat org.apache.spark.sql.execution.SparkPlan.executeTake(SparkPlan.scala:506)\n\tat org.apache.spark.sql.execution.SparkPlan.executeTake(SparkPlan.scala:459)\n\tat org.apache.spark.sql.execution.CollectLimitExec.executeCollect(limit.scala:48)\n\tat org.apache.spark.sql.Dataset.collectFromPlan(Dataset.scala:3868)\n\tat org.apache.spark.sql.Dataset.$anonfun$head$1(Dataset.scala:2863)\n\tat org.apache.spark.sql.Dataset.$anonfun$withAction$2(Dataset.scala:3858)\n\tat org.apache.spark.sql.execution.QueryExecution$.withInternalError(QueryExecution.scala:510)\n\tat org.apache.spark.sql.Dataset.$anonfun$withAction$1(Dataset.scala:3856)\n\tat org.apache.spark.sql.execution.SQLExecution$.$anonfun$withNewExecutionId$6(SQLExecution.scala:109)\n\tat org.apache.spark.sql.execution.SQLExecution$.withSQLConfPropagated(SQLExecution.scala:169)\n\tat org.apache.spark.sql.execution.SQLExecution$.$anonfun$withNewExecutionId$1(SQLExecution.scala:95)\n\tat org.apache.spark.sql.SparkSession.withActive(SparkSession.scala:779)\n\tat org.apache.spark.sql.execution.SQLExecution$.withNewExecutionId(SQLExecution.scala:64)\n\tat org.apache.spark.sql.Dataset.withAction(Dataset.scala:3856)\n\tat org.apache.spark.sql.Dataset.head(Dataset.scala:2863)\n\tat org.apache.spark.sql.Dataset.take(Dataset.scala:3084)\n\tat org.apache.spark.sql.Dataset.getRows(Dataset.scala:288)\n\tat org.apache.spark.sql.Dataset.showString(Dataset.scala:327)\n\tat sun.reflect.GeneratedMethodAccessor64.invoke(Unknown Source)\n\tat sun.reflect.DelegatingMethodAccessorImpl.invoke(DelegatingMethodAccessorImpl.java:43)\n\tat java.lang.reflect.Method.invoke(Method.java:498)\n\tat py4j.reflection.MethodInvoker.invoke(MethodInvoker.java:244)\n\tat py4j.reflection.ReflectionEngine.invoke(ReflectionEngine.java:357)\n\tat py4j.Gateway.invoke(Gateway.java:282)\n\tat py4j.commands.AbstractCommand.invokeMethod(AbstractCommand.java:132)\n\tat py4j.commands.CallCommand.execute(CallCommand.java:79)\n\tat py4j.ClientServerConnection.waitForCommands(ClientServerConnection.java:182)\n\tat py4j.ClientServerConnection.run(ClientServerConnection.java:106)\n\tat java.lang.Thread.run(Thread.java:750)\nCaused by: org.apache.spark.SparkException: Failed to execute user defined function (StringIndexerModel$$Lambda$3601/2016693796: (string) => double)\n\tat org.apache.spark.sql.errors.QueryExecutionErrors$.failedExecuteUserDefinedFunctionError(QueryExecutionErrors.scala:190)\n\tat org.apache.spark.sql.errors.QueryExecutionErrors.failedExecuteUserDefinedFunctionError(QueryExecutionErrors.scala)\n\tat org.apache.spark.sql.catalyst.expressions.GeneratedClass$GeneratedIteratorForCodegenStage3.processNext(Unknown Source)\n\tat org.apache.spark.sql.execution.BufferedRowIterator.hasNext(BufferedRowIterator.java:43)\n\tat org.apache.spark.sql.execution.WholeStageCodegenExec$$anon$1.hasNext(WholeStageCodegenExec.scala:760)\n\tat org.apache.spark.sql.execution.SparkPlan.$anonfun$getByteArrayRdd$1(SparkPlan.scala:364)\n\tat org.apache.spark.rdd.RDD.$anonfun$mapPartitionsInternal$2(RDD.scala:890)\n\tat org.apache.spark.rdd.RDD.$anonfun$mapPartitionsInternal$2$adapted(RDD.scala:890)\n\tat org.apache.spark.rdd.MapPartitionsRDD.compute(MapPartitionsRDD.scala:52)\n\tat org.apache.spark.rdd.RDD.computeOrReadCheckpoint(RDD.scala:365)\n\tat org.apache.spark.rdd.RDD.iterator(RDD.scala:329)\n\tat org.apache.spark.scheduler.ResultTask.runTask(ResultTask.scala:90)\n\tat org.apache.spark.scheduler.Task.run(Task.scala:136)\n\tat org.apache.spark.executor.Executor$TaskRunner.$anonfun$run$3(Executor.scala:548)\n\tat org.apache.spark.util.Utils$.tryWithSafeFinally(Utils.scala:1504)\n\tat org.apache.spark.executor.Executor$TaskRunner.run(Executor.scala:551)\n\tat java.util.concurrent.ThreadPoolExecutor.runWorker(ThreadPoolExecutor.java:1149)\n\tat java.util.concurrent.ThreadPoolExecutor$Worker.run(ThreadPoolExecutor.java:624)\n\t... 1 more\nCaused by: org.apache.spark.SparkException: StringIndexer encountered NULL value. To handle or skip NULLS, try setting StringIndexer.handleInvalid.\n\tat org.apache.spark.ml.feature.StringIndexerModel.$anonfun$getIndexer$1(StringIndexer.scala:396)\n\tat org.apache.spark.ml.feature.StringIndexerModel.$anonfun$getIndexer$1$adapted(StringIndexer.scala:391)\n\t... 17 more\n"
          ]
        }
      ]
    },
    {
      "cell_type": "code",
      "source": [],
      "metadata": {
        "colab": {
          "base_uri": "https://localhost:8080/",
          "height": 1000
        },
        "id": "-8rEXncTe9S1",
        "outputId": "2cea8d5e-5be9-4bd2-b9cf-d02c73bbeac7"
      },
      "execution_count": null,
      "outputs": [
        {
          "output_type": "error",
          "ename": "Py4JJavaError",
          "evalue": "ignored",
          "traceback": [
            "\u001b[0;31m---------------------------------------------------------------------------\u001b[0m",
            "\u001b[0;31mPy4JJavaError\u001b[0m                             Traceback (most recent call last)",
            "\u001b[0;32m<ipython-input-200-1d45a0548e2e>\u001b[0m in \u001b[0;36m<module>\u001b[0;34m\u001b[0m\n\u001b[0;32m----> 1\u001b[0;31m \u001b[0mdf2\u001b[0m\u001b[0;34m.\u001b[0m\u001b[0mshow\u001b[0m\u001b[0;34m(\u001b[0m\u001b[0;34m)\u001b[0m\u001b[0;34m\u001b[0m\u001b[0;34m\u001b[0m\u001b[0m\n\u001b[0m",
            "\u001b[0;32m/usr/local/lib/python3.8/dist-packages/pyspark/sql/dataframe.py\u001b[0m in \u001b[0;36mshow\u001b[0;34m(self, n, truncate, vertical)\u001b[0m\n\u001b[1;32m    604\u001b[0m \u001b[0;34m\u001b[0m\u001b[0m\n\u001b[1;32m    605\u001b[0m         \u001b[0;32mif\u001b[0m \u001b[0misinstance\u001b[0m\u001b[0;34m(\u001b[0m\u001b[0mtruncate\u001b[0m\u001b[0;34m,\u001b[0m \u001b[0mbool\u001b[0m\u001b[0;34m)\u001b[0m \u001b[0;32mand\u001b[0m \u001b[0mtruncate\u001b[0m\u001b[0;34m:\u001b[0m\u001b[0;34m\u001b[0m\u001b[0;34m\u001b[0m\u001b[0m\n\u001b[0;32m--> 606\u001b[0;31m             \u001b[0mprint\u001b[0m\u001b[0;34m(\u001b[0m\u001b[0mself\u001b[0m\u001b[0;34m.\u001b[0m\u001b[0m_jdf\u001b[0m\u001b[0;34m.\u001b[0m\u001b[0mshowString\u001b[0m\u001b[0;34m(\u001b[0m\u001b[0mn\u001b[0m\u001b[0;34m,\u001b[0m \u001b[0;36m20\u001b[0m\u001b[0;34m,\u001b[0m \u001b[0mvertical\u001b[0m\u001b[0;34m)\u001b[0m\u001b[0;34m)\u001b[0m\u001b[0;34m\u001b[0m\u001b[0;34m\u001b[0m\u001b[0m\n\u001b[0m\u001b[1;32m    607\u001b[0m         \u001b[0;32melse\u001b[0m\u001b[0;34m:\u001b[0m\u001b[0;34m\u001b[0m\u001b[0;34m\u001b[0m\u001b[0m\n\u001b[1;32m    608\u001b[0m             \u001b[0;32mtry\u001b[0m\u001b[0;34m:\u001b[0m\u001b[0;34m\u001b[0m\u001b[0;34m\u001b[0m\u001b[0m\n",
            "\u001b[0;32m/usr/local/lib/python3.8/dist-packages/py4j/java_gateway.py\u001b[0m in \u001b[0;36m__call__\u001b[0;34m(self, *args)\u001b[0m\n\u001b[1;32m   1319\u001b[0m \u001b[0;34m\u001b[0m\u001b[0m\n\u001b[1;32m   1320\u001b[0m         \u001b[0manswer\u001b[0m \u001b[0;34m=\u001b[0m \u001b[0mself\u001b[0m\u001b[0;34m.\u001b[0m\u001b[0mgateway_client\u001b[0m\u001b[0;34m.\u001b[0m\u001b[0msend_command\u001b[0m\u001b[0;34m(\u001b[0m\u001b[0mcommand\u001b[0m\u001b[0;34m)\u001b[0m\u001b[0;34m\u001b[0m\u001b[0;34m\u001b[0m\u001b[0m\n\u001b[0;32m-> 1321\u001b[0;31m         return_value = get_return_value(\n\u001b[0m\u001b[1;32m   1322\u001b[0m             answer, self.gateway_client, self.target_id, self.name)\n\u001b[1;32m   1323\u001b[0m \u001b[0;34m\u001b[0m\u001b[0m\n",
            "\u001b[0;32m/usr/local/lib/python3.8/dist-packages/pyspark/sql/utils.py\u001b[0m in \u001b[0;36mdeco\u001b[0;34m(*a, **kw)\u001b[0m\n\u001b[1;32m    188\u001b[0m     \u001b[0;32mdef\u001b[0m \u001b[0mdeco\u001b[0m\u001b[0;34m(\u001b[0m\u001b[0;34m*\u001b[0m\u001b[0ma\u001b[0m\u001b[0;34m:\u001b[0m \u001b[0mAny\u001b[0m\u001b[0;34m,\u001b[0m \u001b[0;34m**\u001b[0m\u001b[0mkw\u001b[0m\u001b[0;34m:\u001b[0m \u001b[0mAny\u001b[0m\u001b[0;34m)\u001b[0m \u001b[0;34m->\u001b[0m \u001b[0mAny\u001b[0m\u001b[0;34m:\u001b[0m\u001b[0;34m\u001b[0m\u001b[0;34m\u001b[0m\u001b[0m\n\u001b[1;32m    189\u001b[0m         \u001b[0;32mtry\u001b[0m\u001b[0;34m:\u001b[0m\u001b[0;34m\u001b[0m\u001b[0;34m\u001b[0m\u001b[0m\n\u001b[0;32m--> 190\u001b[0;31m             \u001b[0;32mreturn\u001b[0m \u001b[0mf\u001b[0m\u001b[0;34m(\u001b[0m\u001b[0;34m*\u001b[0m\u001b[0ma\u001b[0m\u001b[0;34m,\u001b[0m \u001b[0;34m**\u001b[0m\u001b[0mkw\u001b[0m\u001b[0;34m)\u001b[0m\u001b[0;34m\u001b[0m\u001b[0;34m\u001b[0m\u001b[0m\n\u001b[0m\u001b[1;32m    191\u001b[0m         \u001b[0;32mexcept\u001b[0m \u001b[0mPy4JJavaError\u001b[0m \u001b[0;32mas\u001b[0m \u001b[0me\u001b[0m\u001b[0;34m:\u001b[0m\u001b[0;34m\u001b[0m\u001b[0;34m\u001b[0m\u001b[0m\n\u001b[1;32m    192\u001b[0m             \u001b[0mconverted\u001b[0m \u001b[0;34m=\u001b[0m \u001b[0mconvert_exception\u001b[0m\u001b[0;34m(\u001b[0m\u001b[0me\u001b[0m\u001b[0;34m.\u001b[0m\u001b[0mjava_exception\u001b[0m\u001b[0;34m)\u001b[0m\u001b[0;34m\u001b[0m\u001b[0;34m\u001b[0m\u001b[0m\n",
            "\u001b[0;32m/usr/local/lib/python3.8/dist-packages/py4j/protocol.py\u001b[0m in \u001b[0;36mget_return_value\u001b[0;34m(answer, gateway_client, target_id, name)\u001b[0m\n\u001b[1;32m    324\u001b[0m             \u001b[0mvalue\u001b[0m \u001b[0;34m=\u001b[0m \u001b[0mOUTPUT_CONVERTER\u001b[0m\u001b[0;34m[\u001b[0m\u001b[0mtype\u001b[0m\u001b[0;34m]\u001b[0m\u001b[0;34m(\u001b[0m\u001b[0manswer\u001b[0m\u001b[0;34m[\u001b[0m\u001b[0;36m2\u001b[0m\u001b[0;34m:\u001b[0m\u001b[0;34m]\u001b[0m\u001b[0;34m,\u001b[0m \u001b[0mgateway_client\u001b[0m\u001b[0;34m)\u001b[0m\u001b[0;34m\u001b[0m\u001b[0;34m\u001b[0m\u001b[0m\n\u001b[1;32m    325\u001b[0m             \u001b[0;32mif\u001b[0m \u001b[0manswer\u001b[0m\u001b[0;34m[\u001b[0m\u001b[0;36m1\u001b[0m\u001b[0;34m]\u001b[0m \u001b[0;34m==\u001b[0m \u001b[0mREFERENCE_TYPE\u001b[0m\u001b[0;34m:\u001b[0m\u001b[0;34m\u001b[0m\u001b[0;34m\u001b[0m\u001b[0m\n\u001b[0;32m--> 326\u001b[0;31m                 raise Py4JJavaError(\n\u001b[0m\u001b[1;32m    327\u001b[0m                     \u001b[0;34m\"An error occurred while calling {0}{1}{2}.\\n\"\u001b[0m\u001b[0;34m.\u001b[0m\u001b[0;34m\u001b[0m\u001b[0;34m\u001b[0m\u001b[0m\n\u001b[1;32m    328\u001b[0m                     format(target_id, \".\", name), value)\n",
            "\u001b[0;31mPy4JJavaError\u001b[0m: An error occurred while calling o1136.showString.\n: org.apache.spark.SparkException: Job aborted due to stage failure: Task 0 in stage 151.0 failed 1 times, most recent failure: Lost task 0.0 in stage 151.0 (TID 153) (789c99f8ed36 executor driver): org.apache.spark.SparkException: Failed to execute user defined function (StringIndexerModel$$Lambda$3601/2016693796: (string) => double)\n\tat org.apache.spark.sql.errors.QueryExecutionErrors$.failedExecuteUserDefinedFunctionError(QueryExecutionErrors.scala:190)\n\tat org.apache.spark.sql.errors.QueryExecutionErrors.failedExecuteUserDefinedFunctionError(QueryExecutionErrors.scala)\n\tat org.apache.spark.sql.catalyst.expressions.GeneratedClass$GeneratedIteratorForCodegenStage3.processNext(Unknown Source)\n\tat org.apache.spark.sql.execution.BufferedRowIterator.hasNext(BufferedRowIterator.java:43)\n\tat org.apache.spark.sql.execution.WholeStageCodegenExec$$anon$1.hasNext(WholeStageCodegenExec.scala:760)\n\tat org.apache.spark.sql.execution.SparkPlan.$anonfun$getByteArrayRdd$1(SparkPlan.scala:364)\n\tat org.apache.spark.rdd.RDD.$anonfun$mapPartitionsInternal$2(RDD.scala:890)\n\tat org.apache.spark.rdd.RDD.$anonfun$mapPartitionsInternal$2$adapted(RDD.scala:890)\n\tat org.apache.spark.rdd.MapPartitionsRDD.compute(MapPartitionsRDD.scala:52)\n\tat org.apache.spark.rdd.RDD.computeOrReadCheckpoint(RDD.scala:365)\n\tat org.apache.spark.rdd.RDD.iterator(RDD.scala:329)\n\tat org.apache.spark.scheduler.ResultTask.runTask(ResultTask.scala:90)\n\tat org.apache.spark.scheduler.Task.run(Task.scala:136)\n\tat org.apache.spark.executor.Executor$TaskRunner.$anonfun$run$3(Executor.scala:548)\n\tat org.apache.spark.util.Utils$.tryWithSafeFinally(Utils.scala:1504)\n\tat org.apache.spark.executor.Executor$TaskRunner.run(Executor.scala:551)\n\tat java.util.concurrent.ThreadPoolExecutor.runWorker(ThreadPoolExecutor.java:1149)\n\tat java.util.concurrent.ThreadPoolExecutor$Worker.run(ThreadPoolExecutor.java:624)\n\tat java.lang.Thread.run(Thread.java:750)\nCaused by: org.apache.spark.SparkException: StringIndexer encountered NULL value. To handle or skip NULLS, try setting StringIndexer.handleInvalid.\n\tat org.apache.spark.ml.feature.StringIndexerModel.$anonfun$getIndexer$1(StringIndexer.scala:396)\n\tat org.apache.spark.ml.feature.StringIndexerModel.$anonfun$getIndexer$1$adapted(StringIndexer.scala:391)\n\t... 17 more\n\nDriver stacktrace:\n\tat org.apache.spark.scheduler.DAGScheduler.failJobAndIndependentStages(DAGScheduler.scala:2672)\n\tat org.apache.spark.scheduler.DAGScheduler.$anonfun$abortStage$2(DAGScheduler.scala:2608)\n\tat org.apache.spark.scheduler.DAGScheduler.$anonfun$abortStage$2$adapted(DAGScheduler.scala:2607)\n\tat scala.collection.mutable.ResizableArray.foreach(ResizableArray.scala:62)\n\tat scala.collection.mutable.ResizableArray.foreach$(ResizableArray.scala:55)\n\tat scala.collection.mutable.ArrayBuffer.foreach(ArrayBuffer.scala:49)\n\tat org.apache.spark.scheduler.DAGScheduler.abortStage(DAGScheduler.scala:2607)\n\tat org.apache.spark.scheduler.DAGScheduler.$anonfun$handleTaskSetFailed$1(DAGScheduler.scala:1182)\n\tat org.apache.spark.scheduler.DAGScheduler.$anonfun$handleTaskSetFailed$1$adapted(DAGScheduler.scala:1182)\n\tat scala.Option.foreach(Option.scala:407)\n\tat org.apache.spark.scheduler.DAGScheduler.handleTaskSetFailed(DAGScheduler.scala:1182)\n\tat org.apache.spark.scheduler.DAGSchedulerEventProcessLoop.doOnReceive(DAGScheduler.scala:2860)\n\tat org.apache.spark.scheduler.DAGSchedulerEventProcessLoop.onReceive(DAGScheduler.scala:2802)\n\tat org.apache.spark.scheduler.DAGSchedulerEventProcessLoop.onReceive(DAGScheduler.scala:2791)\n\tat org.apache.spark.util.EventLoop$$anon$1.run(EventLoop.scala:49)\n\tat org.apache.spark.scheduler.DAGScheduler.runJob(DAGScheduler.scala:952)\n\tat org.apache.spark.SparkContext.runJob(SparkContext.scala:2238)\n\tat org.apache.spark.SparkContext.runJob(SparkContext.scala:2259)\n\tat org.apache.spark.SparkContext.runJob(SparkContext.scala:2278)\n\tat org.apache.spark.sql.execution.SparkPlan.executeTake(SparkPlan.scala:506)\n\tat org.apache.spark.sql.execution.SparkPlan.executeTake(SparkPlan.scala:459)\n\tat org.apache.spark.sql.execution.CollectLimitExec.executeCollect(limit.scala:48)\n\tat org.apache.spark.sql.Dataset.collectFromPlan(Dataset.scala:3868)\n\tat org.apache.spark.sql.Dataset.$anonfun$head$1(Dataset.scala:2863)\n\tat org.apache.spark.sql.Dataset.$anonfun$withAction$2(Dataset.scala:3858)\n\tat org.apache.spark.sql.execution.QueryExecution$.withInternalError(QueryExecution.scala:510)\n\tat org.apache.spark.sql.Dataset.$anonfun$withAction$1(Dataset.scala:3856)\n\tat org.apache.spark.sql.execution.SQLExecution$.$anonfun$withNewExecutionId$6(SQLExecution.scala:109)\n\tat org.apache.spark.sql.execution.SQLExecution$.withSQLConfPropagated(SQLExecution.scala:169)\n\tat org.apache.spark.sql.execution.SQLExecution$.$anonfun$withNewExecutionId$1(SQLExecution.scala:95)\n\tat org.apache.spark.sql.SparkSession.withActive(SparkSession.scala:779)\n\tat org.apache.spark.sql.execution.SQLExecution$.withNewExecutionId(SQLExecution.scala:64)\n\tat org.apache.spark.sql.Dataset.withAction(Dataset.scala:3856)\n\tat org.apache.spark.sql.Dataset.head(Dataset.scala:2863)\n\tat org.apache.spark.sql.Dataset.take(Dataset.scala:3084)\n\tat org.apache.spark.sql.Dataset.getRows(Dataset.scala:288)\n\tat org.apache.spark.sql.Dataset.showString(Dataset.scala:327)\n\tat sun.reflect.GeneratedMethodAccessor64.invoke(Unknown Source)\n\tat sun.reflect.DelegatingMethodAccessorImpl.invoke(DelegatingMethodAccessorImpl.java:43)\n\tat java.lang.reflect.Method.invoke(Method.java:498)\n\tat py4j.reflection.MethodInvoker.invoke(MethodInvoker.java:244)\n\tat py4j.reflection.ReflectionEngine.invoke(ReflectionEngine.java:357)\n\tat py4j.Gateway.invoke(Gateway.java:282)\n\tat py4j.commands.AbstractCommand.invokeMethod(AbstractCommand.java:132)\n\tat py4j.commands.CallCommand.execute(CallCommand.java:79)\n\tat py4j.ClientServerConnection.waitForCommands(ClientServerConnection.java:182)\n\tat py4j.ClientServerConnection.run(ClientServerConnection.java:106)\n\tat java.lang.Thread.run(Thread.java:750)\nCaused by: org.apache.spark.SparkException: Failed to execute user defined function (StringIndexerModel$$Lambda$3601/2016693796: (string) => double)\n\tat org.apache.spark.sql.errors.QueryExecutionErrors$.failedExecuteUserDefinedFunctionError(QueryExecutionErrors.scala:190)\n\tat org.apache.spark.sql.errors.QueryExecutionErrors.failedExecuteUserDefinedFunctionError(QueryExecutionErrors.scala)\n\tat org.apache.spark.sql.catalyst.expressions.GeneratedClass$GeneratedIteratorForCodegenStage3.processNext(Unknown Source)\n\tat org.apache.spark.sql.execution.BufferedRowIterator.hasNext(BufferedRowIterator.java:43)\n\tat org.apache.spark.sql.execution.WholeStageCodegenExec$$anon$1.hasNext(WholeStageCodegenExec.scala:760)\n\tat org.apache.spark.sql.execution.SparkPlan.$anonfun$getByteArrayRdd$1(SparkPlan.scala:364)\n\tat org.apache.spark.rdd.RDD.$anonfun$mapPartitionsInternal$2(RDD.scala:890)\n\tat org.apache.spark.rdd.RDD.$anonfun$mapPartitionsInternal$2$adapted(RDD.scala:890)\n\tat org.apache.spark.rdd.MapPartitionsRDD.compute(MapPartitionsRDD.scala:52)\n\tat org.apache.spark.rdd.RDD.computeOrReadCheckpoint(RDD.scala:365)\n\tat org.apache.spark.rdd.RDD.iterator(RDD.scala:329)\n\tat org.apache.spark.scheduler.ResultTask.runTask(ResultTask.scala:90)\n\tat org.apache.spark.scheduler.Task.run(Task.scala:136)\n\tat org.apache.spark.executor.Executor$TaskRunner.$anonfun$run$3(Executor.scala:548)\n\tat org.apache.spark.util.Utils$.tryWithSafeFinally(Utils.scala:1504)\n\tat org.apache.spark.executor.Executor$TaskRunner.run(Executor.scala:551)\n\tat java.util.concurrent.ThreadPoolExecutor.runWorker(ThreadPoolExecutor.java:1149)\n\tat java.util.concurrent.ThreadPoolExecutor$Worker.run(ThreadPoolExecutor.java:624)\n\t... 1 more\nCaused by: org.apache.spark.SparkException: StringIndexer encountered NULL value. To handle or skip NULLS, try setting StringIndexer.handleInvalid.\n\tat org.apache.spark.ml.feature.StringIndexerModel.$anonfun$getIndexer$1(StringIndexer.scala:396)\n\tat org.apache.spark.ml.feature.StringIndexerModel.$anonfun$getIndexer$1$adapted(StringIndexer.scala:391)\n\t... 17 more\n"
          ]
        }
      ]
    },
    {
      "cell_type": "code",
      "source": [
        "from pyspark.sql.functions import regexp_extract, when\n",
        "\n",
        "# Define regular expression pattern to match 'Mrs', 'Mr', and 'Miss'\n",
        "name_pattern = '(Mrs|Mr|Miss)'\n",
        "\n",
        "# Create new column 'NameAbrev' using regexp_extract function\n",
        "df = df.withColumn('NameAbrev', regexp_extract('Name', name_pattern, 1))\n",
        "\n",
        "# If 'NameAbrev' is null or empty, replace with 'None'\n",
        "df = df.withColumn('NameAbrev', when(df.NameAbrev.isNull() | (df.NameAbrev == ''), 'None').otherwise(df.NameAbrev))\n"
      ],
      "metadata": {
        "id": "y5xvp5tEe9Qn"
      },
      "execution_count": 50,
      "outputs": []
    },
    {
      "cell_type": "code",
      "source": [
        "df.show()"
      ],
      "metadata": {
        "colab": {
          "base_uri": "https://localhost:8080/"
        },
        "id": "StihrZMqe9OY",
        "outputId": "6e56316a-96a6-4aad-bade-ae7656f83895"
      },
      "execution_count": 183,
      "outputs": [
        {
          "output_type": "stream",
          "name": "stdout",
          "text": [
            "+-----------+--------+------+---+----+-----+-----+-------+---------+------------+------+----------+------------+-------------+\n",
            "|PassengerId|Survived|Pclass|sex| Age|SibSp|Parch|   Fare|traintest|TicketNumber|Embark|CabinAbrev|CabinNumbers|CabinOnTicket|\n",
            "+-----------+--------+------+---+----+-----+-----+-------+---------+------------+------+----------+------------+-------------+\n",
            "|          1|       0|     3|0.0|  22|    1|    0|   7.25|    train|       21171|   0.0|       0.0|           0|            0|\n",
            "|          2|       1|     1|1.0|  38|    1|    0|71.2833|    train|       17599|   1.0|       1.0|          85|            1|\n",
            "|          3|       1|     3|1.0|  26|    0|    0|  7.925|    train|     3101282|   0.0|       0.0|           0|            0|\n",
            "|          4|       1|     1|1.0|  35|    1|    0|   53.1|    train|      113803|   0.0|       1.0|         123|            1|\n",
            "|          5|       0|     3|0.0|  35|    0|    0|   8.05|    train|      373450|   0.0|       0.0|           0|            0|\n",
            "|          6|       0|     3|0.0|null|    0|    0| 8.4583|    train|      330877|   2.0|       0.0|           0|            0|\n",
            "|          7|       0|     1|0.0|  54|    0|    0|51.8625|    train|       17463|   0.0|       4.0|          46|            1|\n",
            "|          8|       0|     3|0.0|   2|    3|    1| 21.075|    train|      349909|   0.0|       0.0|           0|            0|\n",
            "|          9|       1|     3|1.0|  27|    0|    2|11.1333|    train|      347742|   0.0|       0.0|           0|            0|\n",
            "|         10|       1|     2|1.0|  14|    1|    0|30.0708|    train|      237736|   1.0|       0.0|           0|            0|\n",
            "|         11|       1|     3|1.0|   4|    1|    1|   16.7|    train|        9549|   0.0|       7.0|           6|            1|\n",
            "|         12|       1|     1|1.0|  58|    0|    0|  26.55|    train|      113783|   0.0|       1.0|         103|            1|\n",
            "|         13|       0|     3|0.0|  20|    0|    0|   8.05|    train|        2151|   0.0|       0.0|           0|            0|\n",
            "|         14|       0|     3|0.0|  39|    1|    5| 31.275|    train|      347082|   0.0|       0.0|           0|            0|\n",
            "|         15|       0|     3|1.0|  14|    0|    0| 7.8542|    train|      350406|   0.0|       0.0|           0|            0|\n",
            "|         16|       1|     2|1.0|  55|    0|    0|     16|    train|      248706|   0.0|       0.0|           0|            0|\n",
            "|         17|       0|     3|0.0|   2|    4|    1| 29.125|    train|      382652|   2.0|       0.0|           0|            0|\n",
            "|         18|       1|     2|0.0|null|    0|    0|     13|    train|      244373|   0.0|       0.0|           0|            0|\n",
            "|         19|       0|     3|1.0|  31|    1|    0|     18|    train|      345763|   0.0|       0.0|           0|            0|\n",
            "|         20|       1|     3|1.0|null|    0|    0|  7.225|    train|        2649|   1.0|       0.0|           0|            0|\n",
            "+-----------+--------+------+---+----+-----+-----+-------+---------+------------+------+----------+------------+-------------+\n",
            "only showing top 20 rows\n",
            "\n"
          ]
        }
      ]
    },
    {
      "cell_type": "code",
      "source": [
        "from pyspark.sql.functions import split, when\n",
        "\n",
        "# Split the 'Ticket' column into 'TicketName' and 'TicketNumber'\n",
        "df = df.withColumn('TicketName', when(df['Ticket'].rlike('\\\\s'), split(df['Ticket'], ' ').getItem(0)).otherwise(None)) \\\n",
        "       .withColumn('TicketNumber', when(df['Ticket'].rlike('\\\\s'), split(df['Ticket'], ' ').getItem(1)).otherwise(df['Ticket']))\n"
      ],
      "metadata": {
        "id": "aAlUPxIKe9L7"
      },
      "execution_count": 82,
      "outputs": []
    },
    {
      "cell_type": "code",
      "source": [
        "df = df.drop('Ticket')"
      ],
      "metadata": {
        "id": "FGjwR3KMe9J8"
      },
      "execution_count": 85,
      "outputs": []
    },
    {
      "cell_type": "code",
      "source": [
        "df = df.withColumn('Embarked', df['Embark'])\n",
        "df = df.drop('Embarked')"
      ],
      "metadata": {
        "id": "yX-qOvYyLeyB"
      },
      "execution_count": 59,
      "outputs": []
    },
    {
      "cell_type": "code",
      "source": [
        "df.show()"
      ],
      "metadata": {
        "colab": {
          "base_uri": "https://localhost:8080/"
        },
        "id": "InsUDLZcLewe",
        "outputId": "a586cc95-3b05-4212-afd0-64a2af8d89e4"
      },
      "execution_count": 86,
      "outputs": [
        {
          "output_type": "stream",
          "name": "stdout",
          "text": [
            "+-----------+--------+------+---+----+-----+-----+-------+---------+---------+------------+------+----------+------------+-------------+----------+\n",
            "|PassengerId|Survived|Pclass|sex| Age|SibSp|Parch|   Fare|traintest|NameAbrev|TicketNumber|Embark|CabinAbrev|CabinNumbers|CabinOnTicket|TicketName|\n",
            "+-----------+--------+------+---+----+-----+-----+-------+---------+---------+------------+------+----------+------------+-------------+----------+\n",
            "|          1|       0|     3|0.0|  22|    1|    0|   7.25|    train|       Mr|       21171|   0.0|       0.0|           0|            0|       A/5|\n",
            "|          2|       1|     1|1.0|  38|    1|    0|71.2833|    train|      Mrs|       17599|   1.0|       1.0|          85|            1|        PC|\n",
            "|          3|       1|     3|1.0|  26|    0|    0|  7.925|    train|     Miss|     3101282|   0.0|       0.0|           0|            0|  STON/O2.|\n",
            "|          4|       1|     1|1.0|  35|    1|    0|   53.1|    train|      Mrs|      113803|   0.0|       1.0|         123|            1|      null|\n",
            "|          5|       0|     3|0.0|  35|    0|    0|   8.05|    train|       Mr|      373450|   0.0|       0.0|           0|            0|      null|\n",
            "|          6|       0|     3|0.0|null|    0|    0| 8.4583|    train|       Mr|      330877|   2.0|       0.0|           0|            0|      null|\n",
            "|          7|       0|     1|0.0|  54|    0|    0|51.8625|    train|       Mr|       17463|   0.0|       4.0|          46|            1|      null|\n",
            "|          8|       0|     3|0.0|   2|    3|    1| 21.075|    train|     None|      349909|   0.0|       0.0|           0|            0|      null|\n",
            "|          9|       1|     3|1.0|  27|    0|    2|11.1333|    train|      Mrs|      347742|   0.0|       0.0|           0|            0|      null|\n",
            "|         10|       1|     2|1.0|  14|    1|    0|30.0708|    train|      Mrs|      237736|   1.0|       0.0|           0|            0|      null|\n",
            "|         11|       1|     3|1.0|   4|    1|    1|   16.7|    train|     Miss|        9549|   0.0|       7.0|           6|            1|        PP|\n",
            "|         12|       1|     1|1.0|  58|    0|    0|  26.55|    train|     Miss|      113783|   0.0|       1.0|         103|            1|      null|\n",
            "|         13|       0|     3|0.0|  20|    0|    0|   8.05|    train|       Mr|        2151|   0.0|       0.0|           0|            0|      A/5.|\n",
            "|         14|       0|     3|0.0|  39|    1|    5| 31.275|    train|       Mr|      347082|   0.0|       0.0|           0|            0|      null|\n",
            "|         15|       0|     3|1.0|  14|    0|    0| 7.8542|    train|     Miss|      350406|   0.0|       0.0|           0|            0|      null|\n",
            "|         16|       1|     2|1.0|  55|    0|    0|     16|    train|      Mrs|      248706|   0.0|       0.0|           0|            0|      null|\n",
            "|         17|       0|     3|0.0|   2|    4|    1| 29.125|    train|     None|      382652|   2.0|       0.0|           0|            0|      null|\n",
            "|         18|       1|     2|0.0|null|    0|    0|     13|    train|       Mr|      244373|   0.0|       0.0|           0|            0|      null|\n",
            "|         19|       0|     3|1.0|  31|    1|    0|     18|    train|      Mrs|      345763|   0.0|       0.0|           0|            0|      null|\n",
            "|         20|       1|     3|1.0|null|    0|    0|  7.225|    train|      Mrs|        2649|   1.0|       0.0|           0|            0|      null|\n",
            "+-----------+--------+------+---+----+-----+-----+-------+---------+---------+------------+------+----------+------------+-------------+----------+\n",
            "only showing top 20 rows\n",
            "\n"
          ]
        }
      ]
    },
    {
      "cell_type": "code",
      "source": [
        "from pyspark.sql.functions import *\n",
        "from pyspark.sql.types import *"
      ],
      "metadata": {
        "id": "RBsjAJh2Leu7"
      },
      "execution_count": null,
      "outputs": []
    },
    {
      "cell_type": "code",
      "source": [],
      "metadata": {
        "colab": {
          "base_uri": "https://localhost:8080/"
        },
        "id": "BYEuIAwWm2Rf",
        "outputId": "2826dea7-4951-4476-b31d-b7dfa988c569"
      },
      "execution_count": null,
      "outputs": [
        {
          "output_type": "execute_result",
          "data": {
            "text/plain": [
              "DataFrame[PassengerId: string, Survived: string, Pclass: string, Name: string, sex: double, Age: string, SibSp: string, Parch: string, Ticket: string, Fare: string, Cabin: string, Embarked: double, traintest: string, NameContains: int, TicketName: string, TicketNumber: string]"
            ]
          },
          "metadata": {},
          "execution_count": 230
        }
      ]
    },
    {
      "cell_type": "code",
      "source": [
        "\n",
        "df = df.withColumn('CabinAbrev', when(df['Cabin'].rlike('[A-Za-z]'), regexp_extract(df['Cabin'], '[A-Za-z]', 0)).otherwise(0))\n"
      ],
      "metadata": {
        "id": "aiVRiZetLetm"
      },
      "execution_count": 61,
      "outputs": []
    },
    {
      "cell_type": "code",
      "source": [
        "df.show()"
      ],
      "metadata": {
        "colab": {
          "base_uri": "https://localhost:8080/"
        },
        "id": "0vna1KUALerc",
        "outputId": "a4e4ffbb-dd42-4eec-9971-e706c9c2e2fa"
      },
      "execution_count": 62,
      "outputs": [
        {
          "output_type": "stream",
          "name": "stdout",
          "text": [
            "+-----------+--------+------+--------------------+---+----+-----+-----+----------------+-------+-----+---------+---------+----------+------------+------+----------+\n",
            "|PassengerId|Survived|Pclass|                Name|sex| Age|SibSp|Parch|          Ticket|   Fare|Cabin|traintest|NameAbrev|TicketName|TicketNumber|Embark|CabinAbrev|\n",
            "+-----------+--------+------+--------------------+---+----+-----+-----+----------------+-------+-----+---------+---------+----------+------------+------+----------+\n",
            "|          1|       0|     3|Braund, Mr. Owen ...|0.0|  22|    1|    0|       A/5 21171|   7.25|    0|    train|       Mr|       A/5|       21171|   0.0|         0|\n",
            "|          2|       1|     1|Cumings, Mrs. Joh...|1.0|  38|    1|    0|        PC 17599|71.2833|  C85|    train|      Mrs|        PC|       17599|   1.0|         C|\n",
            "|          3|       1|     3|Heikkinen, Miss. ...|1.0|  26|    0|    0|STON/O2. 3101282|  7.925|    0|    train|     Miss|  STON/O2.|     3101282|   0.0|         0|\n",
            "|          4|       1|     1|Futrelle, Mrs. Ja...|1.0|  35|    1|    0|          113803|   53.1| C123|    train|      Mrs|      null|      113803|   0.0|         C|\n",
            "|          5|       0|     3|Allen, Mr. Willia...|0.0|  35|    0|    0|          373450|   8.05|    0|    train|       Mr|      null|      373450|   0.0|         0|\n",
            "|          6|       0|     3|    Moran, Mr. James|0.0|null|    0|    0|          330877| 8.4583|    0|    train|       Mr|      null|      330877|   2.0|         0|\n",
            "|          7|       0|     1|McCarthy, Mr. Tim...|0.0|  54|    0|    0|           17463|51.8625|  E46|    train|       Mr|      null|       17463|   0.0|         E|\n",
            "|          8|       0|     3|Palsson, Master. ...|0.0|   2|    3|    1|          349909| 21.075|    0|    train|     None|      null|      349909|   0.0|         0|\n",
            "|          9|       1|     3|Johnson, Mrs. Osc...|1.0|  27|    0|    2|          347742|11.1333|    0|    train|      Mrs|      null|      347742|   0.0|         0|\n",
            "|         10|       1|     2|Nasser, Mrs. Nich...|1.0|  14|    1|    0|          237736|30.0708|    0|    train|      Mrs|      null|      237736|   1.0|         0|\n",
            "|         11|       1|     3|Sandstrom, Miss. ...|1.0|   4|    1|    1|         PP 9549|   16.7|   G6|    train|     Miss|        PP|        9549|   0.0|         G|\n",
            "|         12|       1|     1|Bonnell, Miss. El...|1.0|  58|    0|    0|          113783|  26.55| C103|    train|     Miss|      null|      113783|   0.0|         C|\n",
            "|         13|       0|     3|Saundercock, Mr. ...|0.0|  20|    0|    0|       A/5. 2151|   8.05|    0|    train|       Mr|      A/5.|        2151|   0.0|         0|\n",
            "|         14|       0|     3|Andersson, Mr. An...|0.0|  39|    1|    5|          347082| 31.275|    0|    train|       Mr|      null|      347082|   0.0|         0|\n",
            "|         15|       0|     3|Vestrom, Miss. Hu...|1.0|  14|    0|    0|          350406| 7.8542|    0|    train|     Miss|      null|      350406|   0.0|         0|\n",
            "|         16|       1|     2|Hewlett, Mrs. (Ma...|1.0|  55|    0|    0|          248706|     16|    0|    train|      Mrs|      null|      248706|   0.0|         0|\n",
            "|         17|       0|     3|Rice, Master. Eugene|0.0|   2|    4|    1|          382652| 29.125|    0|    train|     None|      null|      382652|   2.0|         0|\n",
            "|         18|       1|     2|Williams, Mr. Cha...|0.0|null|    0|    0|          244373|     13|    0|    train|       Mr|      null|      244373|   0.0|         0|\n",
            "|         19|       0|     3|Vander Planke, Mr...|1.0|  31|    1|    0|          345763|     18|    0|    train|      Mrs|      null|      345763|   0.0|         0|\n",
            "|         20|       1|     3|Masselmani, Mrs. ...|1.0|null|    0|    0|            2649|  7.225|    0|    train|      Mrs|      null|        2649|   1.0|         0|\n",
            "+-----------+--------+------+--------------------+---+----+-----+-----+----------------+-------+-----+---------+---------+----------+------------+------+----------+\n",
            "only showing top 20 rows\n",
            "\n"
          ]
        }
      ]
    },
    {
      "cell_type": "code",
      "source": [
        "from pyspark.sql.functions import regexp_replace\n",
        "df = df.withColumn('CabinNumbers', regexp_replace(df['Cabin'], '[^0-9]', ''))\n"
      ],
      "metadata": {
        "id": "Oz50E_GrLep0"
      },
      "execution_count": 64,
      "outputs": []
    },
    {
      "cell_type": "code",
      "source": [
        "df.show()"
      ],
      "metadata": {
        "colab": {
          "base_uri": "https://localhost:8080/"
        },
        "id": "Kh1N6Qy6Lem2",
        "outputId": "16ba0005-9295-4d09-d504-f59da652daad"
      },
      "execution_count": 65,
      "outputs": [
        {
          "output_type": "stream",
          "name": "stdout",
          "text": [
            "+-----------+--------+------+--------------------+---+----+-----+-----+----------------+-------+-----+---------+---------+----------+------------+------+----------+------------+\n",
            "|PassengerId|Survived|Pclass|                Name|sex| Age|SibSp|Parch|          Ticket|   Fare|Cabin|traintest|NameAbrev|TicketName|TicketNumber|Embark|CabinAbrev|CabinNumbers|\n",
            "+-----------+--------+------+--------------------+---+----+-----+-----+----------------+-------+-----+---------+---------+----------+------------+------+----------+------------+\n",
            "|          1|       0|     3|Braund, Mr. Owen ...|0.0|  22|    1|    0|       A/5 21171|   7.25|    0|    train|       Mr|       A/5|       21171|   0.0|         0|           0|\n",
            "|          2|       1|     1|Cumings, Mrs. Joh...|1.0|  38|    1|    0|        PC 17599|71.2833|  C85|    train|      Mrs|        PC|       17599|   1.0|         C|          85|\n",
            "|          3|       1|     3|Heikkinen, Miss. ...|1.0|  26|    0|    0|STON/O2. 3101282|  7.925|    0|    train|     Miss|  STON/O2.|     3101282|   0.0|         0|           0|\n",
            "|          4|       1|     1|Futrelle, Mrs. Ja...|1.0|  35|    1|    0|          113803|   53.1| C123|    train|      Mrs|      null|      113803|   0.0|         C|         123|\n",
            "|          5|       0|     3|Allen, Mr. Willia...|0.0|  35|    0|    0|          373450|   8.05|    0|    train|       Mr|      null|      373450|   0.0|         0|           0|\n",
            "|          6|       0|     3|    Moran, Mr. James|0.0|null|    0|    0|          330877| 8.4583|    0|    train|       Mr|      null|      330877|   2.0|         0|           0|\n",
            "|          7|       0|     1|McCarthy, Mr. Tim...|0.0|  54|    0|    0|           17463|51.8625|  E46|    train|       Mr|      null|       17463|   0.0|         E|          46|\n",
            "|          8|       0|     3|Palsson, Master. ...|0.0|   2|    3|    1|          349909| 21.075|    0|    train|     None|      null|      349909|   0.0|         0|           0|\n",
            "|          9|       1|     3|Johnson, Mrs. Osc...|1.0|  27|    0|    2|          347742|11.1333|    0|    train|      Mrs|      null|      347742|   0.0|         0|           0|\n",
            "|         10|       1|     2|Nasser, Mrs. Nich...|1.0|  14|    1|    0|          237736|30.0708|    0|    train|      Mrs|      null|      237736|   1.0|         0|           0|\n",
            "|         11|       1|     3|Sandstrom, Miss. ...|1.0|   4|    1|    1|         PP 9549|   16.7|   G6|    train|     Miss|        PP|        9549|   0.0|         G|           6|\n",
            "|         12|       1|     1|Bonnell, Miss. El...|1.0|  58|    0|    0|          113783|  26.55| C103|    train|     Miss|      null|      113783|   0.0|         C|         103|\n",
            "|         13|       0|     3|Saundercock, Mr. ...|0.0|  20|    0|    0|       A/5. 2151|   8.05|    0|    train|       Mr|      A/5.|        2151|   0.0|         0|           0|\n",
            "|         14|       0|     3|Andersson, Mr. An...|0.0|  39|    1|    5|          347082| 31.275|    0|    train|       Mr|      null|      347082|   0.0|         0|           0|\n",
            "|         15|       0|     3|Vestrom, Miss. Hu...|1.0|  14|    0|    0|          350406| 7.8542|    0|    train|     Miss|      null|      350406|   0.0|         0|           0|\n",
            "|         16|       1|     2|Hewlett, Mrs. (Ma...|1.0|  55|    0|    0|          248706|     16|    0|    train|      Mrs|      null|      248706|   0.0|         0|           0|\n",
            "|         17|       0|     3|Rice, Master. Eugene|0.0|   2|    4|    1|          382652| 29.125|    0|    train|     None|      null|      382652|   2.0|         0|           0|\n",
            "|         18|       1|     2|Williams, Mr. Cha...|0.0|null|    0|    0|          244373|     13|    0|    train|       Mr|      null|      244373|   0.0|         0|           0|\n",
            "|         19|       0|     3|Vander Planke, Mr...|1.0|  31|    1|    0|          345763|     18|    0|    train|      Mrs|      null|      345763|   0.0|         0|           0|\n",
            "|         20|       1|     3|Masselmani, Mrs. ...|1.0|null|    0|    0|            2649|  7.225|    0|    train|      Mrs|      null|        2649|   1.0|         0|           0|\n",
            "+-----------+--------+------+--------------------+---+----+-----+-----+----------------+-------+-----+---------+---------+----------+------------+------+----------+------------+\n",
            "only showing top 20 rows\n",
            "\n"
          ]
        }
      ]
    },
    {
      "cell_type": "code",
      "source": [
        "df =df.drop('Cabin')"
      ],
      "metadata": {
        "id": "3UjMU7VsLekn"
      },
      "execution_count": 66,
      "outputs": []
    },
    {
      "cell_type": "code",
      "source": [
        "df = df.withColumn('CabinOnTicket', when((df.CabinAbrev == 0), 0).otherwise(1))\n"
      ],
      "metadata": {
        "id": "VddIjNlIWopi"
      },
      "execution_count": 67,
      "outputs": []
    },
    {
      "cell_type": "code",
      "source": [
        "df.show()"
      ],
      "metadata": {
        "colab": {
          "base_uri": "https://localhost:8080/"
        },
        "id": "r_n80IhiXLXa",
        "outputId": "05638cae-f93a-4c88-e5b0-c8a6754a27e7"
      },
      "execution_count": 80,
      "outputs": [
        {
          "output_type": "stream",
          "name": "stdout",
          "text": [
            "+-----------+--------+------+---+----+-----+-----+----------------+-------+---------+---------+------------+------+----------+------------+-------------+\n",
            "|PassengerId|Survived|Pclass|sex| Age|SibSp|Parch|          Ticket|   Fare|traintest|NameAbrev|TicketNumber|Embark|CabinAbrev|CabinNumbers|CabinOnTicket|\n",
            "+-----------+--------+------+---+----+-----+-----+----------------+-------+---------+---------+------------+------+----------+------------+-------------+\n",
            "|          1|       0|     3|0.0|  22|    1|    0|       A/5 21171|   7.25|    train|       Mr|       21171|   0.0|       0.0|           0|            0|\n",
            "|          2|       1|     1|1.0|  38|    1|    0|        PC 17599|71.2833|    train|      Mrs|       17599|   1.0|       1.0|          85|            1|\n",
            "|          3|       1|     3|1.0|  26|    0|    0|STON/O2. 3101282|  7.925|    train|     Miss|     3101282|   0.0|       0.0|           0|            0|\n",
            "|          4|       1|     1|1.0|  35|    1|    0|          113803|   53.1|    train|      Mrs|      113803|   0.0|       1.0|         123|            1|\n",
            "|          5|       0|     3|0.0|  35|    0|    0|          373450|   8.05|    train|       Mr|      373450|   0.0|       0.0|           0|            0|\n",
            "|          6|       0|     3|0.0|null|    0|    0|          330877| 8.4583|    train|       Mr|      330877|   2.0|       0.0|           0|            0|\n",
            "|          7|       0|     1|0.0|  54|    0|    0|           17463|51.8625|    train|       Mr|       17463|   0.0|       4.0|          46|            1|\n",
            "|          8|       0|     3|0.0|   2|    3|    1|          349909| 21.075|    train|     None|      349909|   0.0|       0.0|           0|            0|\n",
            "|          9|       1|     3|1.0|  27|    0|    2|          347742|11.1333|    train|      Mrs|      347742|   0.0|       0.0|           0|            0|\n",
            "|         10|       1|     2|1.0|  14|    1|    0|          237736|30.0708|    train|      Mrs|      237736|   1.0|       0.0|           0|            0|\n",
            "|         11|       1|     3|1.0|   4|    1|    1|         PP 9549|   16.7|    train|     Miss|        9549|   0.0|       7.0|           6|            1|\n",
            "|         12|       1|     1|1.0|  58|    0|    0|          113783|  26.55|    train|     Miss|      113783|   0.0|       1.0|         103|            1|\n",
            "|         13|       0|     3|0.0|  20|    0|    0|       A/5. 2151|   8.05|    train|       Mr|        2151|   0.0|       0.0|           0|            0|\n",
            "|         14|       0|     3|0.0|  39|    1|    5|          347082| 31.275|    train|       Mr|      347082|   0.0|       0.0|           0|            0|\n",
            "|         15|       0|     3|1.0|  14|    0|    0|          350406| 7.8542|    train|     Miss|      350406|   0.0|       0.0|           0|            0|\n",
            "|         16|       1|     2|1.0|  55|    0|    0|          248706|     16|    train|      Mrs|      248706|   0.0|       0.0|           0|            0|\n",
            "|         17|       0|     3|0.0|   2|    4|    1|          382652| 29.125|    train|     None|      382652|   2.0|       0.0|           0|            0|\n",
            "|         18|       1|     2|0.0|null|    0|    0|          244373|     13|    train|       Mr|      244373|   0.0|       0.0|           0|            0|\n",
            "|         19|       0|     3|1.0|  31|    1|    0|          345763|     18|    train|      Mrs|      345763|   0.0|       0.0|           0|            0|\n",
            "|         20|       1|     3|1.0|null|    0|    0|            2649|  7.225|    train|      Mrs|        2649|   1.0|       0.0|           0|            0|\n",
            "+-----------+--------+------+---+----+-----+-----+----------------+-------+---------+---------+------------+------+----------+------------+-------------+\n",
            "only showing top 20 rows\n",
            "\n"
          ]
        }
      ]
    },
    {
      "cell_type": "code",
      "source": [
        "indexer = StringIndexer(inputCol='CabinAbrev', outputCol = 'CabinAbrevEncoded')\n",
        "indexer_fitted = indexer.fit(df)"
      ],
      "metadata": {
        "id": "rCbe5zjhLeh-"
      },
      "execution_count": 70,
      "outputs": []
    },
    {
      "cell_type": "code",
      "source": [
        "df.groupBy('CabinAbrev').count().show()"
      ],
      "metadata": {
        "colab": {
          "base_uri": "https://localhost:8080/"
        },
        "id": "OCh4JNBuLefk",
        "outputId": "b32923e4-91a2-46e1-c858-04daa566f26c"
      },
      "execution_count": 72,
      "outputs": [
        {
          "output_type": "stream",
          "name": "stdout",
          "text": [
            "+----------+-----+\n",
            "|CabinAbrev|count|\n",
            "+----------+-----+\n",
            "|         F|   21|\n",
            "|         0| 1013|\n",
            "|         E|   41|\n",
            "|         T|    1|\n",
            "|         B|   63|\n",
            "|         D|   46|\n",
            "|         C|   94|\n",
            "|         A|   22|\n",
            "|         G|    5|\n",
            "+----------+-----+\n",
            "\n"
          ]
        }
      ]
    },
    {
      "cell_type": "code",
      "source": [
        "df = indexer_fitted.transform(df)\n",
        "df.show()"
      ],
      "metadata": {
        "colab": {
          "base_uri": "https://localhost:8080/"
        },
        "id": "A6Aw1Al5LedK",
        "outputId": "4c5fd4ee-e196-4ee3-9b1c-afd9fb6836aa"
      },
      "execution_count": 71,
      "outputs": [
        {
          "output_type": "stream",
          "name": "stdout",
          "text": [
            "+-----------+--------+------+--------------------+---+----+-----+-----+----------------+-------+---------+---------+----------+------------+------+----------+------------+-------------+-----------------+\n",
            "|PassengerId|Survived|Pclass|                Name|sex| Age|SibSp|Parch|          Ticket|   Fare|traintest|NameAbrev|TicketName|TicketNumber|Embark|CabinAbrev|CabinNumbers|CabinOnTicket|CabinAbrevEncoded|\n",
            "+-----------+--------+------+--------------------+---+----+-----+-----+----------------+-------+---------+---------+----------+------------+------+----------+------------+-------------+-----------------+\n",
            "|          1|       0|     3|Braund, Mr. Owen ...|0.0|  22|    1|    0|       A/5 21171|   7.25|    train|       Mr|       A/5|       21171|   0.0|         0|           0|            0|              0.0|\n",
            "|          2|       1|     1|Cumings, Mrs. Joh...|1.0|  38|    1|    0|        PC 17599|71.2833|    train|      Mrs|        PC|       17599|   1.0|         C|          85|            1|              1.0|\n",
            "|          3|       1|     3|Heikkinen, Miss. ...|1.0|  26|    0|    0|STON/O2. 3101282|  7.925|    train|     Miss|  STON/O2.|     3101282|   0.0|         0|           0|            0|              0.0|\n",
            "|          4|       1|     1|Futrelle, Mrs. Ja...|1.0|  35|    1|    0|          113803|   53.1|    train|      Mrs|      null|      113803|   0.0|         C|         123|            1|              1.0|\n",
            "|          5|       0|     3|Allen, Mr. Willia...|0.0|  35|    0|    0|          373450|   8.05|    train|       Mr|      null|      373450|   0.0|         0|           0|            0|              0.0|\n",
            "|          6|       0|     3|    Moran, Mr. James|0.0|null|    0|    0|          330877| 8.4583|    train|       Mr|      null|      330877|   2.0|         0|           0|            0|              0.0|\n",
            "|          7|       0|     1|McCarthy, Mr. Tim...|0.0|  54|    0|    0|           17463|51.8625|    train|       Mr|      null|       17463|   0.0|         E|          46|            1|              4.0|\n",
            "|          8|       0|     3|Palsson, Master. ...|0.0|   2|    3|    1|          349909| 21.075|    train|     None|      null|      349909|   0.0|         0|           0|            0|              0.0|\n",
            "|          9|       1|     3|Johnson, Mrs. Osc...|1.0|  27|    0|    2|          347742|11.1333|    train|      Mrs|      null|      347742|   0.0|         0|           0|            0|              0.0|\n",
            "|         10|       1|     2|Nasser, Mrs. Nich...|1.0|  14|    1|    0|          237736|30.0708|    train|      Mrs|      null|      237736|   1.0|         0|           0|            0|              0.0|\n",
            "|         11|       1|     3|Sandstrom, Miss. ...|1.0|   4|    1|    1|         PP 9549|   16.7|    train|     Miss|        PP|        9549|   0.0|         G|           6|            1|              7.0|\n",
            "|         12|       1|     1|Bonnell, Miss. El...|1.0|  58|    0|    0|          113783|  26.55|    train|     Miss|      null|      113783|   0.0|         C|         103|            1|              1.0|\n",
            "|         13|       0|     3|Saundercock, Mr. ...|0.0|  20|    0|    0|       A/5. 2151|   8.05|    train|       Mr|      A/5.|        2151|   0.0|         0|           0|            0|              0.0|\n",
            "|         14|       0|     3|Andersson, Mr. An...|0.0|  39|    1|    5|          347082| 31.275|    train|       Mr|      null|      347082|   0.0|         0|           0|            0|              0.0|\n",
            "|         15|       0|     3|Vestrom, Miss. Hu...|1.0|  14|    0|    0|          350406| 7.8542|    train|     Miss|      null|      350406|   0.0|         0|           0|            0|              0.0|\n",
            "|         16|       1|     2|Hewlett, Mrs. (Ma...|1.0|  55|    0|    0|          248706|     16|    train|      Mrs|      null|      248706|   0.0|         0|           0|            0|              0.0|\n",
            "|         17|       0|     3|Rice, Master. Eugene|0.0|   2|    4|    1|          382652| 29.125|    train|     None|      null|      382652|   2.0|         0|           0|            0|              0.0|\n",
            "|         18|       1|     2|Williams, Mr. Cha...|0.0|null|    0|    0|          244373|     13|    train|       Mr|      null|      244373|   0.0|         0|           0|            0|              0.0|\n",
            "|         19|       0|     3|Vander Planke, Mr...|1.0|  31|    1|    0|          345763|     18|    train|      Mrs|      null|      345763|   0.0|         0|           0|            0|              0.0|\n",
            "|         20|       1|     3|Masselmani, Mrs. ...|1.0|null|    0|    0|            2649|  7.225|    train|      Mrs|      null|        2649|   1.0|         0|           0|            0|              0.0|\n",
            "+-----------+--------+------+--------------------+---+----+-----+-----+----------------+-------+---------+---------+----------+------------+------+----------+------------+-------------+-----------------+\n",
            "only showing top 20 rows\n",
            "\n"
          ]
        }
      ]
    },
    {
      "cell_type": "code",
      "source": [
        "df = df.withColumn('CabinAbrev', df['CabinAbrevEncoded'])\n",
        "df = df.drop('CabinAbrevEncoded')\n",
        "df.show()"
      ],
      "metadata": {
        "colab": {
          "base_uri": "https://localhost:8080/"
        },
        "id": "fBqpGRyhn6nY",
        "outputId": "a916243a-7b65-4273-9db9-11d829389d71"
      },
      "execution_count": 73,
      "outputs": [
        {
          "output_type": "stream",
          "name": "stdout",
          "text": [
            "+-----------+--------+------+--------------------+---+----+-----+-----+----------------+-------+---------+---------+----------+------------+------+----------+------------+-------------+\n",
            "|PassengerId|Survived|Pclass|                Name|sex| Age|SibSp|Parch|          Ticket|   Fare|traintest|NameAbrev|TicketName|TicketNumber|Embark|CabinAbrev|CabinNumbers|CabinOnTicket|\n",
            "+-----------+--------+------+--------------------+---+----+-----+-----+----------------+-------+---------+---------+----------+------------+------+----------+------------+-------------+\n",
            "|          1|       0|     3|Braund, Mr. Owen ...|0.0|  22|    1|    0|       A/5 21171|   7.25|    train|       Mr|       A/5|       21171|   0.0|       0.0|           0|            0|\n",
            "|          2|       1|     1|Cumings, Mrs. Joh...|1.0|  38|    1|    0|        PC 17599|71.2833|    train|      Mrs|        PC|       17599|   1.0|       1.0|          85|            1|\n",
            "|          3|       1|     3|Heikkinen, Miss. ...|1.0|  26|    0|    0|STON/O2. 3101282|  7.925|    train|     Miss|  STON/O2.|     3101282|   0.0|       0.0|           0|            0|\n",
            "|          4|       1|     1|Futrelle, Mrs. Ja...|1.0|  35|    1|    0|          113803|   53.1|    train|      Mrs|      null|      113803|   0.0|       1.0|         123|            1|\n",
            "|          5|       0|     3|Allen, Mr. Willia...|0.0|  35|    0|    0|          373450|   8.05|    train|       Mr|      null|      373450|   0.0|       0.0|           0|            0|\n",
            "|          6|       0|     3|    Moran, Mr. James|0.0|null|    0|    0|          330877| 8.4583|    train|       Mr|      null|      330877|   2.0|       0.0|           0|            0|\n",
            "|          7|       0|     1|McCarthy, Mr. Tim...|0.0|  54|    0|    0|           17463|51.8625|    train|       Mr|      null|       17463|   0.0|       4.0|          46|            1|\n",
            "|          8|       0|     3|Palsson, Master. ...|0.0|   2|    3|    1|          349909| 21.075|    train|     None|      null|      349909|   0.0|       0.0|           0|            0|\n",
            "|          9|       1|     3|Johnson, Mrs. Osc...|1.0|  27|    0|    2|          347742|11.1333|    train|      Mrs|      null|      347742|   0.0|       0.0|           0|            0|\n",
            "|         10|       1|     2|Nasser, Mrs. Nich...|1.0|  14|    1|    0|          237736|30.0708|    train|      Mrs|      null|      237736|   1.0|       0.0|           0|            0|\n",
            "|         11|       1|     3|Sandstrom, Miss. ...|1.0|   4|    1|    1|         PP 9549|   16.7|    train|     Miss|        PP|        9549|   0.0|       7.0|           6|            1|\n",
            "|         12|       1|     1|Bonnell, Miss. El...|1.0|  58|    0|    0|          113783|  26.55|    train|     Miss|      null|      113783|   0.0|       1.0|         103|            1|\n",
            "|         13|       0|     3|Saundercock, Mr. ...|0.0|  20|    0|    0|       A/5. 2151|   8.05|    train|       Mr|      A/5.|        2151|   0.0|       0.0|           0|            0|\n",
            "|         14|       0|     3|Andersson, Mr. An...|0.0|  39|    1|    5|          347082| 31.275|    train|       Mr|      null|      347082|   0.0|       0.0|           0|            0|\n",
            "|         15|       0|     3|Vestrom, Miss. Hu...|1.0|  14|    0|    0|          350406| 7.8542|    train|     Miss|      null|      350406|   0.0|       0.0|           0|            0|\n",
            "|         16|       1|     2|Hewlett, Mrs. (Ma...|1.0|  55|    0|    0|          248706|     16|    train|      Mrs|      null|      248706|   0.0|       0.0|           0|            0|\n",
            "|         17|       0|     3|Rice, Master. Eugene|0.0|   2|    4|    1|          382652| 29.125|    train|     None|      null|      382652|   2.0|       0.0|           0|            0|\n",
            "|         18|       1|     2|Williams, Mr. Cha...|0.0|null|    0|    0|          244373|     13|    train|       Mr|      null|      244373|   0.0|       0.0|           0|            0|\n",
            "|         19|       0|     3|Vander Planke, Mr...|1.0|  31|    1|    0|          345763|     18|    train|      Mrs|      null|      345763|   0.0|       0.0|           0|            0|\n",
            "|         20|       1|     3|Masselmani, Mrs. ...|1.0|null|    0|    0|            2649|  7.225|    train|      Mrs|      null|        2649|   1.0|       0.0|           0|            0|\n",
            "+-----------+--------+------+--------------------+---+----+-----+-----+----------------+-------+---------+---------+----------+------------+------+----------+------------+-------------+\n",
            "only showing top 20 rows\n",
            "\n"
          ]
        }
      ]
    },
    {
      "cell_type": "code",
      "source": [
        "df.groupBy('TicketName').count().show()"
      ],
      "metadata": {
        "colab": {
          "base_uri": "https://localhost:8080/"
        },
        "id": "uZhF9vLFbpgO",
        "outputId": "0eb69f99-df3d-42bc-e8e5-cd8fd9226fbb"
      },
      "execution_count": 91,
      "outputs": [
        {
          "output_type": "stream",
          "name": "stdout",
          "text": [
            "+----------+-----+\n",
            "|TicketName|count|\n",
            "+----------+-----+\n",
            "|    S.O.P.|    1|\n",
            "|        PC|   92|\n",
            "|        SC|    2|\n",
            "|      P/PP|    2|\n",
            "|  SC/PARIS|   11|\n",
            "|     W./C.|   14|\n",
            "|      S.P.|    1|\n",
            "|       A4.|    1|\n",
            "|  SOTON/O2|    3|\n",
            "|      null|  958|\n",
            "| S.C./A.4.|    1|\n",
            "|       W/C|    1|\n",
            "|        CA|   10|\n",
            "|      F.C.|    3|\n",
            "|      A/4.|    3|\n",
            "|    STON/O|   14|\n",
            "|     SW/PP|    1|\n",
            "|C.A./SOTON|    1|\n",
            "|    S.O.C.|    7|\n",
            "|     SCO/W|    1|\n",
            "+----------+-----+\n",
            "only showing top 20 rows\n",
            "\n"
          ]
        }
      ]
    },
    {
      "cell_type": "code",
      "source": [],
      "metadata": {
        "id": "fTvNA305bpc1"
      },
      "execution_count": 93,
      "outputs": []
    },
    {
      "cell_type": "code",
      "source": [],
      "metadata": {
        "id": "Igd07oC5bpaj"
      },
      "execution_count": null,
      "outputs": []
    },
    {
      "cell_type": "code",
      "source": [
        "df.groupBy('TicketName').count().orderBy('count', ascending=False).show(50)\n"
      ],
      "metadata": {
        "colab": {
          "base_uri": "https://localhost:8080/"
        },
        "id": "cbPzpLaHLebG",
        "outputId": "0a41a282-c07e-4dee-94e1-34b5b9ef0f25"
      },
      "execution_count": 76,
      "outputs": [
        {
          "output_type": "stream",
          "name": "stdout",
          "text": [
            "+----------+-----+\n",
            "|TicketName|count|\n",
            "+----------+-----+\n",
            "|      null|  958|\n",
            "|        PC|   92|\n",
            "|      C.A.|   46|\n",
            "|SOTON/O.Q.|   16|\n",
            "|     W./C.|   14|\n",
            "|    STON/O|   14|\n",
            "|       A/5|   12|\n",
            "|       CA.|   12|\n",
            "|  SC/PARIS|   11|\n",
            "|      A/5.|   10|\n",
            "|        CA|   10|\n",
            "|    F.C.C.|    9|\n",
            "|  SOTON/OQ|    8|\n",
            "|         C|    8|\n",
            "|    S.O.C.|    7|\n",
            "| S.O./P.P.|    7|\n",
            "|  STON/O2.|    7|\n",
            "|       A/4|    6|\n",
            "|  SC/Paris|    5|\n",
            "|     SC/AH|    5|\n",
            "|        PP|    4|\n",
            "|      A.5.|    3|\n",
            "|      A/4.|    3|\n",
            "|S.C./PARIS|    3|\n",
            "|     A./5.|    3|\n",
            "|  SOTON/O2|    3|\n",
            "|      F.C.|    3|\n",
            "|    W.E.P.|    2|\n",
            "|      WE/P|    2|\n",
            "|        SC|    2|\n",
            "|      P/PP|    2|\n",
            "|    S.O.P.|    1|\n",
            "|      S.P.|    1|\n",
            "|        LP|    1|\n",
            "|       A4.|    1|\n",
            "|       A/S|    1|\n",
            "|     SC/A4|    1|\n",
            "| S.C./A.4.|    1|\n",
            "|       W/C|    1|\n",
            "|        Fa|    1|\n",
            "|     AQ/3.|    1|\n",
            "|      AQ/4|    1|\n",
            "|     SW/PP|    1|\n",
            "|C.A./SOTON|    1|\n",
            "|      SO/C|    1|\n",
            "|  STON/OQ.|    1|\n",
            "|        A.|    1|\n",
            "|     SCO/W|    1|\n",
            "|   S.W./PP|    1|\n",
            "|    SC/A.3|    1|\n",
            "+----------+-----+\n",
            "\n"
          ]
        }
      ]
    },
    {
      "cell_type": "code",
      "source": [],
      "metadata": {
        "id": "O9dTpBBxcEG4"
      },
      "execution_count": 94,
      "outputs": []
    },
    {
      "cell_type": "code",
      "source": [
        "from pyspark.sql.functions import countDistinct\n",
        "\n",
        "unique_ticket_names = df.select(countDistinct(\"TicketName\")).collect()[0][0]\n",
        "print(\"Number of unique TicketName values: \", unique_ticket_names)\n"
      ],
      "metadata": {
        "colab": {
          "base_uri": "https://localhost:8080/",
          "height": 1000
        },
        "id": "--F4hYLepmMh",
        "outputId": "ea29f478-e560-47f3-8233-7e0cb2d8641f"
      },
      "execution_count": 107,
      "outputs": [
        {
          "output_type": "error",
          "ename": "AnalysisException",
          "evalue": "ignored",
          "traceback": [
            "\u001b[0;31m---------------------------------------------------------------------------\u001b[0m",
            "\u001b[0;31mAnalysisException\u001b[0m                         Traceback (most recent call last)",
            "\u001b[0;32m<ipython-input-107-3ceb57229586>\u001b[0m in \u001b[0;36m<module>\u001b[0;34m\u001b[0m\n\u001b[1;32m      1\u001b[0m \u001b[0;32mfrom\u001b[0m \u001b[0mpyspark\u001b[0m\u001b[0;34m.\u001b[0m\u001b[0msql\u001b[0m\u001b[0;34m.\u001b[0m\u001b[0mfunctions\u001b[0m \u001b[0;32mimport\u001b[0m \u001b[0mcountDistinct\u001b[0m\u001b[0;34m\u001b[0m\u001b[0;34m\u001b[0m\u001b[0m\n\u001b[1;32m      2\u001b[0m \u001b[0;34m\u001b[0m\u001b[0m\n\u001b[0;32m----> 3\u001b[0;31m \u001b[0munique_ticket_names\u001b[0m \u001b[0;34m=\u001b[0m \u001b[0mdf\u001b[0m\u001b[0;34m.\u001b[0m\u001b[0mselect\u001b[0m\u001b[0;34m(\u001b[0m\u001b[0mcountDistinct\u001b[0m\u001b[0;34m(\u001b[0m\u001b[0;34m\"TicketName\"\u001b[0m\u001b[0;34m)\u001b[0m\u001b[0;34m)\u001b[0m\u001b[0;34m.\u001b[0m\u001b[0mcollect\u001b[0m\u001b[0;34m(\u001b[0m\u001b[0;34m)\u001b[0m\u001b[0;34m[\u001b[0m\u001b[0;36m0\u001b[0m\u001b[0;34m]\u001b[0m\u001b[0;34m[\u001b[0m\u001b[0;36m0\u001b[0m\u001b[0;34m]\u001b[0m\u001b[0;34m\u001b[0m\u001b[0;34m\u001b[0m\u001b[0m\n\u001b[0m\u001b[1;32m      4\u001b[0m \u001b[0mprint\u001b[0m\u001b[0;34m(\u001b[0m\u001b[0;34m\"Number of unique TicketName values: \"\u001b[0m\u001b[0;34m,\u001b[0m \u001b[0munique_ticket_names\u001b[0m\u001b[0;34m)\u001b[0m\u001b[0;34m\u001b[0m\u001b[0;34m\u001b[0m\u001b[0m\n",
            "\u001b[0;32m/usr/local/lib/python3.8/dist-packages/pyspark/sql/dataframe.py\u001b[0m in \u001b[0;36mselect\u001b[0;34m(self, *cols)\u001b[0m\n\u001b[1;32m   2021\u001b[0m         \u001b[0;34m[\u001b[0m\u001b[0mRow\u001b[0m\u001b[0;34m(\u001b[0m\u001b[0mname\u001b[0m\u001b[0;34m=\u001b[0m\u001b[0;34m'Alice'\u001b[0m\u001b[0;34m,\u001b[0m \u001b[0mage\u001b[0m\u001b[0;34m=\u001b[0m\u001b[0;36m12\u001b[0m\u001b[0;34m)\u001b[0m\u001b[0;34m,\u001b[0m \u001b[0mRow\u001b[0m\u001b[0;34m(\u001b[0m\u001b[0mname\u001b[0m\u001b[0;34m=\u001b[0m\u001b[0;34m'Bob'\u001b[0m\u001b[0;34m,\u001b[0m \u001b[0mage\u001b[0m\u001b[0;34m=\u001b[0m\u001b[0;36m15\u001b[0m\u001b[0;34m)\u001b[0m\u001b[0;34m]\u001b[0m\u001b[0;34m\u001b[0m\u001b[0;34m\u001b[0m\u001b[0m\n\u001b[1;32m   2022\u001b[0m         \"\"\"\n\u001b[0;32m-> 2023\u001b[0;31m         \u001b[0mjdf\u001b[0m \u001b[0;34m=\u001b[0m \u001b[0mself\u001b[0m\u001b[0;34m.\u001b[0m\u001b[0m_jdf\u001b[0m\u001b[0;34m.\u001b[0m\u001b[0mselect\u001b[0m\u001b[0;34m(\u001b[0m\u001b[0mself\u001b[0m\u001b[0;34m.\u001b[0m\u001b[0m_jcols\u001b[0m\u001b[0;34m(\u001b[0m\u001b[0;34m*\u001b[0m\u001b[0mcols\u001b[0m\u001b[0;34m)\u001b[0m\u001b[0;34m)\u001b[0m\u001b[0;34m\u001b[0m\u001b[0;34m\u001b[0m\u001b[0m\n\u001b[0m\u001b[1;32m   2024\u001b[0m         \u001b[0;32mreturn\u001b[0m \u001b[0mDataFrame\u001b[0m\u001b[0;34m(\u001b[0m\u001b[0mjdf\u001b[0m\u001b[0;34m,\u001b[0m \u001b[0mself\u001b[0m\u001b[0;34m.\u001b[0m\u001b[0msparkSession\u001b[0m\u001b[0;34m)\u001b[0m\u001b[0;34m\u001b[0m\u001b[0;34m\u001b[0m\u001b[0m\n\u001b[1;32m   2025\u001b[0m \u001b[0;34m\u001b[0m\u001b[0m\n",
            "\u001b[0;32m/usr/local/lib/python3.8/dist-packages/py4j/java_gateway.py\u001b[0m in \u001b[0;36m__call__\u001b[0;34m(self, *args)\u001b[0m\n\u001b[1;32m   1319\u001b[0m \u001b[0;34m\u001b[0m\u001b[0m\n\u001b[1;32m   1320\u001b[0m         \u001b[0manswer\u001b[0m \u001b[0;34m=\u001b[0m \u001b[0mself\u001b[0m\u001b[0;34m.\u001b[0m\u001b[0mgateway_client\u001b[0m\u001b[0;34m.\u001b[0m\u001b[0msend_command\u001b[0m\u001b[0;34m(\u001b[0m\u001b[0mcommand\u001b[0m\u001b[0;34m)\u001b[0m\u001b[0;34m\u001b[0m\u001b[0;34m\u001b[0m\u001b[0m\n\u001b[0;32m-> 1321\u001b[0;31m         return_value = get_return_value(\n\u001b[0m\u001b[1;32m   1322\u001b[0m             answer, self.gateway_client, self.target_id, self.name)\n\u001b[1;32m   1323\u001b[0m \u001b[0;34m\u001b[0m\u001b[0m\n",
            "\u001b[0;32m/usr/local/lib/python3.8/dist-packages/pyspark/sql/utils.py\u001b[0m in \u001b[0;36mdeco\u001b[0;34m(*a, **kw)\u001b[0m\n\u001b[1;32m    194\u001b[0m                 \u001b[0;31m# Hide where the exception came from that shows a non-Pythonic\u001b[0m\u001b[0;34m\u001b[0m\u001b[0;34m\u001b[0m\u001b[0;34m\u001b[0m\u001b[0m\n\u001b[1;32m    195\u001b[0m                 \u001b[0;31m# JVM exception message.\u001b[0m\u001b[0;34m\u001b[0m\u001b[0;34m\u001b[0m\u001b[0;34m\u001b[0m\u001b[0m\n\u001b[0;32m--> 196\u001b[0;31m                 \u001b[0;32mraise\u001b[0m \u001b[0mconverted\u001b[0m \u001b[0;32mfrom\u001b[0m \u001b[0;32mNone\u001b[0m\u001b[0;34m\u001b[0m\u001b[0;34m\u001b[0m\u001b[0m\n\u001b[0m\u001b[1;32m    197\u001b[0m             \u001b[0;32melse\u001b[0m\u001b[0;34m:\u001b[0m\u001b[0;34m\u001b[0m\u001b[0;34m\u001b[0m\u001b[0m\n\u001b[1;32m    198\u001b[0m                 \u001b[0;32mraise\u001b[0m\u001b[0;34m\u001b[0m\u001b[0;34m\u001b[0m\u001b[0m\n",
            "\u001b[0;31mAnalysisException\u001b[0m: Column 'TicketName' does not exist. Did you mean one of the following? [TicketNumber, Fare, Pclass, Age, Embark, SibSp, sex, traintest, CabinAbrev, CabinNumbers, Parch, PassengerId, Survived, CabinOnTicket];\n'Project [unresolvedalias('count(distinct 'TicketName), Some(org.apache.spark.sql.Column$$Lambda$4118/1890873445@51a3ba6f))]\n+- Project [PassengerId#56, cast(Survived#57 as int) AS Survived#4040, Pclass#58, sex#589, Age#61, SibSp#62, Parch#63, Fare#65, traintest#170, TicketNumber#3218, Embark#1794, CabinAbrev#2649, CabinNumbers#2154, CabinOnTicket#2286]\n   +- Project [PassengerId#56, Survived#57, Pclass#58, sex#589, Age#61, SibSp#62, Parch#63, Fare#65, traintest#170, TicketNumber#3218, Embark#1794, CabinAbrev#2649, CabinNumbers#2154, CabinOnTicket#2286]\n      +- Project [PassengerId#56, Survived#57, Pclass#58, sex#589, Age#61, SibSp#62, Parch#63, Fare#65, traintest#170, NameAbrev#1551, TicketNumber#3218, Embark#1794, CabinAbrev#2649, CabinNumbers#2154, CabinOnTicket#2286]\n         +- Project [PassengerId#56, Survived#57, Pclass#58, sex#589, Age#61, SibSp#62, Parch#63, Fare#65, traintest#170, NameAbrev#1551, TicketNumber#3218, Embark#1794, CabinAbrev#2649, CabinNumbers#2154, CabinOnTicket#2286, TicketName#3200]\n            +- Project [PassengerId#56, Survived#57, Pclass#58, sex#589, Age#61, SibSp#62, Parch#63, Ticket#64, Fare#65, traintest#170, NameAbrev#1551, CASE WHEN RLIKE(Ticket#64, \\s) THEN split(Ticket#64,  , -1)[1] ELSE Ticket#64 END AS TicketNumber#3218, Embark#1794, CabinAbrev#2649, CabinNumbers#2154, CabinOnTicket#2286, TicketName#3200]\n               +- Project [PassengerId#56, Survived#57, Pclass#58, sex#589, Age#61, SibSp#62, Parch#63, Ticket#64, Fare#65, traintest#170, NameAbrev#1551, TicketNumber#1668, Embark#1794, CabinAbrev#2649, CabinNumbers#2154, CabinOnTicket#2286, CASE WHEN RLIKE(Ticket#64, \\s) THEN split(Ticket#64,  , -1)[0] ELSE cast(null as string) END AS TicketName#3200]\n                  +- Project [PassengerId#56, Survived#57, Pclass#58, sex#589, Age#61, SibSp#62, Parch#63, Ticket#64, Fare#65, traintest#170, NameAbrev#1551, TicketNumber#1668, Embark#1794, CabinAbrev#2649, CabinNumbers#2154, CabinOnTicket#2286]\n                     +- Project [PassengerId#56, Survived#57, Pclass#58, sex#589, Age#61, SibSp#62, Parch#63, Ticket#64, Fare#65, traintest#170, NameAbrev#1551, TicketName#1651, TicketNumber#1668, Embark#1794, CabinAbrev#2649, CabinNumbers#2154, CabinOnTicket#2286]\n                        +- Project [PassengerId#56, Survived#57, Pclass#58, Name#59, sex#589, Age#61, SibSp#62, Parch#63, Ticket#64, Fare#65, traintest#170, NameAbrev#1551, TicketName#1651, TicketNumber#1668, Embark#1794, CabinAbrev#2649, CabinNumbers#2154, CabinOnTicket#2286]\n                           +- Project [PassengerId#56, Survived#57, Pclass#58, Name#59, sex#589, Age#61, SibSp#62, Parch#63, Ticket#64, Fare#65, traintest#170, NameAbrev#1551, TicketName#1651, TicketNumber#1668, Embark#1794, CabinAbrevEncoded#2484 AS CabinAbrev#2649, CabinNumbers#2154, CabinOnTicket#2286, CabinAbrevEncoded#2484]\n                              +- Project [PassengerId#56, Survived#57, Pclass#58, Name#59, sex#589, Age#61, SibSp#62, Parch#63, Ticket#64, Fare#65, traintest#170, NameAbrev#1551, TicketName#1651, TicketNumber#1668, Embark#1794, CabinAbrev#2044, CabinNumbers#2154, CabinOnTicket#2286, UDF(cast(CabinAbrev#2044 as string)) AS CabinAbrevEncoded#2484]\n                                 +- Project [PassengerId#56, Survived#57, Pclass#58, Name#59, sex#589, Age#61, SibSp#62, Parch#63, Ticket#64, Fare#65, traintest#170, NameAbrev#1551, TicketName#1651, TicketNumber#1668, Embark#1794, CabinAbrev#2044, CabinNumbers#2154, CASE WHEN (cast(CabinAbrev#2044 as int) = 0) THEN 0 ELSE 1 END AS CabinOnTicket#2286]\n                                    +- Project [PassengerId#56, Survived#57, Pclass#58, Name#59, sex#589, Age#61, SibSp#62, Parch#63, Ticket#64, Fare#65, traintest#170, NameAbrev#1551, TicketName#1651, TicketNumber#1668, Embark#1794, CabinAbrev#2044, CabinNumbers#2154]\n                                       +- Project [PassengerId#56, Survived#57, Pclass#58, Name#59, sex#589, Age#61, SibSp#62, Parch#63, Ticket#64, Fare#65, Cabin#706, traintest#170, NameAbrev#1551, TicketName#1651, TicketNumber#1668, Embark#1794, CabinAbrev#2044, regexp_replace(Cabin#706, [^0-9], , 1) AS CabinNumbers#2154]\n                                          +- Project [PassengerId#56, Survived#57, Pclass#58, Name#59, sex#589, Age#61, SibSp#62, Parch#63, Ticket#64, Fare#65, Cabin#706, traintest#170, NameAbrev#1551, TicketName#1651, TicketNumber#1668, Embark#1794, CASE WHEN RLIKE(Cabin#706, [A-Za-z]) THEN regexp_extract(Cabin#706, [A-Za-z], 0) ELSE cast(0 as string) END AS CabinAbrev#2044]\n                                             +- Project [PassengerId#56, Survived#57, Pclass#58, Name#59, sex#589, Age#61, SibSp#62, Parch#63, Ticket#64, Fare#65, Cabin#706, traintest#170, NameAbrev#1551, TicketName#1651, TicketNumber#1668, Embark#1794]\n                                                +- Project [PassengerId#56, Survived#57, Pclass#58, Name#59, sex#589, Age#61, SibSp#62, Parch#63, Ticket#64, Fare#65, Cabin#706, Embark#1794 AS Embarked#1922, traintest#170, NameAbrev#1551, TicketName#1651, TicketNumber#1668, Embark#1794]\n                                                   +- Project [PassengerId#56, Survived#57, Pclass#58, Name#59, sex#589, Age#61, SibSp#62, Parch#63, Ticket#64, Fare#65, Cabin#706, Embarked#67, traintest#170, NameAbrev#1551, TicketName#1651, TicketNumber#1668, Embark#1794]\n                                                      +- Project [PassengerId#56, Survived#57, Pclass#58, Name#59, sex#589, Age#61, SibSp#62, Parch#63, Ticket#64, Fare#65, Cabin#706, Embarked#67, traintest#170, EmbarkedEncoded#1437, NameAbrev#1551, TicketName#1651, TicketNumber#1668, EmbarkedEncoded#1437 AS Embark#1794]\n                                                         +- Project [PassengerId#56, Survived#57, Pclass#58, Name#59, sex#589, Age#61, SibSp#62, Parch#63, Ticket#64, Fare#65, Cabin#706, Embarked#67, traintest#170, EmbarkedEncoded#1437, NameAbrev#1551, TicketName#1651, CASE WHEN RLIKE(Ticket#64, \\s) THEN split(Ticket#64,  , -1)[1] ELSE Ticket#64 END AS TicketNumber#1668]\n                                                            +- Project [PassengerId#56, Survived#57, Pclass#58, Name#59, sex#589, Age#61, SibSp#62, Parch#63, Ticket#64, Fare#65, Cabin#706, Embarked#67, traintest#170, EmbarkedEncoded#1437, NameAbrev#1551, CASE WHEN RLIKE(Ticket#64, \\s) THEN split(Ticket#64,  , -1)[0] ELSE cast(null as string) END AS TicketName#1651]\n                                                               +- Project [PassengerId#56, Survived#57, Pclass#58, Name#59, sex#589, Age#61, SibSp#62, Parch#63, Ticket#64, Fare#65, Cabin#706, Embarked#67, traintest#170, EmbarkedEncoded#1437, CASE WHEN (isnull(NameAbrev#1535) OR (NameAbrev#1535 = )) THEN None ELSE NameAbrev#1535 END AS NameAbrev#1551]\n                                                                  +- Project [PassengerId#56, Survived#57, Pclass#58, Name#59, sex#589, Age#61, SibSp#62, Parch#63, Ticket#64, Fare#65, Cabin#706, Embarked#67, traintest#170, EmbarkedEncoded#1437, regexp_extract(Name#59, (Mrs|Mr|Miss), 1) AS NameAbrev#1535]\n                                                                     +- Project [PassengerId#56, Survived#57, Pclass#58, Name#59, sex#589, Age#61, SibSp#62, Parch#63, Ticket#64, Fare#65, Cabin#706, Embarked#67, traintest#170, UDF(cast(Embarked#67 as string)) AS EmbarkedEncoded#1437]\n                                                                        +- Filter atleastnnonnulls(1, Fare#65)\n                                                                           +- Filter atleastnnonnulls(1, Embarked#67)\n                                                                              +- Project [PassengerId#56, Survived#57, Pclass#58, Name#59, sex#589, Age#61, SibSp#62, Parch#63, Ticket#64, Fare#65, coalesce(Cabin#66, cast(0 as string)) AS Cabin#706, Embarked#67, traintest#170]\n                                                                                 +- Project [PassengerId#56, Survived#57, Pclass#58, Name#59, sex#589, Age#61, SibSp#62, Parch#63, Ticket#64, Fare#65, Cabin#66, Embarked#67, traintest#170]\n                                                                                    +- Project [PassengerId#56, Survived#57, Pclass#58, Name#59, SexEncoded#476 AS sex#589, Age#61, SibSp#62, Parch#63, Ticket#64, Fare#65, Cabin#66, Embarked#67, traintest#170, SexEncoded#476]\n                                                                                       +- Project [PassengerId#56, Survived#57, Pclass#58, Name#59, Sex#60, Age#61, SibSp#62, Parch#63, Ticket#64, Fare#65, Cabin#66, Embarked#67, traintest#170, UDF(cast(Sex#60 as string)) AS SexEncoded#476]\n                                                                                          +- Union false, false\n                                                                                             :- Project [PassengerId#56, Survived#57, Pclass#58, Name#59, Sex#60, Age#61, SibSp#62, Parch#63, Ticket#64, Fare#65, Cabin#66, Embarked#67, train AS traintest#170]\n                                                                                             :  +- Relation [PassengerId#56,Survived#57,Pclass#58,Name#59,Sex#60,Age#61,SibSp#62,Parch#63,Ticket#64,Fare#65,Cabin#66,Embarked#67] csv\n                                                                                             +- Project [PassengerId#17, cast(Survived#197 as string) AS Survived#224, Pclass#18, Name#19, Sex#20, Age#21, SibSp#22, Parch#23, Ticket#24, Fare#25, Cabin#26, Embarked#27, traintest#156]\n                                                                                                +- Project [PassengerId#17, 0 AS Survived#197, Pclass#18, Name#19, Sex#20, Age#21, SibSp#22, Parch#23, Ticket#24, Fare#25, Cabin#26, Embarked#27, test AS traintest#156]\n                                                                                                   +- Relation [PassengerId#17,Pclass#18,Name#19,Sex#20,Age#21,SibSp#22,Parch#23,Ticket#24,Fare#25,Cabin#26,Embarked#27] csv\n"
          ]
        }
      ]
    },
    {
      "cell_type": "code",
      "source": [
        "unique_ticket_names = df.select(\"TicketName\").distinct().rdd.flatMap(lambda x: x).collect()\n",
        "print(unique_ticket_names)\n"
      ],
      "metadata": {
        "colab": {
          "base_uri": "https://localhost:8080/"
        },
        "id": "y1WMH0n-pmKf",
        "outputId": "26207636-e39b-41b6-a18b-59ecabbcf35e"
      },
      "execution_count": null,
      "outputs": [
        {
          "output_type": "stream",
          "name": "stdout",
          "text": [
            "['S.O.P.', 'PC', 'SC', 'P/PP', 'SC/PARIS', 'W./C.', 'S.P.', 'A4.', 'SOTON/O2', None, 'S.C./A.4.', 'W/C', 'CA', 'F.C.', 'A/4.', 'STON/O', 'SW/PP', 'C.A./SOTON', 'S.O.C.', 'SCO/W', 'S.O./P.P.', 'C', 'C.A.', 'S.C./PARIS', 'W.E.P.', 'CA.', 'A/S', 'SC/Paris', 'SOTON/OQ', 'F.C.C.', 'A/5', 'WE/P', 'A.5.', 'A/5.', 'SC/AH', 'A./5.', 'Fa', 'SOTON/O.Q.', 'STON/O2.', 'SO/C', 'A/4', 'S.W./PP', 'PP', 'AQ/3.', 'STON/OQ.', 'A.', 'SC/A.3', 'LP', 'SC/A4', 'AQ/4']\n"
          ]
        }
      ]
    },
    {
      "cell_type": "code",
      "source": [],
      "metadata": {
        "id": "Ob_uRK93cGJA"
      },
      "execution_count": null,
      "outputs": []
    },
    {
      "cell_type": "code",
      "source": [
        "df = df.drop('Name')"
      ],
      "metadata": {
        "id": "EWUFCwfQpmFr"
      },
      "execution_count": 77,
      "outputs": []
    },
    {
      "cell_type": "code",
      "source": [
        "df = df.drop('TicketName')"
      ],
      "metadata": {
        "id": "34zUVa5Na4aL"
      },
      "execution_count": 78,
      "outputs": []
    },
    {
      "cell_type": "code",
      "source": [
        "df.show()"
      ],
      "metadata": {
        "colab": {
          "base_uri": "https://localhost:8080/"
        },
        "id": "rQqCahPTa4Wm",
        "outputId": "1008214c-9d3e-4d70-e098-d5ad60815863"
      },
      "execution_count": 95,
      "outputs": [
        {
          "output_type": "stream",
          "name": "stdout",
          "text": [
            "+-----------+--------+------+---+----+-----+-----+-------+---------+---------+------------+------+----------+------------+-------------+\n",
            "|PassengerId|Survived|Pclass|sex| Age|SibSp|Parch|   Fare|traintest|NameAbrev|TicketNumber|Embark|CabinAbrev|CabinNumbers|CabinOnTicket|\n",
            "+-----------+--------+------+---+----+-----+-----+-------+---------+---------+------------+------+----------+------------+-------------+\n",
            "|          1|       0|     3|0.0|  22|    1|    0|   7.25|    train|       Mr|       21171|   0.0|       0.0|           0|            0|\n",
            "|          2|       1|     1|1.0|  38|    1|    0|71.2833|    train|      Mrs|       17599|   1.0|       1.0|          85|            1|\n",
            "|          3|       1|     3|1.0|  26|    0|    0|  7.925|    train|     Miss|     3101282|   0.0|       0.0|           0|            0|\n",
            "|          4|       1|     1|1.0|  35|    1|    0|   53.1|    train|      Mrs|      113803|   0.0|       1.0|         123|            1|\n",
            "|          5|       0|     3|0.0|  35|    0|    0|   8.05|    train|       Mr|      373450|   0.0|       0.0|           0|            0|\n",
            "|          6|       0|     3|0.0|null|    0|    0| 8.4583|    train|       Mr|      330877|   2.0|       0.0|           0|            0|\n",
            "|          7|       0|     1|0.0|  54|    0|    0|51.8625|    train|       Mr|       17463|   0.0|       4.0|          46|            1|\n",
            "|          8|       0|     3|0.0|   2|    3|    1| 21.075|    train|     None|      349909|   0.0|       0.0|           0|            0|\n",
            "|          9|       1|     3|1.0|  27|    0|    2|11.1333|    train|      Mrs|      347742|   0.0|       0.0|           0|            0|\n",
            "|         10|       1|     2|1.0|  14|    1|    0|30.0708|    train|      Mrs|      237736|   1.0|       0.0|           0|            0|\n",
            "|         11|       1|     3|1.0|   4|    1|    1|   16.7|    train|     Miss|        9549|   0.0|       7.0|           6|            1|\n",
            "|         12|       1|     1|1.0|  58|    0|    0|  26.55|    train|     Miss|      113783|   0.0|       1.0|         103|            1|\n",
            "|         13|       0|     3|0.0|  20|    0|    0|   8.05|    train|       Mr|        2151|   0.0|       0.0|           0|            0|\n",
            "|         14|       0|     3|0.0|  39|    1|    5| 31.275|    train|       Mr|      347082|   0.0|       0.0|           0|            0|\n",
            "|         15|       0|     3|1.0|  14|    0|    0| 7.8542|    train|     Miss|      350406|   0.0|       0.0|           0|            0|\n",
            "|         16|       1|     2|1.0|  55|    0|    0|     16|    train|      Mrs|      248706|   0.0|       0.0|           0|            0|\n",
            "|         17|       0|     3|0.0|   2|    4|    1| 29.125|    train|     None|      382652|   2.0|       0.0|           0|            0|\n",
            "|         18|       1|     2|0.0|null|    0|    0|     13|    train|       Mr|      244373|   0.0|       0.0|           0|            0|\n",
            "|         19|       0|     3|1.0|  31|    1|    0|     18|    train|      Mrs|      345763|   0.0|       0.0|           0|            0|\n",
            "|         20|       1|     3|1.0|null|    0|    0|  7.225|    train|      Mrs|        2649|   1.0|       0.0|           0|            0|\n",
            "+-----------+--------+------+---+----+-----+-----+-------+---------+---------+------------+------+----------+------------+-------------+\n",
            "only showing top 20 rows\n",
            "\n"
          ]
        }
      ]
    },
    {
      "cell_type": "code",
      "source": [
        "from pyspark.ml.feature import OneHotEncoder, StringIndexer\n",
        "\n",
        "# Create a StringIndexer for the NameAbrev column\n",
        "indexer = StringIndexer(inputCol='NameAbrev', outputCol='NameAbrevIndex')\n",
        "\n",
        "# Fit the StringIndexer to the data\n",
        "indexed = indexer.fit(df).transform(df)\n",
        "\n",
        "# Create a OneHotEncoder for the NameAbrevIndex column\n",
        "encoder = OneHotEncoder(inputCol='NameAbrevIndex', outputCol='NameAbrevVec')\n",
        "\n",
        "# Fit the encoder to the data\n",
        "encoded = encoder.fit(indexed).transform(indexed)\n",
        "\n",
        "# Display the encoded data\n",
        "encoded.show()\n"
      ],
      "metadata": {
        "colab": {
          "base_uri": "https://localhost:8080/"
        },
        "id": "zeCWjJ_UcuON",
        "outputId": "71aabc9c-0f88-480a-b493-7526ac1c7a46"
      },
      "execution_count": 96,
      "outputs": [
        {
          "output_type": "stream",
          "name": "stdout",
          "text": [
            "+-----------+--------+------+---+----+-----+-----+-------+---------+---------+------------+------+----------+------------+-------------+--------------+-------------+\n",
            "|PassengerId|Survived|Pclass|sex| Age|SibSp|Parch|   Fare|traintest|NameAbrev|TicketNumber|Embark|CabinAbrev|CabinNumbers|CabinOnTicket|NameAbrevIndex| NameAbrevVec|\n",
            "+-----------+--------+------+---+----+-----+-----+-------+---------+---------+------------+------+----------+------------+-------------+--------------+-------------+\n",
            "|          1|       0|     3|0.0|  22|    1|    0|   7.25|    train|       Mr|       21171|   0.0|       0.0|           0|            0|           0.0|(3,[0],[1.0])|\n",
            "|          2|       1|     1|1.0|  38|    1|    0|71.2833|    train|      Mrs|       17599|   1.0|       1.0|          85|            1|           2.0|(3,[2],[1.0])|\n",
            "|          3|       1|     3|1.0|  26|    0|    0|  7.925|    train|     Miss|     3101282|   0.0|       0.0|           0|            0|           1.0|(3,[1],[1.0])|\n",
            "|          4|       1|     1|1.0|  35|    1|    0|   53.1|    train|      Mrs|      113803|   0.0|       1.0|         123|            1|           2.0|(3,[2],[1.0])|\n",
            "|          5|       0|     3|0.0|  35|    0|    0|   8.05|    train|       Mr|      373450|   0.0|       0.0|           0|            0|           0.0|(3,[0],[1.0])|\n",
            "|          6|       0|     3|0.0|null|    0|    0| 8.4583|    train|       Mr|      330877|   2.0|       0.0|           0|            0|           0.0|(3,[0],[1.0])|\n",
            "|          7|       0|     1|0.0|  54|    0|    0|51.8625|    train|       Mr|       17463|   0.0|       4.0|          46|            1|           0.0|(3,[0],[1.0])|\n",
            "|          8|       0|     3|0.0|   2|    3|    1| 21.075|    train|     None|      349909|   0.0|       0.0|           0|            0|           3.0|    (3,[],[])|\n",
            "|          9|       1|     3|1.0|  27|    0|    2|11.1333|    train|      Mrs|      347742|   0.0|       0.0|           0|            0|           2.0|(3,[2],[1.0])|\n",
            "|         10|       1|     2|1.0|  14|    1|    0|30.0708|    train|      Mrs|      237736|   1.0|       0.0|           0|            0|           2.0|(3,[2],[1.0])|\n",
            "|         11|       1|     3|1.0|   4|    1|    1|   16.7|    train|     Miss|        9549|   0.0|       7.0|           6|            1|           1.0|(3,[1],[1.0])|\n",
            "|         12|       1|     1|1.0|  58|    0|    0|  26.55|    train|     Miss|      113783|   0.0|       1.0|         103|            1|           1.0|(3,[1],[1.0])|\n",
            "|         13|       0|     3|0.0|  20|    0|    0|   8.05|    train|       Mr|        2151|   0.0|       0.0|           0|            0|           0.0|(3,[0],[1.0])|\n",
            "|         14|       0|     3|0.0|  39|    1|    5| 31.275|    train|       Mr|      347082|   0.0|       0.0|           0|            0|           0.0|(3,[0],[1.0])|\n",
            "|         15|       0|     3|1.0|  14|    0|    0| 7.8542|    train|     Miss|      350406|   0.0|       0.0|           0|            0|           1.0|(3,[1],[1.0])|\n",
            "|         16|       1|     2|1.0|  55|    0|    0|     16|    train|      Mrs|      248706|   0.0|       0.0|           0|            0|           2.0|(3,[2],[1.0])|\n",
            "|         17|       0|     3|0.0|   2|    4|    1| 29.125|    train|     None|      382652|   2.0|       0.0|           0|            0|           3.0|    (3,[],[])|\n",
            "|         18|       1|     2|0.0|null|    0|    0|     13|    train|       Mr|      244373|   0.0|       0.0|           0|            0|           0.0|(3,[0],[1.0])|\n",
            "|         19|       0|     3|1.0|  31|    1|    0|     18|    train|      Mrs|      345763|   0.0|       0.0|           0|            0|           2.0|(3,[2],[1.0])|\n",
            "|         20|       1|     3|1.0|null|    0|    0|  7.225|    train|      Mrs|        2649|   1.0|       0.0|           0|            0|           2.0|(3,[2],[1.0])|\n",
            "+-----------+--------+------+---+----+-----+-----+-------+---------+---------+------------+------+----------+------------+-------------+--------------+-------------+\n",
            "only showing top 20 rows\n",
            "\n"
          ]
        }
      ]
    },
    {
      "cell_type": "code",
      "source": [
        "encoded.show()"
      ],
      "metadata": {
        "colab": {
          "base_uri": "https://localhost:8080/"
        },
        "id": "9iQaKzM8cvWW",
        "outputId": "a0d69730-06e0-4778-a626-8367cd2875e2"
      },
      "execution_count": 185,
      "outputs": [
        {
          "output_type": "stream",
          "name": "stdout",
          "text": [
            "+-----------+--------+------+---+----+-----+-----+-------+---------+------------+------+----------+------------+-------------+--------------+-------------+\n",
            "|PassengerId|Survived|Pclass|sex| Age|SibSp|Parch|   Fare|traintest|TicketNumber|Embark|CabinAbrev|CabinNumbers|CabinOnTicket|NameAbrevIndex| NameAbrevVec|\n",
            "+-----------+--------+------+---+----+-----+-----+-------+---------+------------+------+----------+------------+-------------+--------------+-------------+\n",
            "|          1|       0|     3|0.0|  22|    1|    0|   7.25|    train|       21171|   0.0|       0.0|           0|            0|           0.0|(3,[0],[1.0])|\n",
            "|          2|       1|     1|1.0|  38|    1|    0|71.2833|    train|       17599|   1.0|       1.0|          85|            1|           2.0|(3,[2],[1.0])|\n",
            "|          3|       1|     3|1.0|  26|    0|    0|  7.925|    train|     3101282|   0.0|       0.0|           0|            0|           1.0|(3,[1],[1.0])|\n",
            "|          4|       1|     1|1.0|  35|    1|    0|   53.1|    train|      113803|   0.0|       1.0|         123|            1|           2.0|(3,[2],[1.0])|\n",
            "|          5|       0|     3|0.0|  35|    0|    0|   8.05|    train|      373450|   0.0|       0.0|           0|            0|           0.0|(3,[0],[1.0])|\n",
            "|          6|       0|     3|0.0|null|    0|    0| 8.4583|    train|      330877|   2.0|       0.0|           0|            0|           0.0|(3,[0],[1.0])|\n",
            "|          7|       0|     1|0.0|  54|    0|    0|51.8625|    train|       17463|   0.0|       4.0|          46|            1|           0.0|(3,[0],[1.0])|\n",
            "|          8|       0|     3|0.0|   2|    3|    1| 21.075|    train|      349909|   0.0|       0.0|           0|            0|           3.0|    (3,[],[])|\n",
            "|          9|       1|     3|1.0|  27|    0|    2|11.1333|    train|      347742|   0.0|       0.0|           0|            0|           2.0|(3,[2],[1.0])|\n",
            "|         10|       1|     2|1.0|  14|    1|    0|30.0708|    train|      237736|   1.0|       0.0|           0|            0|           2.0|(3,[2],[1.0])|\n",
            "|         11|       1|     3|1.0|   4|    1|    1|   16.7|    train|        9549|   0.0|       7.0|           6|            1|           1.0|(3,[1],[1.0])|\n",
            "|         12|       1|     1|1.0|  58|    0|    0|  26.55|    train|      113783|   0.0|       1.0|         103|            1|           1.0|(3,[1],[1.0])|\n",
            "|         13|       0|     3|0.0|  20|    0|    0|   8.05|    train|        2151|   0.0|       0.0|           0|            0|           0.0|(3,[0],[1.0])|\n",
            "|         14|       0|     3|0.0|  39|    1|    5| 31.275|    train|      347082|   0.0|       0.0|           0|            0|           0.0|(3,[0],[1.0])|\n",
            "|         15|       0|     3|1.0|  14|    0|    0| 7.8542|    train|      350406|   0.0|       0.0|           0|            0|           1.0|(3,[1],[1.0])|\n",
            "|         16|       1|     2|1.0|  55|    0|    0|     16|    train|      248706|   0.0|       0.0|           0|            0|           2.0|(3,[2],[1.0])|\n",
            "|         17|       0|     3|0.0|   2|    4|    1| 29.125|    train|      382652|   2.0|       0.0|           0|            0|           3.0|    (3,[],[])|\n",
            "|         18|       1|     2|0.0|null|    0|    0|     13|    train|      244373|   0.0|       0.0|           0|            0|           0.0|(3,[0],[1.0])|\n",
            "|         19|       0|     3|1.0|  31|    1|    0|     18|    train|      345763|   0.0|       0.0|           0|            0|           2.0|(3,[2],[1.0])|\n",
            "|         20|       1|     3|1.0|null|    0|    0|  7.225|    train|        2649|   1.0|       0.0|           0|            0|           2.0|(3,[2],[1.0])|\n",
            "+-----------+--------+------+---+----+-----+-----+-------+---------+------------+------+----------+------------+-------------+--------------+-------------+\n",
            "only showing top 20 rows\n",
            "\n"
          ]
        }
      ]
    },
    {
      "cell_type": "code",
      "source": [
        "df = encoded"
      ],
      "metadata": {
        "id": "5Czgwb2ndHAg"
      },
      "execution_count": 186,
      "outputs": []
    },
    {
      "cell_type": "code",
      "source": [
        "df = df.drop('NameAbrevIndex')"
      ],
      "metadata": {
        "id": "GBTcQW-GvloP"
      },
      "execution_count": 187,
      "outputs": []
    },
    {
      "cell_type": "code",
      "source": [
        "from pyspark.sql.types import IntegerType\n",
        "\n",
        "# Cast the Survived column to integer\n",
        "encoded = encoded.withColumn('Survived', encoded['Survived'].cast(IntegerType()))\n",
        "\n",
        "# Display the updated schema\n",
        "encoded.printSchema()\n"
      ],
      "metadata": {
        "colab": {
          "base_uri": "https://localhost:8080/"
        },
        "id": "zwKO-BMBdWaJ",
        "outputId": "f9f207a0-5bab-435c-b0af-c6beb15627dd"
      },
      "execution_count": 105,
      "outputs": [
        {
          "output_type": "stream",
          "name": "stdout",
          "text": [
            "root\n",
            " |-- PassengerId: string (nullable = true)\n",
            " |-- Survived: integer (nullable = true)\n",
            " |-- Pclass: string (nullable = true)\n",
            " |-- sex: double (nullable = false)\n",
            " |-- Age: string (nullable = true)\n",
            " |-- SibSp: string (nullable = true)\n",
            " |-- Parch: string (nullable = true)\n",
            " |-- Fare: string (nullable = true)\n",
            " |-- traintest: string (nullable = false)\n",
            " |-- TicketNumber: string (nullable = true)\n",
            " |-- Embark: double (nullable = false)\n",
            " |-- CabinAbrev: double (nullable = false)\n",
            " |-- CabinNumbers: string (nullable = false)\n",
            " |-- CabinOnTicket: integer (nullable = false)\n",
            " |-- NameAbrevIndex: double (nullable = false)\n",
            " |-- NameAbrevVec: vector (nullable = true)\n",
            "\n"
          ]
        }
      ]
    },
    {
      "cell_type": "code",
      "source": [
        "from pyspark.ml.feature import VectorAssembler\n",
        "from pyspark.ml.stat import Correlation\n",
        "\n",
        "# Define the columns to include in the correlation matrix\n",
        "cols = ['Survived', 'NameAbrevVec']\n",
        "\n",
        "# Create a VectorAssembler to combine the columns into a single feature column\n",
        "assembler = VectorAssembler(inputCols=cols, outputCol='features')\n",
        "\n",
        "# Use the VectorAssembler to transform the DataFrame\n",
        "df_assembled = assembler.transform(encoded).select('features')\n",
        "\n",
        "# Compute the correlation matrix\n",
        "correlation_matrix = Correlation.corr(df_assembled, 'features').head()\n",
        "\n",
        "# Extract the correlation matrix as a numpy array\n",
        "corr_array = correlation_matrix[0].toArray()\n",
        "\n",
        "# Print the correlation matrix\n",
        "print(corr_array)\n"
      ],
      "metadata": {
        "colab": {
          "base_uri": "https://localhost:8080/"
        },
        "id": "O52IYb1DpmDy",
        "outputId": "1b82ad28-9964-4e75-d25c-9810aa4ddfff"
      },
      "execution_count": 106,
      "outputs": [
        {
          "output_type": "stream",
          "name": "stdout",
          "text": [
            "[[ 1.         -0.40678242  0.25632294  0.23574146]\n",
            " [-0.40678242  1.         -0.58403424 -0.49639167]\n",
            " [ 0.25632294 -0.58403424  1.         -0.21025157]\n",
            " [ 0.23574146 -0.49639167 -0.21025157  1.        ]]\n"
          ]
        }
      ]
    },
    {
      "cell_type": "code",
      "source": [
        "df.show()"
      ],
      "metadata": {
        "id": "OhJI1T7HpmBl",
        "colab": {
          "base_uri": "https://localhost:8080/"
        },
        "outputId": "7b194322-e544-4a47-c65a-85c22dfad77f"
      },
      "execution_count": 109,
      "outputs": [
        {
          "output_type": "stream",
          "name": "stdout",
          "text": [
            "+-----------+--------+------+---+----+-----+-----+-------+---------+------------+------+----------+------------+-------------+\n",
            "|PassengerId|Survived|Pclass|sex| Age|SibSp|Parch|   Fare|traintest|TicketNumber|Embark|CabinAbrev|CabinNumbers|CabinOnTicket|\n",
            "+-----------+--------+------+---+----+-----+-----+-------+---------+------------+------+----------+------------+-------------+\n",
            "|          1|       0|     3|0.0|  22|    1|    0|   7.25|    train|       21171|   0.0|       0.0|           0|            0|\n",
            "|          2|       1|     1|1.0|  38|    1|    0|71.2833|    train|       17599|   1.0|       1.0|          85|            1|\n",
            "|          3|       1|     3|1.0|  26|    0|    0|  7.925|    train|     3101282|   0.0|       0.0|           0|            0|\n",
            "|          4|       1|     1|1.0|  35|    1|    0|   53.1|    train|      113803|   0.0|       1.0|         123|            1|\n",
            "|          5|       0|     3|0.0|  35|    0|    0|   8.05|    train|      373450|   0.0|       0.0|           0|            0|\n",
            "|          6|       0|     3|0.0|null|    0|    0| 8.4583|    train|      330877|   2.0|       0.0|           0|            0|\n",
            "|          7|       0|     1|0.0|  54|    0|    0|51.8625|    train|       17463|   0.0|       4.0|          46|            1|\n",
            "|          8|       0|     3|0.0|   2|    3|    1| 21.075|    train|      349909|   0.0|       0.0|           0|            0|\n",
            "|          9|       1|     3|1.0|  27|    0|    2|11.1333|    train|      347742|   0.0|       0.0|           0|            0|\n",
            "|         10|       1|     2|1.0|  14|    1|    0|30.0708|    train|      237736|   1.0|       0.0|           0|            0|\n",
            "|         11|       1|     3|1.0|   4|    1|    1|   16.7|    train|        9549|   0.0|       7.0|           6|            1|\n",
            "|         12|       1|     1|1.0|  58|    0|    0|  26.55|    train|      113783|   0.0|       1.0|         103|            1|\n",
            "|         13|       0|     3|0.0|  20|    0|    0|   8.05|    train|        2151|   0.0|       0.0|           0|            0|\n",
            "|         14|       0|     3|0.0|  39|    1|    5| 31.275|    train|      347082|   0.0|       0.0|           0|            0|\n",
            "|         15|       0|     3|1.0|  14|    0|    0| 7.8542|    train|      350406|   0.0|       0.0|           0|            0|\n",
            "|         16|       1|     2|1.0|  55|    0|    0|     16|    train|      248706|   0.0|       0.0|           0|            0|\n",
            "|         17|       0|     3|0.0|   2|    4|    1| 29.125|    train|      382652|   2.0|       0.0|           0|            0|\n",
            "|         18|       1|     2|0.0|null|    0|    0|     13|    train|      244373|   0.0|       0.0|           0|            0|\n",
            "|         19|       0|     3|1.0|  31|    1|    0|     18|    train|      345763|   0.0|       0.0|           0|            0|\n",
            "|         20|       1|     3|1.0|null|    0|    0|  7.225|    train|        2649|   1.0|       0.0|           0|            0|\n",
            "+-----------+--------+------+---+----+-----+-----+-------+---------+------------+------+----------+------------+-------------+\n",
            "only showing top 20 rows\n",
            "\n"
          ]
        }
      ]
    },
    {
      "cell_type": "code",
      "source": [
        "df.printSchema()"
      ],
      "metadata": {
        "colab": {
          "base_uri": "https://localhost:8080/"
        },
        "id": "2d89W0Xzpl_d",
        "outputId": "8b7cd5a6-525a-4661-8476-952c1e0e5a3b"
      },
      "execution_count": 108,
      "outputs": [
        {
          "output_type": "stream",
          "name": "stdout",
          "text": [
            "root\n",
            " |-- PassengerId: string (nullable = true)\n",
            " |-- Survived: integer (nullable = true)\n",
            " |-- Pclass: string (nullable = true)\n",
            " |-- sex: double (nullable = false)\n",
            " |-- Age: string (nullable = true)\n",
            " |-- SibSp: string (nullable = true)\n",
            " |-- Parch: string (nullable = true)\n",
            " |-- Fare: string (nullable = true)\n",
            " |-- traintest: string (nullable = false)\n",
            " |-- TicketNumber: string (nullable = true)\n",
            " |-- Embark: double (nullable = false)\n",
            " |-- CabinAbrev: double (nullable = false)\n",
            " |-- CabinNumbers: string (nullable = false)\n",
            " |-- CabinOnTicket: integer (nullable = false)\n",
            "\n"
          ]
        }
      ]
    },
    {
      "cell_type": "code",
      "source": [
        "df.show()"
      ],
      "metadata": {
        "colab": {
          "base_uri": "https://localhost:8080/"
        },
        "id": "z7vykkJKpl9H",
        "outputId": "d171c728-bfd3-49c6-81fc-8973f409a9f6"
      },
      "execution_count": null,
      "outputs": [
        {
          "output_type": "stream",
          "name": "stdout",
          "text": [
            "+-----------+--------+------+---+----+-----+-----+----------------+-------+--------+---------+------------+----------+------------+----------+------------+\n",
            "|PassengerId|Survived|Pclass|sex| Age|SibSp|Parch|          Ticket|   Fare|Embarked|traintest|NameContains|TicketName|TicketNumber|CabinAbrev|CabinNumbers|\n",
            "+-----------+--------+------+---+----+-----+-----+----------------+-------+--------+---------+------------+----------+------------+----------+------------+\n",
            "|          1|       0|     3|0.0|  22|    1|    0|       A/5 21171|   7.25|     0.0|    train|           1|       A/5|       21171|       0.0|           0|\n",
            "|          2|       1|     1|1.0|  38|    1|    0|        PC 17599|71.2833|     1.0|    train|           1|        PC|       17599|       1.0|          85|\n",
            "|          3|       1|     3|1.0|  26|    0|    0|STON/O2. 3101282|  7.925|     0.0|    train|           1|  STON/O2.|     3101282|       0.0|           0|\n",
            "|          4|       1|     1|1.0|  35|    1|    0|          113803|   53.1|     0.0|    train|           1|      null|      113803|       1.0|         123|\n",
            "|          5|       0|     3|0.0|  35|    0|    0|          373450|   8.05|     0.0|    train|           1|      null|      373450|       0.0|           0|\n",
            "|          6|       0|     3|0.0|null|    0|    0|          330877| 8.4583|     2.0|    train|           1|      null|      330877|       0.0|           0|\n",
            "|          7|       0|     1|0.0|  54|    0|    0|           17463|51.8625|     0.0|    train|           1|      null|       17463|       4.0|          46|\n",
            "|          8|       0|     3|0.0|   2|    3|    1|          349909| 21.075|     0.0|    train|           0|      null|      349909|       0.0|           0|\n",
            "|          9|       1|     3|1.0|  27|    0|    2|          347742|11.1333|     0.0|    train|           1|      null|      347742|       0.0|           0|\n",
            "|         10|       1|     2|1.0|  14|    1|    0|          237736|30.0708|     1.0|    train|           1|      null|      237736|       0.0|           0|\n",
            "|         11|       1|     3|1.0|   4|    1|    1|         PP 9549|   16.7|     0.0|    train|           1|        PP|        9549|       7.0|           6|\n",
            "|         12|       1|     1|1.0|  58|    0|    0|          113783|  26.55|     0.0|    train|           1|      null|      113783|       1.0|         103|\n",
            "|         13|       0|     3|0.0|  20|    0|    0|       A/5. 2151|   8.05|     0.0|    train|           1|      A/5.|        2151|       0.0|           0|\n",
            "|         14|       0|     3|0.0|  39|    1|    5|          347082| 31.275|     0.0|    train|           1|      null|      347082|       0.0|           0|\n",
            "|         15|       0|     3|1.0|  14|    0|    0|          350406| 7.8542|     0.0|    train|           1|      null|      350406|       0.0|           0|\n",
            "|         16|       1|     2|1.0|  55|    0|    0|          248706|     16|     0.0|    train|           1|      null|      248706|       0.0|           0|\n",
            "|         17|       0|     3|0.0|   2|    4|    1|          382652| 29.125|     2.0|    train|           0|      null|      382652|       0.0|           0|\n",
            "|         18|       1|     2|0.0|null|    0|    0|          244373|     13|     0.0|    train|           1|      null|      244373|       0.0|           0|\n",
            "|         19|       0|     3|1.0|  31|    1|    0|          345763|     18|     0.0|    train|           1|      null|      345763|       0.0|           0|\n",
            "|         20|       1|     3|1.0|null|    0|    0|            2649|  7.225|     1.0|    train|           1|      null|        2649|       0.0|           0|\n",
            "+-----------+--------+------+---+----+-----+-----+----------------+-------+--------+---------+------------+----------+------------+----------+------------+\n",
            "only showing top 20 rows\n",
            "\n"
          ]
        }
      ]
    },
    {
      "cell_type": "code",
      "source": [],
      "metadata": {
        "id": "p3bzWHWhpl7M"
      },
      "execution_count": null,
      "outputs": []
    },
    {
      "cell_type": "code",
      "source": [],
      "metadata": {
        "colab": {
          "base_uri": "https://localhost:8080/"
        },
        "id": "muouvoZtpl41",
        "outputId": "6df514e9-d0d1-4820-dc40-e5205b323915"
      },
      "execution_count": null,
      "outputs": [
        {
          "output_type": "stream",
          "name": "stdout",
          "text": [
            "+-----------+--------+------+---+----+-----+-----+----------------+-------+--------+---------+------------+------------+----------+------------+\n",
            "|PassengerId|Survived|Pclass|sex| Age|SibSp|Parch|          Ticket|   Fare|Embarked|traintest|NameContains|TicketNumber|CabinAbrev|CabinNumbers|\n",
            "+-----------+--------+------+---+----+-----+-----+----------------+-------+--------+---------+------------+------------+----------+------------+\n",
            "|          1|       0|     3|0.0|  22|    1|    0|       A/5 21171|   7.25|     0.0|    train|           1|       21171|       0.0|           0|\n",
            "|          2|       1|     1|1.0|  38|    1|    0|        PC 17599|71.2833|     1.0|    train|           1|       17599|       1.0|          85|\n",
            "|          3|       1|     3|1.0|  26|    0|    0|STON/O2. 3101282|  7.925|     0.0|    train|           1|     3101282|       0.0|           0|\n",
            "|          4|       1|     1|1.0|  35|    1|    0|          113803|   53.1|     0.0|    train|           1|      113803|       1.0|         123|\n",
            "|          5|       0|     3|0.0|  35|    0|    0|          373450|   8.05|     0.0|    train|           1|      373450|       0.0|           0|\n",
            "|          6|       0|     3|0.0|null|    0|    0|          330877| 8.4583|     2.0|    train|           1|      330877|       0.0|           0|\n",
            "|          7|       0|     1|0.0|  54|    0|    0|           17463|51.8625|     0.0|    train|           1|       17463|       4.0|          46|\n",
            "|          8|       0|     3|0.0|   2|    3|    1|          349909| 21.075|     0.0|    train|           0|      349909|       0.0|           0|\n",
            "|          9|       1|     3|1.0|  27|    0|    2|          347742|11.1333|     0.0|    train|           1|      347742|       0.0|           0|\n",
            "|         10|       1|     2|1.0|  14|    1|    0|          237736|30.0708|     1.0|    train|           1|      237736|       0.0|           0|\n",
            "|         11|       1|     3|1.0|   4|    1|    1|         PP 9549|   16.7|     0.0|    train|           1|        9549|       7.0|           6|\n",
            "|         12|       1|     1|1.0|  58|    0|    0|          113783|  26.55|     0.0|    train|           1|      113783|       1.0|         103|\n",
            "|         13|       0|     3|0.0|  20|    0|    0|       A/5. 2151|   8.05|     0.0|    train|           1|        2151|       0.0|           0|\n",
            "|         14|       0|     3|0.0|  39|    1|    5|          347082| 31.275|     0.0|    train|           1|      347082|       0.0|           0|\n",
            "|         15|       0|     3|1.0|  14|    0|    0|          350406| 7.8542|     0.0|    train|           1|      350406|       0.0|           0|\n",
            "|         16|       1|     2|1.0|  55|    0|    0|          248706|     16|     0.0|    train|           1|      248706|       0.0|           0|\n",
            "|         17|       0|     3|0.0|   2|    4|    1|          382652| 29.125|     2.0|    train|           0|      382652|       0.0|           0|\n",
            "|         18|       1|     2|0.0|null|    0|    0|          244373|     13|     0.0|    train|           1|      244373|       0.0|           0|\n",
            "|         19|       0|     3|1.0|  31|    1|    0|          345763|     18|     0.0|    train|           1|      345763|       0.0|           0|\n",
            "|         20|       1|     3|1.0|null|    0|    0|            2649|  7.225|     1.0|    train|           1|        2649|       0.0|           0|\n",
            "+-----------+--------+------+---+----+-----+-----+----------------+-------+--------+---------+------------+------------+----------+------------+\n",
            "only showing top 20 rows\n",
            "\n"
          ]
        }
      ]
    },
    {
      "cell_type": "code",
      "source": [],
      "metadata": {
        "id": "VoGEcZK3pl2o"
      },
      "execution_count": null,
      "outputs": []
    },
    {
      "cell_type": "code",
      "source": [],
      "metadata": {
        "colab": {
          "base_uri": "https://localhost:8080/"
        },
        "id": "cmPjtvQ-plyD",
        "outputId": "31920abd-5d08-4182-c8e0-95d032fe0d4b"
      },
      "execution_count": null,
      "outputs": [
        {
          "output_type": "stream",
          "name": "stdout",
          "text": [
            "+-----------+--------+------+---+----+-----+-----+-------+--------+---------+------------+------------+----------+------------+\n",
            "|PassengerId|Survived|Pclass|sex| Age|SibSp|Parch|   Fare|Embarked|traintest|NameContains|TicketNumber|CabinAbrev|CabinNumbers|\n",
            "+-----------+--------+------+---+----+-----+-----+-------+--------+---------+------------+------------+----------+------------+\n",
            "|          1|       0|     3|0.0|  22|    1|    0|   7.25|     0.0|    train|           1|       21171|       0.0|           0|\n",
            "|          2|       1|     1|1.0|  38|    1|    0|71.2833|     1.0|    train|           1|       17599|       1.0|          85|\n",
            "|          3|       1|     3|1.0|  26|    0|    0|  7.925|     0.0|    train|           1|     3101282|       0.0|           0|\n",
            "|          4|       1|     1|1.0|  35|    1|    0|   53.1|     0.0|    train|           1|      113803|       1.0|         123|\n",
            "|          5|       0|     3|0.0|  35|    0|    0|   8.05|     0.0|    train|           1|      373450|       0.0|           0|\n",
            "|          6|       0|     3|0.0|null|    0|    0| 8.4583|     2.0|    train|           1|      330877|       0.0|           0|\n",
            "|          7|       0|     1|0.0|  54|    0|    0|51.8625|     0.0|    train|           1|       17463|       4.0|          46|\n",
            "|          8|       0|     3|0.0|   2|    3|    1| 21.075|     0.0|    train|           0|      349909|       0.0|           0|\n",
            "|          9|       1|     3|1.0|  27|    0|    2|11.1333|     0.0|    train|           1|      347742|       0.0|           0|\n",
            "|         10|       1|     2|1.0|  14|    1|    0|30.0708|     1.0|    train|           1|      237736|       0.0|           0|\n",
            "|         11|       1|     3|1.0|   4|    1|    1|   16.7|     0.0|    train|           1|        9549|       7.0|           6|\n",
            "|         12|       1|     1|1.0|  58|    0|    0|  26.55|     0.0|    train|           1|      113783|       1.0|         103|\n",
            "|         13|       0|     3|0.0|  20|    0|    0|   8.05|     0.0|    train|           1|        2151|       0.0|           0|\n",
            "|         14|       0|     3|0.0|  39|    1|    5| 31.275|     0.0|    train|           1|      347082|       0.0|           0|\n",
            "|         15|       0|     3|1.0|  14|    0|    0| 7.8542|     0.0|    train|           1|      350406|       0.0|           0|\n",
            "|         16|       1|     2|1.0|  55|    0|    0|     16|     0.0|    train|           1|      248706|       0.0|           0|\n",
            "|         17|       0|     3|0.0|   2|    4|    1| 29.125|     2.0|    train|           0|      382652|       0.0|           0|\n",
            "|         18|       1|     2|0.0|null|    0|    0|     13|     0.0|    train|           1|      244373|       0.0|           0|\n",
            "|         19|       0|     3|1.0|  31|    1|    0|     18|     0.0|    train|           1|      345763|       0.0|           0|\n",
            "|         20|       1|     3|1.0|null|    0|    0|  7.225|     1.0|    train|           1|        2649|       0.0|           0|\n",
            "+-----------+--------+------+---+----+-----+-----+-------+--------+---------+------------+------------+----------+------------+\n",
            "only showing top 20 rows\n",
            "\n"
          ]
        }
      ]
    },
    {
      "cell_type": "code",
      "source": [
        "df2 = df "
      ],
      "metadata": {
        "id": "SVFk_zLGs5tJ"
      },
      "execution_count": 188,
      "outputs": []
    },
    {
      "cell_type": "code",
      "source": [
        "df2 = df2.drop('traintest')"
      ],
      "metadata": {
        "id": "cnJ-KUPLs5qK"
      },
      "execution_count": 189,
      "outputs": []
    },
    {
      "cell_type": "code",
      "source": [
        "\n",
        "from pyspark.sql.functions import isnull\n",
        "# Count the number of nulls in each column of the DataFrame\n",
        "null_counts = df.select([count(when(isnull(c), c)).alias(c) for c in df.columns])\n",
        "null_counts.show()\n"
      ],
      "metadata": {
        "colab": {
          "base_uri": "https://localhost:8080/"
        },
        "id": "rgULkhpSs5nZ",
        "outputId": "150b7f52-1b1a-442a-e9b2-b5a763aa5395"
      },
      "execution_count": 190,
      "outputs": [
        {
          "output_type": "stream",
          "name": "stdout",
          "text": [
            "+-----------+--------+------+---+---+-----+-----+----+---------+------------+------+----------+------------+-------------+------------+\n",
            "|PassengerId|Survived|Pclass|sex|Age|SibSp|Parch|Fare|traintest|TicketNumber|Embark|CabinAbrev|CabinNumbers|CabinOnTicket|NameAbrevVec|\n",
            "+-----------+--------+------+---+---+-----+-----+----+---------+------------+------+----------+------------+-------------+------------+\n",
            "|          0|       0|     0|  0|263|    0|    0|   0|        0|           0|     0|         0|           0|            0|           0|\n",
            "+-----------+--------+------+---+---+-----+-----+----+---------+------------+------+----------+------------+-------------+------------+\n",
            "\n"
          ]
        }
      ]
    },
    {
      "cell_type": "code",
      "source": [],
      "metadata": {
        "id": "0jOCjWy1s5k5"
      },
      "execution_count": null,
      "outputs": []
    },
    {
      "cell_type": "code",
      "source": [],
      "metadata": {
        "colab": {
          "base_uri": "https://localhost:8080/"
        },
        "id": "7FraDaAUs5iF",
        "outputId": "4ddc450d-ccbf-4a8e-fcc7-0c0b1d36e655"
      },
      "execution_count": null,
      "outputs": [
        {
          "output_type": "stream",
          "name": "stdout",
          "text": [
            "+-----------+--------+------+---+---+-----+-----+----+--------+------------+------------+----------+------------+\n",
            "|PassengerId|Survived|Pclass|sex|Age|SibSp|Parch|Fare|Embarked|NameContains|TicketNumber|CabinAbrev|CabinNumbers|\n",
            "+-----------+--------+------+---+---+-----+-----+----+--------+------------+------------+----------+------------+\n",
            "|          0|       0|     0|  0|263|    0|    0|   0|       0|           0|           5|         0|           6|\n",
            "+-----------+--------+------+---+---+-----+-----+----+--------+------------+------------+----------+------------+\n",
            "\n"
          ]
        }
      ]
    },
    {
      "cell_type": "code",
      "source": [],
      "metadata": {
        "id": "2rfKVYXOs5f0"
      },
      "execution_count": null,
      "outputs": []
    },
    {
      "cell_type": "code",
      "source": [
        "  df2.show()"
      ],
      "metadata": {
        "colab": {
          "base_uri": "https://localhost:8080/"
        },
        "id": "JNCigm8Hvv-Q",
        "outputId": "0b5700d0-74ab-4dad-ceb7-9d3b09c7ce16"
      },
      "execution_count": 114,
      "outputs": [
        {
          "output_type": "stream",
          "name": "stdout",
          "text": [
            "+-----------+--------+------+---+----+-----+-----+-------+------------+------+----------+------------+-------------+\n",
            "|PassengerId|Survived|Pclass|sex| Age|SibSp|Parch|   Fare|TicketNumber|Embark|CabinAbrev|CabinNumbers|CabinOnTicket|\n",
            "+-----------+--------+------+---+----+-----+-----+-------+------------+------+----------+------------+-------------+\n",
            "|          1|       0|     3|0.0|  22|    1|    0|   7.25|       21171|   0.0|       0.0|           0|            0|\n",
            "|          2|       1|     1|1.0|  38|    1|    0|71.2833|       17599|   1.0|       1.0|          85|            1|\n",
            "|          3|       1|     3|1.0|  26|    0|    0|  7.925|     3101282|   0.0|       0.0|           0|            0|\n",
            "|          4|       1|     1|1.0|  35|    1|    0|   53.1|      113803|   0.0|       1.0|         123|            1|\n",
            "|          5|       0|     3|0.0|  35|    0|    0|   8.05|      373450|   0.0|       0.0|           0|            0|\n",
            "|          6|       0|     3|0.0|null|    0|    0| 8.4583|      330877|   2.0|       0.0|           0|            0|\n",
            "|          7|       0|     1|0.0|  54|    0|    0|51.8625|       17463|   0.0|       4.0|          46|            1|\n",
            "|          8|       0|     3|0.0|   2|    3|    1| 21.075|      349909|   0.0|       0.0|           0|            0|\n",
            "|          9|       1|     3|1.0|  27|    0|    2|11.1333|      347742|   0.0|       0.0|           0|            0|\n",
            "|         10|       1|     2|1.0|  14|    1|    0|30.0708|      237736|   1.0|       0.0|           0|            0|\n",
            "|         11|       1|     3|1.0|   4|    1|    1|   16.7|        9549|   0.0|       7.0|           6|            1|\n",
            "|         12|       1|     1|1.0|  58|    0|    0|  26.55|      113783|   0.0|       1.0|         103|            1|\n",
            "|         13|       0|     3|0.0|  20|    0|    0|   8.05|        2151|   0.0|       0.0|           0|            0|\n",
            "|         14|       0|     3|0.0|  39|    1|    5| 31.275|      347082|   0.0|       0.0|           0|            0|\n",
            "|         15|       0|     3|1.0|  14|    0|    0| 7.8542|      350406|   0.0|       0.0|           0|            0|\n",
            "|         16|       1|     2|1.0|  55|    0|    0|     16|      248706|   0.0|       0.0|           0|            0|\n",
            "|         17|       0|     3|0.0|   2|    4|    1| 29.125|      382652|   2.0|       0.0|           0|            0|\n",
            "|         18|       1|     2|0.0|null|    0|    0|     13|      244373|   0.0|       0.0|           0|            0|\n",
            "|         19|       0|     3|1.0|  31|    1|    0|     18|      345763|   0.0|       0.0|           0|            0|\n",
            "|         20|       1|     3|1.0|null|    0|    0|  7.225|        2649|   1.0|       0.0|           0|            0|\n",
            "+-----------+--------+------+---+----+-----+-----+-------+------------+------+----------+------------+-------------+\n",
            "only showing top 20 rows\n",
            "\n"
          ]
        }
      ]
    },
    {
      "cell_type": "code",
      "source": [
        "df2.printSchema()"
      ],
      "metadata": {
        "colab": {
          "base_uri": "https://localhost:8080/"
        },
        "id": "gDkxFq5Yvzxp",
        "outputId": "819fe1d4-6be0-4f56-eb63-65241a647af1"
      },
      "execution_count": 191,
      "outputs": [
        {
          "output_type": "stream",
          "name": "stdout",
          "text": [
            "root\n",
            " |-- PassengerId: string (nullable = true)\n",
            " |-- Survived: integer (nullable = true)\n",
            " |-- Pclass: string (nullable = true)\n",
            " |-- sex: double (nullable = false)\n",
            " |-- Age: string (nullable = true)\n",
            " |-- SibSp: string (nullable = true)\n",
            " |-- Parch: string (nullable = true)\n",
            " |-- Fare: string (nullable = true)\n",
            " |-- TicketNumber: string (nullable = true)\n",
            " |-- Embark: double (nullable = false)\n",
            " |-- CabinAbrev: double (nullable = false)\n",
            " |-- CabinNumbers: string (nullable = false)\n",
            " |-- CabinOnTicket: integer (nullable = false)\n",
            " |-- NameAbrevVec: vector (nullable = true)\n",
            "\n"
          ]
        }
      ]
    },
    {
      "cell_type": "code",
      "source": [
        "df2 = df2.withColumn(\"Fare\", col(\"Fare\").cast(\"float\"))\n"
      ],
      "metadata": {
        "id": "nsUXtJyxv4Y2"
      },
      "execution_count": 192,
      "outputs": []
    },
    {
      "cell_type": "code",
      "source": [
        "df2.show()"
      ],
      "metadata": {
        "colab": {
          "base_uri": "https://localhost:8080/"
        },
        "id": "TND3gn6VwD7z",
        "outputId": "fec5e192-eec8-4edc-f214-59e70450db95"
      },
      "execution_count": 117,
      "outputs": [
        {
          "output_type": "stream",
          "name": "stdout",
          "text": [
            "+-----------+--------+------+---+----+-----+-----+-------+------------+------+----------+------------+-------------+\n",
            "|PassengerId|Survived|Pclass|sex| Age|SibSp|Parch|   Fare|TicketNumber|Embark|CabinAbrev|CabinNumbers|CabinOnTicket|\n",
            "+-----------+--------+------+---+----+-----+-----+-------+------------+------+----------+------------+-------------+\n",
            "|          1|       0|     3|0.0|  22|    1|    0|   7.25|       21171|   0.0|       0.0|           0|            0|\n",
            "|          2|       1|     1|1.0|  38|    1|    0|71.2833|       17599|   1.0|       1.0|          85|            1|\n",
            "|          3|       1|     3|1.0|  26|    0|    0|  7.925|     3101282|   0.0|       0.0|           0|            0|\n",
            "|          4|       1|     1|1.0|  35|    1|    0|   53.1|      113803|   0.0|       1.0|         123|            1|\n",
            "|          5|       0|     3|0.0|  35|    0|    0|   8.05|      373450|   0.0|       0.0|           0|            0|\n",
            "|          6|       0|     3|0.0|null|    0|    0| 8.4583|      330877|   2.0|       0.0|           0|            0|\n",
            "|          7|       0|     1|0.0|  54|    0|    0|51.8625|       17463|   0.0|       4.0|          46|            1|\n",
            "|          8|       0|     3|0.0|   2|    3|    1| 21.075|      349909|   0.0|       0.0|           0|            0|\n",
            "|          9|       1|     3|1.0|  27|    0|    2|11.1333|      347742|   0.0|       0.0|           0|            0|\n",
            "|         10|       1|     2|1.0|  14|    1|    0|30.0708|      237736|   1.0|       0.0|           0|            0|\n",
            "|         11|       1|     3|1.0|   4|    1|    1|   16.7|        9549|   0.0|       7.0|           6|            1|\n",
            "|         12|       1|     1|1.0|  58|    0|    0|  26.55|      113783|   0.0|       1.0|         103|            1|\n",
            "|         13|       0|     3|0.0|  20|    0|    0|   8.05|        2151|   0.0|       0.0|           0|            0|\n",
            "|         14|       0|     3|0.0|  39|    1|    5| 31.275|      347082|   0.0|       0.0|           0|            0|\n",
            "|         15|       0|     3|1.0|  14|    0|    0| 7.8542|      350406|   0.0|       0.0|           0|            0|\n",
            "|         16|       1|     2|1.0|  55|    0|    0|   16.0|      248706|   0.0|       0.0|           0|            0|\n",
            "|         17|       0|     3|0.0|   2|    4|    1| 29.125|      382652|   2.0|       0.0|           0|            0|\n",
            "|         18|       1|     2|0.0|null|    0|    0|   13.0|      244373|   0.0|       0.0|           0|            0|\n",
            "|         19|       0|     3|1.0|  31|    1|    0|   18.0|      345763|   0.0|       0.0|           0|            0|\n",
            "|         20|       1|     3|1.0|null|    0|    0|  7.225|        2649|   1.0|       0.0|           0|            0|\n",
            "+-----------+--------+------+---+----+-----+-----+-------+------------+------+----------+------------+-------------+\n",
            "only showing top 20 rows\n",
            "\n"
          ]
        }
      ]
    },
    {
      "cell_type": "code",
      "source": [],
      "metadata": {
        "id": "GSZyCY9EwD5X"
      },
      "execution_count": null,
      "outputs": []
    },
    {
      "cell_type": "code",
      "source": [],
      "metadata": {
        "id": "SY3sGRidwD2z"
      },
      "execution_count": null,
      "outputs": []
    },
    {
      "cell_type": "code",
      "source": [],
      "metadata": {
        "id": "-oWR1XkHs5di"
      },
      "execution_count": null,
      "outputs": []
    },
    {
      "cell_type": "code",
      "source": [
        "cols_list"
      ],
      "metadata": {
        "colab": {
          "base_uri": "https://localhost:8080/"
        },
        "id": "F71Ta930vbVo",
        "outputId": "4da71604-d35c-4bf2-8db4-65a400a32ea3"
      },
      "execution_count": 193,
      "outputs": [
        {
          "output_type": "execute_result",
          "data": {
            "text/plain": [
              "['Survived',\n",
              " 'Pclass',\n",
              " 'sex',\n",
              " 'SibSp',\n",
              " 'Parch',\n",
              " 'Fare',\n",
              " 'TicketNumber',\n",
              " 'Embark',\n",
              " 'CabinAbrev',\n",
              " 'CabinNumbers',\n",
              " 'CabinOnTicket']"
            ]
          },
          "metadata": {},
          "execution_count": 193
        }
      ]
    },
    {
      "cell_type": "code",
      "source": [],
      "metadata": {
        "colab": {
          "base_uri": "https://localhost:8080/",
          "height": 1000
        },
        "id": "EfF_d_w8s5bI",
        "outputId": "02002120-0fe4-4358-eccf-5c94076f920a"
      },
      "execution_count": null,
      "outputs": [
        {
          "output_type": "error",
          "ename": "Py4JJavaError",
          "evalue": "ignored",
          "traceback": [
            "\u001b[0;31m---------------------------------------------------------------------------\u001b[0m",
            "\u001b[0;31mPy4JJavaError\u001b[0m                             Traceback (most recent call last)",
            "\u001b[0;32m<ipython-input-278-ca9c7058a335>\u001b[0m in \u001b[0;36m<module>\u001b[0;34m\u001b[0m\n\u001b[1;32m     12\u001b[0m \u001b[0;34m\u001b[0m\u001b[0m\n\u001b[1;32m     13\u001b[0m \u001b[0;31m# Compute the correlation matrix\u001b[0m\u001b[0;34m\u001b[0m\u001b[0;34m\u001b[0m\u001b[0;34m\u001b[0m\u001b[0m\n\u001b[0;32m---> 14\u001b[0;31m \u001b[0mcorrelation_matrix\u001b[0m \u001b[0;34m=\u001b[0m \u001b[0mCorrelation\u001b[0m\u001b[0;34m.\u001b[0m\u001b[0mcorr\u001b[0m\u001b[0;34m(\u001b[0m\u001b[0mdf_assembled\u001b[0m\u001b[0;34m,\u001b[0m \u001b[0;34m'features'\u001b[0m\u001b[0;34m)\u001b[0m\u001b[0;34m.\u001b[0m\u001b[0mhead\u001b[0m\u001b[0;34m(\u001b[0m\u001b[0;34m)\u001b[0m\u001b[0;34m\u001b[0m\u001b[0;34m\u001b[0m\u001b[0m\n\u001b[0m\u001b[1;32m     15\u001b[0m \u001b[0;34m\u001b[0m\u001b[0m\n\u001b[1;32m     16\u001b[0m \u001b[0;31m# Extract the correlation matrix as a numpy array\u001b[0m\u001b[0;34m\u001b[0m\u001b[0;34m\u001b[0m\u001b[0;34m\u001b[0m\u001b[0m\n",
            "\u001b[0;32m/usr/local/lib/python3.8/dist-packages/pyspark/ml/stat.py\u001b[0m in \u001b[0;36mcorr\u001b[0;34m(dataset, column, method)\u001b[0m\n\u001b[1;32m    179\u001b[0m         \u001b[0mjavaCorrObj\u001b[0m \u001b[0;34m=\u001b[0m \u001b[0m_jvm\u001b[0m\u001b[0;34m(\u001b[0m\u001b[0;34m)\u001b[0m\u001b[0;34m.\u001b[0m\u001b[0morg\u001b[0m\u001b[0;34m.\u001b[0m\u001b[0mapache\u001b[0m\u001b[0;34m.\u001b[0m\u001b[0mspark\u001b[0m\u001b[0;34m.\u001b[0m\u001b[0mml\u001b[0m\u001b[0;34m.\u001b[0m\u001b[0mstat\u001b[0m\u001b[0;34m.\u001b[0m\u001b[0mCorrelation\u001b[0m\u001b[0;34m\u001b[0m\u001b[0;34m\u001b[0m\u001b[0m\n\u001b[1;32m    180\u001b[0m         \u001b[0margs\u001b[0m \u001b[0;34m=\u001b[0m \u001b[0;34m[\u001b[0m\u001b[0m_py2java\u001b[0m\u001b[0;34m(\u001b[0m\u001b[0msc\u001b[0m\u001b[0;34m,\u001b[0m \u001b[0marg\u001b[0m\u001b[0;34m)\u001b[0m \u001b[0;32mfor\u001b[0m \u001b[0marg\u001b[0m \u001b[0;32min\u001b[0m \u001b[0;34m(\u001b[0m\u001b[0mdataset\u001b[0m\u001b[0;34m,\u001b[0m \u001b[0mcolumn\u001b[0m\u001b[0;34m,\u001b[0m \u001b[0mmethod\u001b[0m\u001b[0;34m)\u001b[0m\u001b[0;34m]\u001b[0m\u001b[0;34m\u001b[0m\u001b[0;34m\u001b[0m\u001b[0m\n\u001b[0;32m--> 181\u001b[0;31m         \u001b[0;32mreturn\u001b[0m \u001b[0m_java2py\u001b[0m\u001b[0;34m(\u001b[0m\u001b[0msc\u001b[0m\u001b[0;34m,\u001b[0m \u001b[0mjavaCorrObj\u001b[0m\u001b[0;34m.\u001b[0m\u001b[0mcorr\u001b[0m\u001b[0;34m(\u001b[0m\u001b[0;34m*\u001b[0m\u001b[0margs\u001b[0m\u001b[0;34m)\u001b[0m\u001b[0;34m)\u001b[0m\u001b[0;34m\u001b[0m\u001b[0;34m\u001b[0m\u001b[0m\n\u001b[0m\u001b[1;32m    182\u001b[0m \u001b[0;34m\u001b[0m\u001b[0m\n\u001b[1;32m    183\u001b[0m \u001b[0;34m\u001b[0m\u001b[0m\n",
            "\u001b[0;32m/usr/local/lib/python3.8/dist-packages/py4j/java_gateway.py\u001b[0m in \u001b[0;36m__call__\u001b[0;34m(self, *args)\u001b[0m\n\u001b[1;32m   1319\u001b[0m \u001b[0;34m\u001b[0m\u001b[0m\n\u001b[1;32m   1320\u001b[0m         \u001b[0manswer\u001b[0m \u001b[0;34m=\u001b[0m \u001b[0mself\u001b[0m\u001b[0;34m.\u001b[0m\u001b[0mgateway_client\u001b[0m\u001b[0;34m.\u001b[0m\u001b[0msend_command\u001b[0m\u001b[0;34m(\u001b[0m\u001b[0mcommand\u001b[0m\u001b[0;34m)\u001b[0m\u001b[0;34m\u001b[0m\u001b[0;34m\u001b[0m\u001b[0m\n\u001b[0;32m-> 1321\u001b[0;31m         return_value = get_return_value(\n\u001b[0m\u001b[1;32m   1322\u001b[0m             answer, self.gateway_client, self.target_id, self.name)\n\u001b[1;32m   1323\u001b[0m \u001b[0;34m\u001b[0m\u001b[0m\n",
            "\u001b[0;32m/usr/local/lib/python3.8/dist-packages/pyspark/sql/utils.py\u001b[0m in \u001b[0;36mdeco\u001b[0;34m(*a, **kw)\u001b[0m\n\u001b[1;32m    188\u001b[0m     \u001b[0;32mdef\u001b[0m \u001b[0mdeco\u001b[0m\u001b[0;34m(\u001b[0m\u001b[0;34m*\u001b[0m\u001b[0ma\u001b[0m\u001b[0;34m:\u001b[0m \u001b[0mAny\u001b[0m\u001b[0;34m,\u001b[0m \u001b[0;34m**\u001b[0m\u001b[0mkw\u001b[0m\u001b[0;34m:\u001b[0m \u001b[0mAny\u001b[0m\u001b[0;34m)\u001b[0m \u001b[0;34m->\u001b[0m \u001b[0mAny\u001b[0m\u001b[0;34m:\u001b[0m\u001b[0;34m\u001b[0m\u001b[0;34m\u001b[0m\u001b[0m\n\u001b[1;32m    189\u001b[0m         \u001b[0;32mtry\u001b[0m\u001b[0;34m:\u001b[0m\u001b[0;34m\u001b[0m\u001b[0;34m\u001b[0m\u001b[0m\n\u001b[0;32m--> 190\u001b[0;31m             \u001b[0;32mreturn\u001b[0m \u001b[0mf\u001b[0m\u001b[0;34m(\u001b[0m\u001b[0;34m*\u001b[0m\u001b[0ma\u001b[0m\u001b[0;34m,\u001b[0m \u001b[0;34m**\u001b[0m\u001b[0mkw\u001b[0m\u001b[0;34m)\u001b[0m\u001b[0;34m\u001b[0m\u001b[0;34m\u001b[0m\u001b[0m\n\u001b[0m\u001b[1;32m    191\u001b[0m         \u001b[0;32mexcept\u001b[0m \u001b[0mPy4JJavaError\u001b[0m \u001b[0;32mas\u001b[0m \u001b[0me\u001b[0m\u001b[0;34m:\u001b[0m\u001b[0;34m\u001b[0m\u001b[0;34m\u001b[0m\u001b[0m\n\u001b[1;32m    192\u001b[0m             \u001b[0mconverted\u001b[0m \u001b[0;34m=\u001b[0m \u001b[0mconvert_exception\u001b[0m\u001b[0;34m(\u001b[0m\u001b[0me\u001b[0m\u001b[0;34m.\u001b[0m\u001b[0mjava_exception\u001b[0m\u001b[0;34m)\u001b[0m\u001b[0;34m\u001b[0m\u001b[0;34m\u001b[0m\u001b[0m\n",
            "\u001b[0;32m/usr/local/lib/python3.8/dist-packages/py4j/protocol.py\u001b[0m in \u001b[0;36mget_return_value\u001b[0;34m(answer, gateway_client, target_id, name)\u001b[0m\n\u001b[1;32m    324\u001b[0m             \u001b[0mvalue\u001b[0m \u001b[0;34m=\u001b[0m \u001b[0mOUTPUT_CONVERTER\u001b[0m\u001b[0;34m[\u001b[0m\u001b[0mtype\u001b[0m\u001b[0;34m]\u001b[0m\u001b[0;34m(\u001b[0m\u001b[0manswer\u001b[0m\u001b[0;34m[\u001b[0m\u001b[0;36m2\u001b[0m\u001b[0;34m:\u001b[0m\u001b[0;34m]\u001b[0m\u001b[0;34m,\u001b[0m \u001b[0mgateway_client\u001b[0m\u001b[0;34m)\u001b[0m\u001b[0;34m\u001b[0m\u001b[0;34m\u001b[0m\u001b[0m\n\u001b[1;32m    325\u001b[0m             \u001b[0;32mif\u001b[0m \u001b[0manswer\u001b[0m\u001b[0;34m[\u001b[0m\u001b[0;36m1\u001b[0m\u001b[0;34m]\u001b[0m \u001b[0;34m==\u001b[0m \u001b[0mREFERENCE_TYPE\u001b[0m\u001b[0;34m:\u001b[0m\u001b[0;34m\u001b[0m\u001b[0;34m\u001b[0m\u001b[0m\n\u001b[0;32m--> 326\u001b[0;31m                 raise Py4JJavaError(\n\u001b[0m\u001b[1;32m    327\u001b[0m                     \u001b[0;34m\"An error occurred while calling {0}{1}{2}.\\n\"\u001b[0m\u001b[0;34m.\u001b[0m\u001b[0;34m\u001b[0m\u001b[0;34m\u001b[0m\u001b[0m\n\u001b[1;32m    328\u001b[0m                     format(target_id, \".\", name), value)\n",
            "\u001b[0;31mPy4JJavaError\u001b[0m: An error occurred while calling z:org.apache.spark.ml.stat.Correlation.corr.\n: org.apache.spark.SparkException: Job aborted due to stage failure: Task 0 in stage 210.0 failed 1 times, most recent failure: Lost task 0.0 in stage 210.0 (TID 211) (789c99f8ed36 executor driver): org.apache.spark.SparkException: Failed to execute user defined function (StringIndexerModel$$Lambda$3601/2016693796: (string) => double)\n\tat org.apache.spark.sql.errors.QueryExecutionErrors$.failedExecuteUserDefinedFunctionError(QueryExecutionErrors.scala:190)\n\tat org.apache.spark.sql.errors.QueryExecutionErrors.failedExecuteUserDefinedFunctionError(QueryExecutionErrors.scala)\n\tat org.apache.spark.sql.catalyst.expressions.GeneratedClass$GeneratedIteratorForCodegenStage2.processNext(Unknown Source)\n\tat org.apache.spark.sql.execution.BufferedRowIterator.hasNext(BufferedRowIterator.java:43)\n\tat org.apache.spark.sql.execution.WholeStageCodegenExec$$anon$1.hasNext(WholeStageCodegenExec.scala:760)\n\tat scala.collection.Iterator$$anon$10.hasNext(Iterator.scala:460)\n\tat scala.collection.Iterator$$anon$10.hasNext(Iterator.scala:460)\n\tat scala.collection.Iterator$$anon$10.hasNext(Iterator.scala:460)\n\tat scala.collection.Iterator$$anon$10.hasNext(Iterator.scala:460)\n\tat scala.collection.Iterator.foreach(Iterator.scala:943)\n\tat scala.collection.Iterator.foreach$(Iterator.scala:943)\n\tat scala.collection.AbstractIterator.foreach(Iterator.scala:1431)\n\tat scala.collection.TraversableOnce.foldLeft(TraversableOnce.scala:199)\n\tat scala.collection.TraversableOnce.foldLeft$(TraversableOnce.scala:192)\n\tat scala.collection.AbstractIterator.foldLeft(Iterator.scala:1431)\n\tat scala.collection.TraversableOnce.aggregate(TraversableOnce.scala:260)\n\tat scala.collection.TraversableOnce.aggregate$(TraversableOnce.scala:260)\n\tat scala.collection.AbstractIterator.aggregate(Iterator.scala:1431)\n\tat org.apache.spark.rdd.RDD.$anonfun$treeAggregate$4(RDD.scala:1236)\n\tat org.apache.spark.rdd.RDD.$anonfun$treeAggregate$6(RDD.scala:1237)\n\tat org.apache.spark.rdd.RDD.$anonfun$mapPartitions$2(RDD.scala:855)\n\tat org.apache.spark.rdd.RDD.$anonfun$mapPartitions$2$adapted(RDD.scala:855)\n\tat org.apache.spark.rdd.MapPartitionsRDD.compute(MapPartitionsRDD.scala:52)\n\tat org.apache.spark.rdd.RDD.computeOrReadCheckpoint(RDD.scala:365)\n\tat org.apache.spark.rdd.RDD.iterator(RDD.scala:329)\n\tat org.apache.spark.scheduler.ResultTask.runTask(ResultTask.scala:90)\n\tat org.apache.spark.scheduler.Task.run(Task.scala:136)\n\tat org.apache.spark.executor.Executor$TaskRunner.$anonfun$run$3(Executor.scala:548)\n\tat org.apache.spark.util.Utils$.tryWithSafeFinally(Utils.scala:1504)\n\tat org.apache.spark.executor.Executor$TaskRunner.run(Executor.scala:551)\n\tat java.util.concurrent.ThreadPoolExecutor.runWorker(ThreadPoolExecutor.java:1149)\n\tat java.util.concurrent.ThreadPoolExecutor$Worker.run(ThreadPoolExecutor.java:624)\n\tat java.lang.Thread.run(Thread.java:750)\nCaused by: org.apache.spark.SparkException: StringIndexer encountered NULL value. To handle or skip NULLS, try setting StringIndexer.handleInvalid.\n\tat org.apache.spark.ml.feature.StringIndexerModel.$anonfun$getIndexer$1(StringIndexer.scala:396)\n\tat org.apache.spark.ml.feature.StringIndexerModel.$anonfun$getIndexer$1$adapted(StringIndexer.scala:391)\n\t... 31 more\n\nDriver stacktrace:\n\tat org.apache.spark.scheduler.DAGScheduler.failJobAndIndependentStages(DAGScheduler.scala:2672)\n\tat org.apache.spark.scheduler.DAGScheduler.$anonfun$abortStage$2(DAGScheduler.scala:2608)\n\tat org.apache.spark.scheduler.DAGScheduler.$anonfun$abortStage$2$adapted(DAGScheduler.scala:2607)\n\tat scala.collection.mutable.ResizableArray.foreach(ResizableArray.scala:62)\n\tat scala.collection.mutable.ResizableArray.foreach$(ResizableArray.scala:55)\n\tat scala.collection.mutable.ArrayBuffer.foreach(ArrayBuffer.scala:49)\n\tat org.apache.spark.scheduler.DAGScheduler.abortStage(DAGScheduler.scala:2607)\n\tat org.apache.spark.scheduler.DAGScheduler.$anonfun$handleTaskSetFailed$1(DAGScheduler.scala:1182)\n\tat org.apache.spark.scheduler.DAGScheduler.$anonfun$handleTaskSetFailed$1$adapted(DAGScheduler.scala:1182)\n\tat scala.Option.foreach(Option.scala:407)\n\tat org.apache.spark.scheduler.DAGScheduler.handleTaskSetFailed(DAGScheduler.scala:1182)\n\tat org.apache.spark.scheduler.DAGSchedulerEventProcessLoop.doOnReceive(DAGScheduler.scala:2860)\n\tat org.apache.spark.scheduler.DAGSchedulerEventProcessLoop.onReceive(DAGScheduler.scala:2802)\n\tat org.apache.spark.scheduler.DAGSchedulerEventProcessLoop.onReceive(DAGScheduler.scala:2791)\n\tat org.apache.spark.util.EventLoop$$anon$1.run(EventLoop.scala:49)\n\tat org.apache.spark.scheduler.DAGScheduler.runJob(DAGScheduler.scala:952)\n\tat org.apache.spark.SparkContext.runJob(SparkContext.scala:2238)\n\tat org.apache.spark.SparkContext.runJob(SparkContext.scala:2333)\n\tat org.apache.spark.rdd.RDD.$anonfun$fold$1(RDD.scala:1174)\n\tat org.apache.spark.rdd.RDDOperationScope$.withScope(RDDOperationScope.scala:151)\n\tat org.apache.spark.rdd.RDDOperationScope$.withScope(RDDOperationScope.scala:112)\n\tat org.apache.spark.rdd.RDD.withScope(RDD.scala:406)\n\tat org.apache.spark.rdd.RDD.fold(RDD.scala:1168)\n\tat org.apache.spark.rdd.RDD.$anonfun$treeAggregate$2(RDD.scala:1267)\n\tat org.apache.spark.rdd.RDDOperationScope$.withScope(RDDOperationScope.scala:151)\n\tat org.apache.spark.rdd.RDDOperationScope$.withScope(RDDOperationScope.scala:112)\n\tat org.apache.spark.rdd.RDD.withScope(RDD.scala:406)\n\tat org.apache.spark.rdd.RDD.treeAggregate(RDD.scala:1228)\n\tat org.apache.spark.rdd.RDD.$anonfun$treeAggregate$1(RDD.scala:1214)\n\tat org.apache.spark.rdd.RDDOperationScope$.withScope(RDDOperationScope.scala:151)\n\tat org.apache.spark.rdd.RDDOperationScope$.withScope(RDDOperationScope.scala:112)\n\tat org.apache.spark.rdd.RDD.withScope(RDD.scala:406)\n\tat org.apache.spark.rdd.RDD.treeAggregate(RDD.scala:1214)\n\tat org.apache.spark.mllib.stat.Statistics$.colStats(Statistics.scala:58)\n\tat org.apache.spark.mllib.linalg.distributed.RowMatrix.computeCovariance(RowMatrix.scala:456)\n\tat org.apache.spark.mllib.stat.correlation.PearsonCorrelation$.computeCorrelationMatrix(PearsonCorrelation.scala:49)\n\tat org.apache.spark.mllib.stat.correlation.Correlations$.corrMatrix(Correlation.scala:66)\n\tat org.apache.spark.mllib.stat.Statistics$.corr(Statistics.scala:90)\n\tat org.apache.spark.ml.stat.Correlation$.corr(Correlation.scala:71)\n\tat org.apache.spark.ml.stat.Correlation.corr(Correlation.scala)\n\tat sun.reflect.NativeMethodAccessorImpl.invoke0(Native Method)\n\tat sun.reflect.NativeMethodAccessorImpl.invoke(NativeMethodAccessorImpl.java:62)\n\tat sun.reflect.DelegatingMethodAccessorImpl.invoke(DelegatingMethodAccessorImpl.java:43)\n\tat java.lang.reflect.Method.invoke(Method.java:498)\n\tat py4j.reflection.MethodInvoker.invoke(MethodInvoker.java:244)\n\tat py4j.reflection.ReflectionEngine.invoke(ReflectionEngine.java:357)\n\tat py4j.Gateway.invoke(Gateway.java:282)\n\tat py4j.commands.AbstractCommand.invokeMethod(AbstractCommand.java:132)\n\tat py4j.commands.CallCommand.execute(CallCommand.java:79)\n\tat py4j.ClientServerConnection.waitForCommands(ClientServerConnection.java:182)\n\tat py4j.ClientServerConnection.run(ClientServerConnection.java:106)\n\tat java.lang.Thread.run(Thread.java:750)\nCaused by: org.apache.spark.SparkException: Failed to execute user defined function (StringIndexerModel$$Lambda$3601/2016693796: (string) => double)\n\tat org.apache.spark.sql.errors.QueryExecutionErrors$.failedExecuteUserDefinedFunctionError(QueryExecutionErrors.scala:190)\n\tat org.apache.spark.sql.errors.QueryExecutionErrors.failedExecuteUserDefinedFunctionError(QueryExecutionErrors.scala)\n\tat org.apache.spark.sql.catalyst.expressions.GeneratedClass$GeneratedIteratorForCodegenStage2.processNext(Unknown Source)\n\tat org.apache.spark.sql.execution.BufferedRowIterator.hasNext(BufferedRowIterator.java:43)\n\tat org.apache.spark.sql.execution.WholeStageCodegenExec$$anon$1.hasNext(WholeStageCodegenExec.scala:760)\n\tat scala.collection.Iterator$$anon$10.hasNext(Iterator.scala:460)\n\tat scala.collection.Iterator$$anon$10.hasNext(Iterator.scala:460)\n\tat scala.collection.Iterator$$anon$10.hasNext(Iterator.scala:460)\n\tat scala.collection.Iterator$$anon$10.hasNext(Iterator.scala:460)\n\tat scala.collection.Iterator.foreach(Iterator.scala:943)\n\tat scala.collection.Iterator.foreach$(Iterator.scala:943)\n\tat scala.collection.AbstractIterator.foreach(Iterator.scala:1431)\n\tat scala.collection.TraversableOnce.foldLeft(TraversableOnce.scala:199)\n\tat scala.collection.TraversableOnce.foldLeft$(TraversableOnce.scala:192)\n\tat scala.collection.AbstractIterator.foldLeft(Iterator.scala:1431)\n\tat scala.collection.TraversableOnce.aggregate(TraversableOnce.scala:260)\n\tat scala.collection.TraversableOnce.aggregate$(TraversableOnce.scala:260)\n\tat scala.collection.AbstractIterator.aggregate(Iterator.scala:1431)\n\tat org.apache.spark.rdd.RDD.$anonfun$treeAggregate$4(RDD.scala:1236)\n\tat org.apache.spark.rdd.RDD.$anonfun$treeAggregate$6(RDD.scala:1237)\n\tat org.apache.spark.rdd.RDD.$anonfun$mapPartitions$2(RDD.scala:855)\n\tat org.apache.spark.rdd.RDD.$anonfun$mapPartitions$2$adapted(RDD.scala:855)\n\tat org.apache.spark.rdd.MapPartitionsRDD.compute(MapPartitionsRDD.scala:52)\n\tat org.apache.spark.rdd.RDD.computeOrReadCheckpoint(RDD.scala:365)\n\tat org.apache.spark.rdd.RDD.iterator(RDD.scala:329)\n\tat org.apache.spark.scheduler.ResultTask.runTask(ResultTask.scala:90)\n\tat org.apache.spark.scheduler.Task.run(Task.scala:136)\n\tat org.apache.spark.executor.Executor$TaskRunner.$anonfun$run$3(Executor.scala:548)\n\tat org.apache.spark.util.Utils$.tryWithSafeFinally(Utils.scala:1504)\n\tat org.apache.spark.executor.Executor$TaskRunner.run(Executor.scala:551)\n\tat java.util.concurrent.ThreadPoolExecutor.runWorker(ThreadPoolExecutor.java:1149)\n\tat java.util.concurrent.ThreadPoolExecutor$Worker.run(ThreadPoolExecutor.java:624)\n\t... 1 more\nCaused by: org.apache.spark.SparkException: StringIndexer encountered NULL value. To handle or skip NULLS, try setting StringIndexer.handleInvalid.\n\tat org.apache.spark.ml.feature.StringIndexerModel.$anonfun$getIndexer$1(StringIndexer.scala:396)\n\tat org.apache.spark.ml.feature.StringIndexerModel.$anonfun$getIndexer$1$adapted(StringIndexer.scala:391)\n\t... 31 more\n"
          ]
        }
      ]
    },
    {
      "cell_type": "code",
      "source": [
        "df2.printSchema()"
      ],
      "metadata": {
        "colab": {
          "base_uri": "https://localhost:8080/"
        },
        "id": "AktxDAjGs5Yr",
        "outputId": "8ee5699b-a0e6-4c7e-de65-18fd5ece19ab"
      },
      "execution_count": null,
      "outputs": [
        {
          "output_type": "stream",
          "name": "stdout",
          "text": [
            "root\n",
            " |-- PassengerId: integer (nullable = true)\n",
            " |-- Survived: integer (nullable = true)\n",
            " |-- Pclass: integer (nullable = true)\n",
            " |-- sex: integer (nullable = true)\n",
            " |-- Age: integer (nullable = true)\n",
            " |-- SibSp: integer (nullable = true)\n",
            " |-- Parch: integer (nullable = true)\n",
            " |-- Fare: integer (nullable = true)\n",
            " |-- Embarked: integer (nullable = true)\n",
            " |-- NameContains: integer (nullable = false)\n",
            " |-- TicketNumber: integer (nullable = true)\n",
            " |-- CabinAbrev: integer (nullable = true)\n",
            " |-- CabinNumbers: integer (nullable = true)\n",
            "\n"
          ]
        }
      ]
    },
    {
      "cell_type": "code",
      "source": [
        "# List all column names\n",
        "columns = df2.columns\n",
        "\n",
        "# Loop over each column\n",
        "for col in columns:\n",
        "    # Check if column is of StringType\n",
        "    if df2.select(col).dtypes[0][1] == 'string':\n",
        "        # Cast column to IntegerType\n",
        "        df2 = df2.withColumn(col, df2[col].cast('integer'))"
      ],
      "metadata": {
        "id": "msUz9W7Is5WV"
      },
      "execution_count": 194,
      "outputs": []
    },
    {
      "cell_type": "code",
      "source": [
        "cols_list = df2.columns"
      ],
      "metadata": {
        "id": "JvTnzXhws5T4"
      },
      "execution_count": 195,
      "outputs": []
    },
    {
      "cell_type": "code",
      "source": [
        "cols_list.remove('Age')"
      ],
      "metadata": {
        "id": "1oI9zUc3s5Rb"
      },
      "execution_count": 196,
      "outputs": []
    },
    {
      "cell_type": "code",
      "source": [
        "cols_list.remove('PassengerId')"
      ],
      "metadata": {
        "id": "ztRUrOVHoigx"
      },
      "execution_count": 197,
      "outputs": []
    },
    {
      "cell_type": "code",
      "source": [
        "from pyspark.ml.feature import VectorAssembler\n",
        "from pyspark.ml.stat import Correlation\n",
        "\n",
        "# Define the columns to include in the correlation matrix\n",
        "cols = cols_list\n",
        "\n",
        "# Create a VectorAssembler to combine the columns into a single feature column\n",
        "assembler = VectorAssembler(inputCols=cols, outputCol='features')\n",
        "\n",
        "# Use the VectorAssembler to transform the DataFrame\n",
        "df_assembled = assembler.transform(df2).select('features')\n",
        "\n",
        "# Compute the correlation matrix\n",
        "correlation_matrix = Correlation.corr(df_assembled, 'features').head()\n",
        "\n",
        "# Extract the correlation matrix as a numpy array\n",
        "corr_array = correlation_matrix[0].toArray()\n",
        "\n",
        "# Print the correlation matrix\n",
        "print(corr_array)\n"
      ],
      "metadata": {
        "colab": {
          "base_uri": "https://localhost:8080/",
          "height": 1000
        },
        "id": "S684LsXNs5PF",
        "outputId": "67d1bea7-a7e2-468d-8432-23d0648411ed"
      },
      "execution_count": 198,
      "outputs": [
        {
          "output_type": "error",
          "ename": "Py4JJavaError",
          "evalue": "ignored",
          "traceback": [
            "\u001b[0;31m---------------------------------------------------------------------------\u001b[0m",
            "\u001b[0;31mPy4JJavaError\u001b[0m                             Traceback (most recent call last)",
            "\u001b[0;32m<ipython-input-198-ca9c7058a335>\u001b[0m in \u001b[0;36m<module>\u001b[0;34m\u001b[0m\n\u001b[1;32m     12\u001b[0m \u001b[0;34m\u001b[0m\u001b[0m\n\u001b[1;32m     13\u001b[0m \u001b[0;31m# Compute the correlation matrix\u001b[0m\u001b[0;34m\u001b[0m\u001b[0;34m\u001b[0m\u001b[0;34m\u001b[0m\u001b[0m\n\u001b[0;32m---> 14\u001b[0;31m \u001b[0mcorrelation_matrix\u001b[0m \u001b[0;34m=\u001b[0m \u001b[0mCorrelation\u001b[0m\u001b[0;34m.\u001b[0m\u001b[0mcorr\u001b[0m\u001b[0;34m(\u001b[0m\u001b[0mdf_assembled\u001b[0m\u001b[0;34m,\u001b[0m \u001b[0;34m'features'\u001b[0m\u001b[0;34m)\u001b[0m\u001b[0;34m.\u001b[0m\u001b[0mhead\u001b[0m\u001b[0;34m(\u001b[0m\u001b[0;34m)\u001b[0m\u001b[0;34m\u001b[0m\u001b[0;34m\u001b[0m\u001b[0m\n\u001b[0m\u001b[1;32m     15\u001b[0m \u001b[0;34m\u001b[0m\u001b[0m\n\u001b[1;32m     16\u001b[0m \u001b[0;31m# Extract the correlation matrix as a numpy array\u001b[0m\u001b[0;34m\u001b[0m\u001b[0;34m\u001b[0m\u001b[0;34m\u001b[0m\u001b[0m\n",
            "\u001b[0;32m/usr/local/lib/python3.8/dist-packages/pyspark/ml/stat.py\u001b[0m in \u001b[0;36mcorr\u001b[0;34m(dataset, column, method)\u001b[0m\n\u001b[1;32m    179\u001b[0m         \u001b[0mjavaCorrObj\u001b[0m \u001b[0;34m=\u001b[0m \u001b[0m_jvm\u001b[0m\u001b[0;34m(\u001b[0m\u001b[0;34m)\u001b[0m\u001b[0;34m.\u001b[0m\u001b[0morg\u001b[0m\u001b[0;34m.\u001b[0m\u001b[0mapache\u001b[0m\u001b[0;34m.\u001b[0m\u001b[0mspark\u001b[0m\u001b[0;34m.\u001b[0m\u001b[0mml\u001b[0m\u001b[0;34m.\u001b[0m\u001b[0mstat\u001b[0m\u001b[0;34m.\u001b[0m\u001b[0mCorrelation\u001b[0m\u001b[0;34m\u001b[0m\u001b[0;34m\u001b[0m\u001b[0m\n\u001b[1;32m    180\u001b[0m         \u001b[0margs\u001b[0m \u001b[0;34m=\u001b[0m \u001b[0;34m[\u001b[0m\u001b[0m_py2java\u001b[0m\u001b[0;34m(\u001b[0m\u001b[0msc\u001b[0m\u001b[0;34m,\u001b[0m \u001b[0marg\u001b[0m\u001b[0;34m)\u001b[0m \u001b[0;32mfor\u001b[0m \u001b[0marg\u001b[0m \u001b[0;32min\u001b[0m \u001b[0;34m(\u001b[0m\u001b[0mdataset\u001b[0m\u001b[0;34m,\u001b[0m \u001b[0mcolumn\u001b[0m\u001b[0;34m,\u001b[0m \u001b[0mmethod\u001b[0m\u001b[0;34m)\u001b[0m\u001b[0;34m]\u001b[0m\u001b[0;34m\u001b[0m\u001b[0;34m\u001b[0m\u001b[0m\n\u001b[0;32m--> 181\u001b[0;31m         \u001b[0;32mreturn\u001b[0m \u001b[0m_java2py\u001b[0m\u001b[0;34m(\u001b[0m\u001b[0msc\u001b[0m\u001b[0;34m,\u001b[0m \u001b[0mjavaCorrObj\u001b[0m\u001b[0;34m.\u001b[0m\u001b[0mcorr\u001b[0m\u001b[0;34m(\u001b[0m\u001b[0;34m*\u001b[0m\u001b[0margs\u001b[0m\u001b[0;34m)\u001b[0m\u001b[0;34m)\u001b[0m\u001b[0;34m\u001b[0m\u001b[0;34m\u001b[0m\u001b[0m\n\u001b[0m\u001b[1;32m    182\u001b[0m \u001b[0;34m\u001b[0m\u001b[0m\n\u001b[1;32m    183\u001b[0m \u001b[0;34m\u001b[0m\u001b[0m\n",
            "\u001b[0;32m/usr/local/lib/python3.8/dist-packages/py4j/java_gateway.py\u001b[0m in \u001b[0;36m__call__\u001b[0;34m(self, *args)\u001b[0m\n\u001b[1;32m   1319\u001b[0m \u001b[0;34m\u001b[0m\u001b[0m\n\u001b[1;32m   1320\u001b[0m         \u001b[0manswer\u001b[0m \u001b[0;34m=\u001b[0m \u001b[0mself\u001b[0m\u001b[0;34m.\u001b[0m\u001b[0mgateway_client\u001b[0m\u001b[0;34m.\u001b[0m\u001b[0msend_command\u001b[0m\u001b[0;34m(\u001b[0m\u001b[0mcommand\u001b[0m\u001b[0;34m)\u001b[0m\u001b[0;34m\u001b[0m\u001b[0;34m\u001b[0m\u001b[0m\n\u001b[0;32m-> 1321\u001b[0;31m         return_value = get_return_value(\n\u001b[0m\u001b[1;32m   1322\u001b[0m             answer, self.gateway_client, self.target_id, self.name)\n\u001b[1;32m   1323\u001b[0m \u001b[0;34m\u001b[0m\u001b[0m\n",
            "\u001b[0;32m/usr/local/lib/python3.8/dist-packages/pyspark/sql/utils.py\u001b[0m in \u001b[0;36mdeco\u001b[0;34m(*a, **kw)\u001b[0m\n\u001b[1;32m    188\u001b[0m     \u001b[0;32mdef\u001b[0m \u001b[0mdeco\u001b[0m\u001b[0;34m(\u001b[0m\u001b[0;34m*\u001b[0m\u001b[0ma\u001b[0m\u001b[0;34m:\u001b[0m \u001b[0mAny\u001b[0m\u001b[0;34m,\u001b[0m \u001b[0;34m**\u001b[0m\u001b[0mkw\u001b[0m\u001b[0;34m:\u001b[0m \u001b[0mAny\u001b[0m\u001b[0;34m)\u001b[0m \u001b[0;34m->\u001b[0m \u001b[0mAny\u001b[0m\u001b[0;34m:\u001b[0m\u001b[0;34m\u001b[0m\u001b[0;34m\u001b[0m\u001b[0m\n\u001b[1;32m    189\u001b[0m         \u001b[0;32mtry\u001b[0m\u001b[0;34m:\u001b[0m\u001b[0;34m\u001b[0m\u001b[0;34m\u001b[0m\u001b[0m\n\u001b[0;32m--> 190\u001b[0;31m             \u001b[0;32mreturn\u001b[0m \u001b[0mf\u001b[0m\u001b[0;34m(\u001b[0m\u001b[0;34m*\u001b[0m\u001b[0ma\u001b[0m\u001b[0;34m,\u001b[0m \u001b[0;34m**\u001b[0m\u001b[0mkw\u001b[0m\u001b[0;34m)\u001b[0m\u001b[0;34m\u001b[0m\u001b[0;34m\u001b[0m\u001b[0m\n\u001b[0m\u001b[1;32m    191\u001b[0m         \u001b[0;32mexcept\u001b[0m \u001b[0mPy4JJavaError\u001b[0m \u001b[0;32mas\u001b[0m \u001b[0me\u001b[0m\u001b[0;34m:\u001b[0m\u001b[0;34m\u001b[0m\u001b[0;34m\u001b[0m\u001b[0m\n\u001b[1;32m    192\u001b[0m             \u001b[0mconverted\u001b[0m \u001b[0;34m=\u001b[0m \u001b[0mconvert_exception\u001b[0m\u001b[0;34m(\u001b[0m\u001b[0me\u001b[0m\u001b[0;34m.\u001b[0m\u001b[0mjava_exception\u001b[0m\u001b[0;34m)\u001b[0m\u001b[0;34m\u001b[0m\u001b[0;34m\u001b[0m\u001b[0m\n",
            "\u001b[0;32m/usr/local/lib/python3.8/dist-packages/py4j/protocol.py\u001b[0m in \u001b[0;36mget_return_value\u001b[0;34m(answer, gateway_client, target_id, name)\u001b[0m\n\u001b[1;32m    324\u001b[0m             \u001b[0mvalue\u001b[0m \u001b[0;34m=\u001b[0m \u001b[0mOUTPUT_CONVERTER\u001b[0m\u001b[0;34m[\u001b[0m\u001b[0mtype\u001b[0m\u001b[0;34m]\u001b[0m\u001b[0;34m(\u001b[0m\u001b[0manswer\u001b[0m\u001b[0;34m[\u001b[0m\u001b[0;36m2\u001b[0m\u001b[0;34m:\u001b[0m\u001b[0;34m]\u001b[0m\u001b[0;34m,\u001b[0m \u001b[0mgateway_client\u001b[0m\u001b[0;34m)\u001b[0m\u001b[0;34m\u001b[0m\u001b[0;34m\u001b[0m\u001b[0m\n\u001b[1;32m    325\u001b[0m             \u001b[0;32mif\u001b[0m \u001b[0manswer\u001b[0m\u001b[0;34m[\u001b[0m\u001b[0;36m1\u001b[0m\u001b[0;34m]\u001b[0m \u001b[0;34m==\u001b[0m \u001b[0mREFERENCE_TYPE\u001b[0m\u001b[0;34m:\u001b[0m\u001b[0;34m\u001b[0m\u001b[0;34m\u001b[0m\u001b[0m\n\u001b[0;32m--> 326\u001b[0;31m                 raise Py4JJavaError(\n\u001b[0m\u001b[1;32m    327\u001b[0m                     \u001b[0;34m\"An error occurred while calling {0}{1}{2}.\\n\"\u001b[0m\u001b[0;34m.\u001b[0m\u001b[0;34m\u001b[0m\u001b[0;34m\u001b[0m\u001b[0m\n\u001b[1;32m    328\u001b[0m                     format(target_id, \".\", name), value)\n",
            "\u001b[0;31mPy4JJavaError\u001b[0m: An error occurred while calling z:org.apache.spark.ml.stat.Correlation.corr.\n: org.apache.spark.SparkException: Job aborted due to stage failure: Task 1 in stage 123.0 failed 1 times, most recent failure: Lost task 1.0 in stage 123.0 (TID 136) (e2bf04eaa855 executor driver): org.apache.spark.SparkException: Failed to execute user defined function (VectorAssembler$$Lambda$3997/464638751: (struct<Survived_double_VectorAssembler_f802c6f96d02:double,Pclass_double_VectorAssembler_f802c6f96d02:double,sex:double,SibSp_double_VectorAssembler_f802c6f96d02:double,Parch_double_VectorAssembler_f802c6f96d02:double,Fare_double_VectorAssembler_f802c6f96d02:double,TicketNumber_double_VectorAssembler_f802c6f96d02:double,Embark:double,CabinAbrev:double,CabinNumbers_double_VectorAssembler_f802c6f96d02:double,CabinOnTicket_double_VectorAssembler_f802c6f96d02:double,NameAbrevVec:struct<type:tinyint,size:int,indices:array<int>,values:array<double>>>) => struct<type:tinyint,size:int,indices:array<int>,values:array<double>>)\n\tat org.apache.spark.sql.errors.QueryExecutionErrors$.failedExecuteUserDefinedFunctionError(QueryExecutionErrors.scala:190)\n\tat org.apache.spark.sql.errors.QueryExecutionErrors.failedExecuteUserDefinedFunctionError(QueryExecutionErrors.scala)\n\tat org.apache.spark.sql.catalyst.expressions.GeneratedClass$GeneratedIteratorForCodegenStage2.processNext(Unknown Source)\n\tat org.apache.spark.sql.execution.BufferedRowIterator.hasNext(BufferedRowIterator.java:43)\n\tat org.apache.spark.sql.execution.WholeStageCodegenExec$$anon$1.hasNext(WholeStageCodegenExec.scala:760)\n\tat scala.collection.Iterator$$anon$10.hasNext(Iterator.scala:460)\n\tat scala.collection.Iterator$$anon$10.hasNext(Iterator.scala:460)\n\tat scala.collection.Iterator$$anon$10.hasNext(Iterator.scala:460)\n\tat scala.collection.Iterator$$anon$10.hasNext(Iterator.scala:460)\n\tat scala.collection.Iterator.foreach(Iterator.scala:943)\n\tat scala.collection.Iterator.foreach$(Iterator.scala:943)\n\tat scala.collection.AbstractIterator.foreach(Iterator.scala:1431)\n\tat scala.collection.TraversableOnce.foldLeft(TraversableOnce.scala:199)\n\tat scala.collection.TraversableOnce.foldLeft$(TraversableOnce.scala:192)\n\tat scala.collection.AbstractIterator.foldLeft(Iterator.scala:1431)\n\tat scala.collection.TraversableOnce.aggregate(TraversableOnce.scala:260)\n\tat scala.collection.TraversableOnce.aggregate$(TraversableOnce.scala:260)\n\tat scala.collection.AbstractIterator.aggregate(Iterator.scala:1431)\n\tat org.apache.spark.rdd.RDD.$anonfun$treeAggregate$4(RDD.scala:1236)\n\tat org.apache.spark.rdd.RDD.$anonfun$treeAggregate$6(RDD.scala:1237)\n\tat org.apache.spark.rdd.RDD.$anonfun$mapPartitions$2(RDD.scala:855)\n\tat org.apache.spark.rdd.RDD.$anonfun$mapPartitions$2$adapted(RDD.scala:855)\n\tat org.apache.spark.rdd.MapPartitionsRDD.compute(MapPartitionsRDD.scala:52)\n\tat org.apache.spark.rdd.RDD.computeOrReadCheckpoint(RDD.scala:365)\n\tat org.apache.spark.rdd.RDD.iterator(RDD.scala:329)\n\tat org.apache.spark.scheduler.ResultTask.runTask(ResultTask.scala:90)\n\tat org.apache.spark.scheduler.Task.run(Task.scala:136)\n\tat org.apache.spark.executor.Executor$TaskRunner.$anonfun$run$3(Executor.scala:548)\n\tat org.apache.spark.util.Utils$.tryWithSafeFinally(Utils.scala:1504)\n\tat org.apache.spark.executor.Executor$TaskRunner.run(Executor.scala:551)\n\tat java.util.concurrent.ThreadPoolExecutor.runWorker(ThreadPoolExecutor.java:1149)\n\tat java.util.concurrent.ThreadPoolExecutor$Worker.run(ThreadPoolExecutor.java:624)\n\tat java.lang.Thread.run(Thread.java:750)\nCaused by: org.apache.spark.SparkException: Encountered null while assembling a row with handleInvalid = \"error\". Consider\nremoving nulls from dataset or using handleInvalid = \"keep\" or \"skip\".\n\tat org.apache.spark.ml.feature.VectorAssembler$.$anonfun$assemble$1(VectorAssembler.scala:291)\n\tat org.apache.spark.ml.feature.VectorAssembler$.$anonfun$assemble$1$adapted(VectorAssembler.scala:260)\n\tat scala.collection.IndexedSeqOptimized.foreach(IndexedSeqOptimized.scala:36)\n\tat scala.collection.IndexedSeqOptimized.foreach$(IndexedSeqOptimized.scala:33)\n\tat scala.collection.mutable.WrappedArray.foreach(WrappedArray.scala:38)\n\tat org.apache.spark.ml.feature.VectorAssembler$.assemble(VectorAssembler.scala:260)\n\tat org.apache.spark.ml.feature.VectorAssembler.$anonfun$transform$6(VectorAssembler.scala:143)\n\t... 31 more\n\nDriver stacktrace:\n\tat org.apache.spark.scheduler.DAGScheduler.failJobAndIndependentStages(DAGScheduler.scala:2672)\n\tat org.apache.spark.scheduler.DAGScheduler.$anonfun$abortStage$2(DAGScheduler.scala:2608)\n\tat org.apache.spark.scheduler.DAGScheduler.$anonfun$abortStage$2$adapted(DAGScheduler.scala:2607)\n\tat scala.collection.mutable.ResizableArray.foreach(ResizableArray.scala:62)\n\tat scala.collection.mutable.ResizableArray.foreach$(ResizableArray.scala:55)\n\tat scala.collection.mutable.ArrayBuffer.foreach(ArrayBuffer.scala:49)\n\tat org.apache.spark.scheduler.DAGScheduler.abortStage(DAGScheduler.scala:2607)\n\tat org.apache.spark.scheduler.DAGScheduler.$anonfun$handleTaskSetFailed$1(DAGScheduler.scala:1182)\n\tat org.apache.spark.scheduler.DAGScheduler.$anonfun$handleTaskSetFailed$1$adapted(DAGScheduler.scala:1182)\n\tat scala.Option.foreach(Option.scala:407)\n\tat org.apache.spark.scheduler.DAGScheduler.handleTaskSetFailed(DAGScheduler.scala:1182)\n\tat org.apache.spark.scheduler.DAGSchedulerEventProcessLoop.doOnReceive(DAGScheduler.scala:2860)\n\tat org.apache.spark.scheduler.DAGSchedulerEventProcessLoop.onReceive(DAGScheduler.scala:2802)\n\tat org.apache.spark.scheduler.DAGSchedulerEventProcessLoop.onReceive(DAGScheduler.scala:2791)\n\tat org.apache.spark.util.EventLoop$$anon$1.run(EventLoop.scala:49)\n\tat org.apache.spark.scheduler.DAGScheduler.runJob(DAGScheduler.scala:952)\n\tat org.apache.spark.SparkContext.runJob(SparkContext.scala:2238)\n\tat org.apache.spark.SparkContext.runJob(SparkContext.scala:2333)\n\tat org.apache.spark.rdd.RDD.$anonfun$fold$1(RDD.scala:1174)\n\tat org.apache.spark.rdd.RDDOperationScope$.withScope(RDDOperationScope.scala:151)\n\tat org.apache.spark.rdd.RDDOperationScope$.withScope(RDDOperationScope.scala:112)\n\tat org.apache.spark.rdd.RDD.withScope(RDD.scala:406)\n\tat org.apache.spark.rdd.RDD.fold(RDD.scala:1168)\n\tat org.apache.spark.rdd.RDD.$anonfun$treeAggregate$2(RDD.scala:1267)\n\tat org.apache.spark.rdd.RDDOperationScope$.withScope(RDDOperationScope.scala:151)\n\tat org.apache.spark.rdd.RDDOperationScope$.withScope(RDDOperationScope.scala:112)\n\tat org.apache.spark.rdd.RDD.withScope(RDD.scala:406)\n\tat org.apache.spark.rdd.RDD.treeAggregate(RDD.scala:1228)\n\tat org.apache.spark.rdd.RDD.$anonfun$treeAggregate$1(RDD.scala:1214)\n\tat org.apache.spark.rdd.RDDOperationScope$.withScope(RDDOperationScope.scala:151)\n\tat org.apache.spark.rdd.RDDOperationScope$.withScope(RDDOperationScope.scala:112)\n\tat org.apache.spark.rdd.RDD.withScope(RDD.scala:406)\n\tat org.apache.spark.rdd.RDD.treeAggregate(RDD.scala:1214)\n\tat org.apache.spark.mllib.stat.Statistics$.colStats(Statistics.scala:58)\n\tat org.apache.spark.mllib.linalg.distributed.RowMatrix.computeCovariance(RowMatrix.scala:456)\n\tat org.apache.spark.mllib.stat.correlation.PearsonCorrelation$.computeCorrelationMatrix(PearsonCorrelation.scala:49)\n\tat org.apache.spark.mllib.stat.correlation.Correlations$.corrMatrix(Correlation.scala:66)\n\tat org.apache.spark.mllib.stat.Statistics$.corr(Statistics.scala:90)\n\tat org.apache.spark.ml.stat.Correlation$.corr(Correlation.scala:71)\n\tat org.apache.spark.ml.stat.Correlation.corr(Correlation.scala)\n\tat sun.reflect.NativeMethodAccessorImpl.invoke0(Native Method)\n\tat sun.reflect.NativeMethodAccessorImpl.invoke(NativeMethodAccessorImpl.java:62)\n\tat sun.reflect.DelegatingMethodAccessorImpl.invoke(DelegatingMethodAccessorImpl.java:43)\n\tat java.lang.reflect.Method.invoke(Method.java:498)\n\tat py4j.reflection.MethodInvoker.invoke(MethodInvoker.java:244)\n\tat py4j.reflection.ReflectionEngine.invoke(ReflectionEngine.java:357)\n\tat py4j.Gateway.invoke(Gateway.java:282)\n\tat py4j.commands.AbstractCommand.invokeMethod(AbstractCommand.java:132)\n\tat py4j.commands.CallCommand.execute(CallCommand.java:79)\n\tat py4j.ClientServerConnection.waitForCommands(ClientServerConnection.java:182)\n\tat py4j.ClientServerConnection.run(ClientServerConnection.java:106)\n\tat java.lang.Thread.run(Thread.java:750)\nCaused by: org.apache.spark.SparkException: Failed to execute user defined function (VectorAssembler$$Lambda$3997/464638751: (struct<Survived_double_VectorAssembler_f802c6f96d02:double,Pclass_double_VectorAssembler_f802c6f96d02:double,sex:double,SibSp_double_VectorAssembler_f802c6f96d02:double,Parch_double_VectorAssembler_f802c6f96d02:double,Fare_double_VectorAssembler_f802c6f96d02:double,TicketNumber_double_VectorAssembler_f802c6f96d02:double,Embark:double,CabinAbrev:double,CabinNumbers_double_VectorAssembler_f802c6f96d02:double,CabinOnTicket_double_VectorAssembler_f802c6f96d02:double,NameAbrevVec:struct<type:tinyint,size:int,indices:array<int>,values:array<double>>>) => struct<type:tinyint,size:int,indices:array<int>,values:array<double>>)\n\tat org.apache.spark.sql.errors.QueryExecutionErrors$.failedExecuteUserDefinedFunctionError(QueryExecutionErrors.scala:190)\n\tat org.apache.spark.sql.errors.QueryExecutionErrors.failedExecuteUserDefinedFunctionError(QueryExecutionErrors.scala)\n\tat org.apache.spark.sql.catalyst.expressions.GeneratedClass$GeneratedIteratorForCodegenStage2.processNext(Unknown Source)\n\tat org.apache.spark.sql.execution.BufferedRowIterator.hasNext(BufferedRowIterator.java:43)\n\tat org.apache.spark.sql.execution.WholeStageCodegenExec$$anon$1.hasNext(WholeStageCodegenExec.scala:760)\n\tat scala.collection.Iterator$$anon$10.hasNext(Iterator.scala:460)\n\tat scala.collection.Iterator$$anon$10.hasNext(Iterator.scala:460)\n\tat scala.collection.Iterator$$anon$10.hasNext(Iterator.scala:460)\n\tat scala.collection.Iterator$$anon$10.hasNext(Iterator.scala:460)\n\tat scala.collection.Iterator.foreach(Iterator.scala:943)\n\tat scala.collection.Iterator.foreach$(Iterator.scala:943)\n\tat scala.collection.AbstractIterator.foreach(Iterator.scala:1431)\n\tat scala.collection.TraversableOnce.foldLeft(TraversableOnce.scala:199)\n\tat scala.collection.TraversableOnce.foldLeft$(TraversableOnce.scala:192)\n\tat scala.collection.AbstractIterator.foldLeft(Iterator.scala:1431)\n\tat scala.collection.TraversableOnce.aggregate(TraversableOnce.scala:260)\n\tat scala.collection.TraversableOnce.aggregate$(TraversableOnce.scala:260)\n\tat scala.collection.AbstractIterator.aggregate(Iterator.scala:1431)\n\tat org.apache.spark.rdd.RDD.$anonfun$treeAggregate$4(RDD.scala:1236)\n\tat org.apache.spark.rdd.RDD.$anonfun$treeAggregate$6(RDD.scala:1237)\n\tat org.apache.spark.rdd.RDD.$anonfun$mapPartitions$2(RDD.scala:855)\n\tat org.apache.spark.rdd.RDD.$anonfun$mapPartitions$2$adapted(RDD.scala:855)\n\tat org.apache.spark.rdd.MapPartitionsRDD.compute(MapPartitionsRDD.scala:52)\n\tat org.apache.spark.rdd.RDD.computeOrReadCheckpoint(RDD.scala:365)\n\tat org.apache.spark.rdd.RDD.iterator(RDD.scala:329)\n\tat org.apache.spark.scheduler.ResultTask.runTask(ResultTask.scala:90)\n\tat org.apache.spark.scheduler.Task.run(Task.scala:136)\n\tat org.apache.spark.executor.Executor$TaskRunner.$anonfun$run$3(Executor.scala:548)\n\tat org.apache.spark.util.Utils$.tryWithSafeFinally(Utils.scala:1504)\n\tat org.apache.spark.executor.Executor$TaskRunner.run(Executor.scala:551)\n\tat java.util.concurrent.ThreadPoolExecutor.runWorker(ThreadPoolExecutor.java:1149)\n\tat java.util.concurrent.ThreadPoolExecutor$Worker.run(ThreadPoolExecutor.java:624)\n\t... 1 more\nCaused by: org.apache.spark.SparkException: Encountered null while assembling a row with handleInvalid = \"error\". Consider\nremoving nulls from dataset or using handleInvalid = \"keep\" or \"skip\".\n\tat org.apache.spark.ml.feature.VectorAssembler$.$anonfun$assemble$1(VectorAssembler.scala:291)\n\tat org.apache.spark.ml.feature.VectorAssembler$.$anonfun$assemble$1$adapted(VectorAssembler.scala:260)\n\tat scala.collection.IndexedSeqOptimized.foreach(IndexedSeqOptimized.scala:36)\n\tat scala.collection.IndexedSeqOptimized.foreach$(IndexedSeqOptimized.scala:33)\n\tat scala.collection.mutable.WrappedArray.foreach(WrappedArray.scala:38)\n\tat org.apache.spark.ml.feature.VectorAssembler$.assemble(VectorAssembler.scala:260)\n\tat org.apache.spark.ml.feature.VectorAssembler.$anonfun$transform$6(VectorAssembler.scala:143)\n\t... 31 more\n"
          ]
        }
      ]
    },
    {
      "cell_type": "code",
      "source": [
        "print(corr_array)"
      ],
      "metadata": {
        "colab": {
          "base_uri": "https://localhost:8080/"
        },
        "id": "SK9gbfwxs5Mo",
        "outputId": "4587b0b7-a1a8-41ae-e3b1-5fb95524b164"
      },
      "execution_count": 130,
      "outputs": [
        {
          "output_type": "stream",
          "name": "stdout",
          "text": [
            "[[ 1.         -0.40678242  0.25632294  0.23574146]\n",
            " [-0.40678242  1.         -0.58403424 -0.49639167]\n",
            " [ 0.25632294 -0.58403424  1.         -0.21025157]\n",
            " [ 0.23574146 -0.49639167 -0.21025157  1.        ]]\n"
          ]
        }
      ]
    },
    {
      "cell_type": "code",
      "source": [],
      "metadata": {
        "id": "kKc8CIJ5xkuI"
      },
      "execution_count": 142,
      "outputs": []
    },
    {
      "cell_type": "code",
      "source": [
        "from pyspark.ml.regression import LinearRegression\n",
        "from pyspark.ml.feature import VectorAssembler\n",
        "from pyspark.sql.functions import isnan, when, count, col"
      ],
      "metadata": {
        "id": "Wy_OHTgHxp-U"
      },
      "execution_count": 199,
      "outputs": []
    },
    {
      "cell_type": "code",
      "source": [
        "df2.printSchema()"
      ],
      "metadata": {
        "colab": {
          "base_uri": "https://localhost:8080/"
        },
        "id": "asO3Xj7lrM_J",
        "outputId": "9290000a-9fc5-4177-fa22-3a8adea0e8cb"
      },
      "execution_count": 200,
      "outputs": [
        {
          "output_type": "stream",
          "name": "stdout",
          "text": [
            "root\n",
            " |-- PassengerId: integer (nullable = true)\n",
            " |-- Survived: integer (nullable = true)\n",
            " |-- Pclass: integer (nullable = true)\n",
            " |-- sex: double (nullable = false)\n",
            " |-- Age: integer (nullable = true)\n",
            " |-- SibSp: integer (nullable = true)\n",
            " |-- Parch: integer (nullable = true)\n",
            " |-- Fare: float (nullable = true)\n",
            " |-- TicketNumber: integer (nullable = true)\n",
            " |-- Embark: double (nullable = false)\n",
            " |-- CabinAbrev: double (nullable = false)\n",
            " |-- CabinNumbers: integer (nullable = true)\n",
            " |-- CabinOnTicket: integer (nullable = false)\n",
            " |-- NameAbrevVec: vector (nullable = true)\n",
            "\n"
          ]
        }
      ]
    },
    {
      "cell_type": "code",
      "source": [
        "df_age_not_null = df2.filter(col('Age').isNotNull())\n"
      ],
      "metadata": {
        "id": "WavvOfrszePG"
      },
      "execution_count": 217,
      "outputs": []
    },
    {
      "cell_type": "code",
      "source": [
        "df_age_not_null.show()"
      ],
      "metadata": {
        "colab": {
          "base_uri": "https://localhost:8080/"
        },
        "id": "p-nRKXH6zeL3",
        "outputId": "06f2cb03-f1e5-4d1e-b7cf-6d38f80e1a3b"
      },
      "execution_count": 218,
      "outputs": [
        {
          "output_type": "stream",
          "name": "stdout",
          "text": [
            "+-----------+--------+------+---+---+-----+-----+-------+------------+------+----------+------------+-------------+-------------+\n",
            "|PassengerId|Survived|Pclass|sex|Age|SibSp|Parch|   Fare|TicketNumber|Embark|CabinAbrev|CabinNumbers|CabinOnTicket| NameAbrevVec|\n",
            "+-----------+--------+------+---+---+-----+-----+-------+------------+------+----------+------------+-------------+-------------+\n",
            "|          1|       0|     3|0.0| 22|    1|    0|   7.25|       21171|   0.0|       0.0|           0|            0|(3,[0],[1.0])|\n",
            "|          2|       1|     1|1.0| 38|    1|    0|71.2833|       17599|   1.0|       1.0|          85|            1|(3,[2],[1.0])|\n",
            "|          3|       1|     3|1.0| 26|    0|    0|  7.925|     3101282|   0.0|       0.0|           0|            0|(3,[1],[1.0])|\n",
            "|          4|       1|     1|1.0| 35|    1|    0|   53.1|      113803|   0.0|       1.0|         123|            1|(3,[2],[1.0])|\n",
            "|          5|       0|     3|0.0| 35|    0|    0|   8.05|      373450|   0.0|       0.0|           0|            0|(3,[0],[1.0])|\n",
            "|          7|       0|     1|0.0| 54|    0|    0|51.8625|       17463|   0.0|       4.0|          46|            1|(3,[0],[1.0])|\n",
            "|          8|       0|     3|0.0|  2|    3|    1| 21.075|      349909|   0.0|       0.0|           0|            0|    (3,[],[])|\n",
            "|          9|       1|     3|1.0| 27|    0|    2|11.1333|      347742|   0.0|       0.0|           0|            0|(3,[2],[1.0])|\n",
            "|         10|       1|     2|1.0| 14|    1|    0|30.0708|      237736|   1.0|       0.0|           0|            0|(3,[2],[1.0])|\n",
            "|         11|       1|     3|1.0|  4|    1|    1|   16.7|        9549|   0.0|       7.0|           6|            1|(3,[1],[1.0])|\n",
            "|         12|       1|     1|1.0| 58|    0|    0|  26.55|      113783|   0.0|       1.0|         103|            1|(3,[1],[1.0])|\n",
            "|         13|       0|     3|0.0| 20|    0|    0|   8.05|        2151|   0.0|       0.0|           0|            0|(3,[0],[1.0])|\n",
            "|         14|       0|     3|0.0| 39|    1|    5| 31.275|      347082|   0.0|       0.0|           0|            0|(3,[0],[1.0])|\n",
            "|         15|       0|     3|1.0| 14|    0|    0| 7.8542|      350406|   0.0|       0.0|           0|            0|(3,[1],[1.0])|\n",
            "|         16|       1|     2|1.0| 55|    0|    0|   16.0|      248706|   0.0|       0.0|           0|            0|(3,[2],[1.0])|\n",
            "|         17|       0|     3|0.0|  2|    4|    1| 29.125|      382652|   2.0|       0.0|           0|            0|    (3,[],[])|\n",
            "|         19|       0|     3|1.0| 31|    1|    0|   18.0|      345763|   0.0|       0.0|           0|            0|(3,[2],[1.0])|\n",
            "|         21|       0|     2|0.0| 35|    0|    0|   26.0|      239865|   0.0|       0.0|           0|            0|(3,[0],[1.0])|\n",
            "|         22|       1|     2|0.0| 34|    0|    0|   13.0|      248698|   0.0|       3.0|          56|            1|(3,[0],[1.0])|\n",
            "|         23|       1|     3|1.0| 15|    0|    0| 8.0292|      330923|   2.0|       0.0|           0|            0|(3,[1],[1.0])|\n",
            "+-----------+--------+------+---+---+-----+-----+-------+------------+------+----------+------------+-------------+-------------+\n",
            "only showing top 20 rows\n",
            "\n"
          ]
        }
      ]
    },
    {
      "cell_type": "code",
      "source": [
        "(training_data, testing_data) = df_age_not_null.randomSplit([0.7, 0.3])\n",
        "lr = LinearRegression(featuresCol='features', labelCol='Age')\n"
      ],
      "metadata": {
        "id": "UQoIk7fHzeJk"
      },
      "execution_count": 234,
      "outputs": []
    },
    {
      "cell_type": "code",
      "source": [
        "training_data.show()"
      ],
      "metadata": {
        "colab": {
          "base_uri": "https://localhost:8080/"
        },
        "id": "gfFq4SMAwndA",
        "outputId": "e6766976-79cb-4e8e-b8cd-4a0b72f9ce94"
      },
      "execution_count": 228,
      "outputs": [
        {
          "output_type": "stream",
          "name": "stdout",
          "text": [
            "+-----------+--------+------+---+---+-----+-----+-------+------------+------+----------+------------+-------------+-------------+\n",
            "|PassengerId|Survived|Pclass|sex|Age|SibSp|Parch|   Fare|TicketNumber|Embark|CabinAbrev|CabinNumbers|CabinOnTicket| NameAbrevVec|\n",
            "+-----------+--------+------+---+---+-----+-----+-------+------------+------+----------+------------+-------------+-------------+\n",
            "|          1|       0|     3|0.0| 22|    1|    0|   7.25|       21171|   0.0|       0.0|           0|            0|(3,[0],[1.0])|\n",
            "|          5|       0|     3|0.0| 35|    0|    0|   8.05|      373450|   0.0|       0.0|           0|            0|(3,[0],[1.0])|\n",
            "|          7|       0|     1|0.0| 54|    0|    0|51.8625|       17463|   0.0|       4.0|          46|            1|(3,[0],[1.0])|\n",
            "|          8|       0|     3|0.0|  2|    3|    1| 21.075|      349909|   0.0|       0.0|           0|            0|    (3,[],[])|\n",
            "|          9|       1|     3|1.0| 27|    0|    2|11.1333|      347742|   0.0|       0.0|           0|            0|(3,[2],[1.0])|\n",
            "|         10|       1|     2|1.0| 14|    1|    0|30.0708|      237736|   1.0|       0.0|           0|            0|(3,[2],[1.0])|\n",
            "|         11|       1|     3|1.0|  4|    1|    1|   16.7|        9549|   0.0|       7.0|           6|            1|(3,[1],[1.0])|\n",
            "|         17|       0|     3|0.0|  2|    4|    1| 29.125|      382652|   2.0|       0.0|           0|            0|    (3,[],[])|\n",
            "|         21|       0|     2|0.0| 35|    0|    0|   26.0|      239865|   0.0|       0.0|           0|            0|(3,[0],[1.0])|\n",
            "|         23|       1|     3|1.0| 15|    0|    0| 8.0292|      330923|   2.0|       0.0|           0|            0|(3,[1],[1.0])|\n",
            "|         25|       0|     3|1.0|  8|    3|    1| 21.075|      349909|   0.0|       0.0|           0|            0|(3,[1],[1.0])|\n",
            "|         26|       1|     3|1.0| 38|    1|    5|31.3875|      347077|   0.0|       0.0|           0|            0|(3,[2],[1.0])|\n",
            "|         28|       0|     1|0.0| 19|    3|    2|  263.0|       19950|   0.0|       1.0|      232527|            1|(3,[0],[1.0])|\n",
            "|         34|       0|     2|0.0| 66|    0|    0|   10.5|       24579|   0.0|       0.0|           0|            0|(3,[0],[1.0])|\n",
            "|         35|       0|     1|0.0| 28|    1|    0|82.1708|       17604|   1.0|       0.0|           0|            0|(3,[0],[1.0])|\n",
            "|         38|       0|     3|0.0| 21|    0|    0|   8.05|        2152|   0.0|       0.0|           0|            0|(3,[0],[1.0])|\n",
            "|         39|       0|     3|1.0| 18|    2|    0|   18.0|      345764|   0.0|       0.0|           0|            0|(3,[1],[1.0])|\n",
            "|         41|       0|     3|1.0| 40|    1|    0|  9.475|        7546|   0.0|       0.0|           0|            0|(3,[2],[1.0])|\n",
            "|         42|       0|     2|1.0| 27|    1|    0|   21.0|       11668|   0.0|       0.0|           0|            0|(3,[2],[1.0])|\n",
            "|         44|       1|     2|1.0|  3|    1|    2|41.5792|        2123|   1.0|       0.0|           0|            0|(3,[1],[1.0])|\n",
            "+-----------+--------+------+---+---+-----+-----+-------+------------+------+----------+------------+-------------+-------------+\n",
            "only showing top 20 rows\n",
            "\n"
          ]
        }
      ]
    },
    {
      "cell_type": "code",
      "source": [
        "df.show()"
      ],
      "metadata": {
        "colab": {
          "base_uri": "https://localhost:8080/"
        },
        "id": "Nbd2xWQlvFTt",
        "outputId": "ec1f0292-dc4c-4c9e-b878-13193beb11aa"
      },
      "execution_count": 182,
      "outputs": [
        {
          "output_type": "stream",
          "name": "stdout",
          "text": [
            "+-----------+--------+------+---+----+-----+-----+-------+---------+------------+------+----------+------------+-------------+\n",
            "|PassengerId|Survived|Pclass|sex| Age|SibSp|Parch|   Fare|traintest|TicketNumber|Embark|CabinAbrev|CabinNumbers|CabinOnTicket|\n",
            "+-----------+--------+------+---+----+-----+-----+-------+---------+------------+------+----------+------------+-------------+\n",
            "|          1|       0|     3|0.0|  22|    1|    0|   7.25|    train|       21171|   0.0|       0.0|           0|            0|\n",
            "|          2|       1|     1|1.0|  38|    1|    0|71.2833|    train|       17599|   1.0|       1.0|          85|            1|\n",
            "|          3|       1|     3|1.0|  26|    0|    0|  7.925|    train|     3101282|   0.0|       0.0|           0|            0|\n",
            "|          4|       1|     1|1.0|  35|    1|    0|   53.1|    train|      113803|   0.0|       1.0|         123|            1|\n",
            "|          5|       0|     3|0.0|  35|    0|    0|   8.05|    train|      373450|   0.0|       0.0|           0|            0|\n",
            "|          6|       0|     3|0.0|null|    0|    0| 8.4583|    train|      330877|   2.0|       0.0|           0|            0|\n",
            "|          7|       0|     1|0.0|  54|    0|    0|51.8625|    train|       17463|   0.0|       4.0|          46|            1|\n",
            "|          8|       0|     3|0.0|   2|    3|    1| 21.075|    train|      349909|   0.0|       0.0|           0|            0|\n",
            "|          9|       1|     3|1.0|  27|    0|    2|11.1333|    train|      347742|   0.0|       0.0|           0|            0|\n",
            "|         10|       1|     2|1.0|  14|    1|    0|30.0708|    train|      237736|   1.0|       0.0|           0|            0|\n",
            "|         11|       1|     3|1.0|   4|    1|    1|   16.7|    train|        9549|   0.0|       7.0|           6|            1|\n",
            "|         12|       1|     1|1.0|  58|    0|    0|  26.55|    train|      113783|   0.0|       1.0|         103|            1|\n",
            "|         13|       0|     3|0.0|  20|    0|    0|   8.05|    train|        2151|   0.0|       0.0|           0|            0|\n",
            "|         14|       0|     3|0.0|  39|    1|    5| 31.275|    train|      347082|   0.0|       0.0|           0|            0|\n",
            "|         15|       0|     3|1.0|  14|    0|    0| 7.8542|    train|      350406|   0.0|       0.0|           0|            0|\n",
            "|         16|       1|     2|1.0|  55|    0|    0|     16|    train|      248706|   0.0|       0.0|           0|            0|\n",
            "|         17|       0|     3|0.0|   2|    4|    1| 29.125|    train|      382652|   2.0|       0.0|           0|            0|\n",
            "|         18|       1|     2|0.0|null|    0|    0|     13|    train|      244373|   0.0|       0.0|           0|            0|\n",
            "|         19|       0|     3|1.0|  31|    1|    0|     18|    train|      345763|   0.0|       0.0|           0|            0|\n",
            "|         20|       1|     3|1.0|null|    0|    0|  7.225|    train|        2649|   1.0|       0.0|           0|            0|\n",
            "+-----------+--------+------+---+----+-----+-----+-------+---------+------------+------+----------+------------+-------------+\n",
            "only showing top 20 rows\n",
            "\n"
          ]
        }
      ]
    },
    {
      "cell_type": "code",
      "source": [
        "df.select([count(when(isnan(c) | col(c).isNull(), c)).alias(c) for c in df_age_not_null.columns]\n",
        "   ).show()"
      ],
      "metadata": {
        "colab": {
          "base_uri": "https://localhost:8080/"
        },
        "id": "Oe2zYc4rscIG",
        "outputId": "22c609d7-f5c1-4d9f-9e8e-c6cbbb5a07f0"
      },
      "execution_count": 157,
      "outputs": [
        {
          "output_type": "stream",
          "name": "stdout",
          "text": [
            "+-----------+--------+------+---+---+-----+-----+----+------------+------+----------+------------+-------------+\n",
            "|PassengerId|Survived|Pclass|sex|Age|SibSp|Parch|Fare|TicketNumber|Embark|CabinAbrev|CabinNumbers|CabinOnTicket|\n",
            "+-----------+--------+------+---+---+-----+-----+----+------------+------+----------+------------+-------------+\n",
            "|          0|       0|     0|  0|263|    0|    0|   0|           0|     0|         0|           0|            0|\n",
            "+-----------+--------+------+---+---+-----+-----+----+------------+------+----------+------------+-------------+\n",
            "\n"
          ]
        }
      ]
    },
    {
      "cell_type": "code",
      "source": [
        "cols_list"
      ],
      "metadata": {
        "colab": {
          "base_uri": "https://localhost:8080/"
        },
        "id": "iBXBdvDYsAwk",
        "outputId": "227db9a6-acdb-4bb3-e00f-c4aa9f3f38b5"
      },
      "execution_count": 204,
      "outputs": [
        {
          "output_type": "execute_result",
          "data": {
            "text/plain": [
              "['Survived',\n",
              " 'Pclass',\n",
              " 'sex',\n",
              " 'SibSp',\n",
              " 'Parch',\n",
              " 'Fare',\n",
              " 'TicketNumber',\n",
              " 'Embark',\n",
              " 'CabinAbrev',\n",
              " 'CabinNumbers',\n",
              " 'CabinOnTicket',\n",
              " 'NameAbrevVec']"
            ]
          },
          "metadata": {},
          "execution_count": 204
        }
      ]
    },
    {
      "cell_type": "code",
      "source": [
        "assembler = VectorAssembler(inputCols=['SibSp', 'Parch', 'Fare', 'Pclass','Survived','NameAbrevVec','Embark','CabinAbrev','CabinOnTicket','sex'], outputCol='features')\n",
        "transformed_data = assembler.transform(training_data)\n",
        "lr_model = lr.fit(transformed_data)"
      ],
      "metadata": {
        "id": "g3U7cCrazeHF"
      },
      "execution_count": 244,
      "outputs": []
    },
    {
      "cell_type": "code",
      "source": [],
      "metadata": {
        "id": "yVz8Qpogxbze"
      },
      "execution_count": null,
      "outputs": []
    },
    {
      "cell_type": "code",
      "source": [
        "testing_data = assembler.transform(testing_data)\n",
        "predictions = lr_model.transform(testing_data)"
      ],
      "metadata": {
        "id": "NVZnSF1izeEp"
      },
      "execution_count": 245,
      "outputs": []
    },
    {
      "cell_type": "code",
      "source": [
        "testing_data.show()"
      ],
      "metadata": {
        "colab": {
          "base_uri": "https://localhost:8080/"
        },
        "id": "IyDhnfictL-J",
        "outputId": "a8d42e0c-0782-4d97-d656-ecb4e9cd7897"
      },
      "execution_count": 180,
      "outputs": [
        {
          "output_type": "stream",
          "name": "stdout",
          "text": [
            "+-----------+--------+------+---+---+-----+-----+-------+------------+------+----------+------------+-------------+--------------------+\n",
            "|PassengerId|Survived|Pclass|sex|Age|SibSp|Parch|   Fare|TicketNumber|Embark|CabinAbrev|CabinNumbers|CabinOnTicket|            features|\n",
            "+-----------+--------+------+---+---+-----+-----+-------+------------+------+----------+------------+-------------+--------------------+\n",
            "|          5|       0|     3|0.0| 35|    0|    0|   8.05|      373450|   0.0|       0.0|           0|            0|[0.0,0.0,8.050000...|\n",
            "|         13|       0|     3|0.0| 20|    0|    0|   8.05|        2151|   0.0|       0.0|           0|            0|[0.0,0.0,8.050000...|\n",
            "|         14|       0|     3|0.0| 39|    1|    5| 31.275|      347082|   0.0|       0.0|           0|            0|[1.0,5.0,31.27499...|\n",
            "|         17|       0|     3|0.0|  2|    4|    1| 29.125|      382652|   2.0|       0.0|           0|            0|[4.0,1.0,29.125,3.0]|\n",
            "|         21|       0|     2|0.0| 35|    0|    0|   26.0|      239865|   0.0|       0.0|           0|            0|  [0.0,0.0,26.0,2.0]|\n",
            "|         24|       1|     1|0.0| 28|    0|    0|   35.5|      113788|   0.0|       5.0|           6|            1|  [0.0,0.0,35.5,1.0]|\n",
            "|         25|       0|     3|1.0|  8|    3|    1| 21.075|      349909|   0.0|       0.0|           0|            0|[3.0,1.0,21.07500...|\n",
            "|         38|       0|     3|0.0| 21|    0|    0|   8.05|        2152|   0.0|       0.0|           0|            0|[0.0,0.0,8.050000...|\n",
            "|         41|       0|     3|1.0| 40|    1|    0|  9.475|        7546|   0.0|       0.0|           0|            0|[1.0,0.0,9.475000...|\n",
            "|         44|       1|     2|1.0|  3|    1|    2|41.5792|        2123|   1.0|       0.0|           0|            0|[1.0,2.0,41.57920...|\n",
            "|         52|       0|     3|0.0| 21|    0|    0|    7.8|       39886|   0.0|       0.0|           0|            0|[0.0,0.0,7.800000...|\n",
            "|         55|       0|     1|0.0| 65|    0|    1|61.9792|      113509|   1.0|       2.0|          30|            1|[0.0,1.0,61.97919...|\n",
            "|         61|       0|     3|0.0| 22|    0|    0| 7.2292|        2669|   1.0|       0.0|           0|            0|[0.0,0.0,7.229199...|\n",
            "|         64|       0|     3|0.0|  4|    3|    2|   27.9|      347088|   0.0|       0.0|           0|            0|[3.0,2.0,27.89999...|\n",
            "|         68|       0|     3|0.0| 19|    0|    0| 8.1583|        3464|   0.0|       0.0|           0|            0|[0.0,0.0,8.158300...|\n",
            "|         69|       1|     3|1.0| 17|    4|    2|  7.925|     3101281|   0.0|       0.0|           0|            0|[4.0,2.0,7.925000...|\n",
            "|         71|       0|     2|0.0| 32|    0|    0|   10.5|       33111|   0.0|       0.0|           0|            0|  [0.0,0.0,10.5,2.0]|\n",
            "|         74|       0|     3|0.0| 26|    1|    0|14.4542|        2680|   1.0|       0.0|           0|            0|[1.0,0.0,14.45419...|\n",
            "|         76|       0|     3|0.0| 25|    0|    0|   7.65|      348123|   0.0|       6.0|          73|            1|[0.0,0.0,7.650000...|\n",
            "|         81|       0|     3|0.0| 22|    0|    0|    9.0|      345767|   0.0|       0.0|           0|            0|   [0.0,0.0,9.0,3.0]|\n",
            "+-----------+--------+------+---+---+-----+-----+-------+------------+------+----------+------------+-------------+--------------------+\n",
            "only showing top 20 rows\n",
            "\n"
          ]
        }
      ]
    },
    {
      "cell_type": "code",
      "source": [
        "predictions.show()"
      ],
      "metadata": {
        "id": "10xXSqIS10tW",
        "colab": {
          "base_uri": "https://localhost:8080/"
        },
        "outputId": "ed2606f3-acb1-4c77-d363-c9d54503000d"
      },
      "execution_count": 246,
      "outputs": [
        {
          "output_type": "stream",
          "name": "stdout",
          "text": [
            "+-----------+--------+------+---+---+-----+-----+-------+------------+------+----------+------------+-------------+-------------+--------------------+------------------+\n",
            "|PassengerId|Survived|Pclass|sex|Age|SibSp|Parch|   Fare|TicketNumber|Embark|CabinAbrev|CabinNumbers|CabinOnTicket| NameAbrevVec|            features|        prediction|\n",
            "+-----------+--------+------+---+---+-----+-----+-------+------------+------+----------+------------+-------------+-------------+--------------------+------------------+\n",
            "|          8|       0|     3|0.0|  2|    3|    1| 21.075|      349909|   0.0|       0.0|           0|            0|    (3,[],[])|(12,[0,1,2,3],[3....| 7.566054662755569|\n",
            "|         15|       0|     3|1.0| 14|    0|    0| 7.8542|      350406|   0.0|       0.0|           0|            0|(3,[1],[1.0])|(12,[2,3,6,11],[7...| 19.13383631966177|\n",
            "|         21|       0|     2|0.0| 35|    0|    0|   26.0|      239865|   0.0|       0.0|           0|            0|(3,[0],[1.0])|(12,[2,3,5],[26.0...| 34.93014431322415|\n",
            "|         23|       1|     3|1.0| 15|    0|    0| 8.0292|      330923|   2.0|       0.0|           0|            0|(3,[1],[1.0])|(12,[2,3,4,6,8,11...| 18.16515854024571|\n",
            "|         31|       0|     1|0.0| 40|    0|    0|27.7208|       17601|   1.0|       0.0|           0|            0|    (3,[],[])|(12,[2,3,8],[27.7...| 29.13152938494383|\n",
            "|         38|       0|     3|0.0| 21|    0|    0|   8.05|        2152|   0.0|       0.0|           0|            0|(3,[0],[1.0])|(12,[2,3,5],[8.05...|28.452618687506032|\n",
            "|         39|       0|     3|1.0| 18|    2|    0|   18.0|      345764|   0.0|       0.0|           0|            0|(3,[1],[1.0])|(12,[0,2,3,6,11],...|14.673144527560112|\n",
            "|         44|       1|     2|1.0|  3|    1|    2|41.5792|        2123|   1.0|       0.0|           0|            0|(3,[1],[1.0])|[1.0,2.0,41.57920...| 19.38828228868286|\n",
            "|         45|       1|     3|1.0| 19|    0|    0| 7.8792|      330958|   2.0|       0.0|           0|            0|(3,[1],[1.0])|(12,[2,3,4,6,8,11...|18.164261842483157|\n",
            "|         53|       1|     1|1.0| 49|    1|    0|76.7292|       17572|   1.0|       3.0|          33|            1|(3,[2],[1.0])|[1.0,0.0,76.72920...| 41.83881364192437|\n",
            "|         55|       0|     1|0.0| 65|    0|    1|61.9792|      113509|   1.0|       2.0|          30|            1|(3,[0],[1.0])|[0.0,1.0,61.97919...| 41.31384348840684|\n",
            "|         58|       0|     3|0.0| 28|    0|    0| 7.2292|        2697|   1.0|       0.0|           0|            0|(3,[0],[1.0])|(12,[2,3,5,8],[7....| 29.36730495634739|\n",
            "|         59|       1|     2|1.0|  5|    1|    2|  27.75|       34651|   0.0|       0.0|           0|            0|(3,[1],[1.0])|[1.0,2.0,27.75,2....|18.386018309372815|\n",
            "|         74|       0|     3|0.0| 26|    1|    0|14.4542|        2680|   1.0|       0.0|           0|            0|(3,[0],[1.0])|(12,[0,2,3,5,8],[...|27.149824313803286|\n",
            "|         82|       1|     3|0.0| 29|    0|    0|    9.5|      345779|   0.0|       0.0|           0|            0|(3,[0],[1.0])|(12,[2,3,4,5],[9....|25.652376832432772|\n",
            "|         86|       1|     3|1.0| 33|    3|    0|  15.85|     3101278|   0.0|       0.0|           0|            0|(3,[2],[1.0])|(12,[0,2,3,4,7,11...| 23.88401896321391|\n",
            "|         87|       0|     3|0.0| 16|    1|    3| 34.375|        6608|   0.0|       0.0|           0|            0|(3,[0],[1.0])|(12,[0,1,2,3,5],[...|23.098226876276733|\n",
            "|         97|       0|     1|0.0| 71|    0|    0|34.6542|       17754|   1.0|       5.0|           5|            1|(3,[0],[1.0])|(12,[2,3,5,8,9,10...|40.575138764627624|\n",
            "|         98|       1|     1|0.0| 23|    0|    1|63.3583|       17759|   1.0|       3.0|        1012|            1|(3,[0],[1.0])|[0.0,1.0,63.35829...| 37.96016017390346|\n",
            "|         99|       1|     2|1.0| 34|    0|    1|   23.0|      231919|   0.0|       0.0|           0|            0|(3,[2],[1.0])|(12,[1,2,3,4,7,11...| 35.99530027563382|\n",
            "+-----------+--------+------+---+---+-----+-----+-------+------------+------+----------+------------+-------------+-------------+--------------------+------------------+\n",
            "only showing top 20 rows\n",
            "\n"
          ]
        }
      ]
    },
    {
      "cell_type": "code",
      "source": [
        "from pyspark.ml.evaluation import RegressionEvaluator\n",
        "\n",
        "evaluator = RegressionEvaluator(labelCol='Age', predictionCol='prediction', metricName='mse')\n",
        "mse = evaluator.evaluate(predictions)\n",
        "\n",
        "print(f\"Mean Squared Error (MSE): {mse:.2f}\")\n"
      ],
      "metadata": {
        "id": "7Tb5E6eA3If3",
        "colab": {
          "base_uri": "https://localhost:8080/"
        },
        "outputId": "c77085be-0428-4512-8b2a-1f7209e5d4c1"
      },
      "execution_count": 247,
      "outputs": [
        {
          "output_type": "stream",
          "name": "stdout",
          "text": [
            "Mean Squared Error (MSE): 154.21\n"
          ]
        }
      ]
    },
    {
      "cell_type": "code",
      "source": [
        "from pyspark.sql.functions import variance\n",
        "\n",
        "variance_age = training_data.select(variance('Age')).collect()[0][0]\n",
        "print(f\"Variance of Age column: {variance_age:.2f}\")\n"
      ],
      "metadata": {
        "colab": {
          "base_uri": "https://localhost:8080/"
        },
        "id": "BAh2yOSKyTJ-",
        "outputId": "f50e1b09-eed2-425f-e57d-53d0892fe005"
      },
      "execution_count": 248,
      "outputs": [
        {
          "output_type": "stream",
          "name": "stdout",
          "text": [
            "Variance of Age column: 203.20\n"
          ]
        }
      ]
    },
    {
      "cell_type": "code",
      "source": [
        "from pyspark.ml.evaluation import RegressionEvaluator\n",
        "from pyspark.sql.functions import abs, col"
      ],
      "metadata": {
        "id": "WS1I92bZzoNO"
      },
      "execution_count": 252,
      "outputs": []
    },
    {
      "cell_type": "code",
      "source": [
        "# Calculate RMSE\n",
        "evaluator = RegressionEvaluator(labelCol='Age', predictionCol='prediction', metricName='rmse')\n",
        "rmse = evaluator.evaluate(predictions)\n",
        "\n",
        "# Calculate MAE\n",
        "mae = predictions.select(abs(col('Age') - col('prediction')).alias('abs_error')).agg({'abs_error': 'mean'}).collect()[0][0]\n",
        "\n",
        "# Calculate R2\n",
        "evaluator = RegressionEvaluator(labelCol='Age', predictionCol='prediction', metricName='r2')\n",
        "r2 = evaluator.evaluate(predictions)\n",
        "\n",
        "# Print the metrics\n",
        "print(f\"Root Mean Squared Error (RMSE): {rmse:.2f}\")\n",
        "print(f\"Mean Absolute Error (MAE): {mae:.2f}\")\n",
        "print(f\"R-Squared (R2): {r2:.2f}\")\n",
        "\n",
        "# Compare the metrics\n",
        "print(f\"RMSE is {rmse/variance_age:.2%} of the variance of Age column\")\n",
        "print(f\"MAE is {mae/variance_age:.2%} of the variance of Age column\")"
      ],
      "metadata": {
        "colab": {
          "base_uri": "https://localhost:8080/"
        },
        "id": "oTwZcQnTyoiY",
        "outputId": "46089730-75a4-4e17-9fe0-137c61c6c64a"
      },
      "execution_count": 253,
      "outputs": [
        {
          "output_type": "stream",
          "name": "stdout",
          "text": [
            "Root Mean Squared Error (RMSE): 12.42\n",
            "Mean Absolute Error (MAE): 9.66\n",
            "R-Squared (R2): 0.28\n",
            "RMSE is 6.11% of the variance of Age column\n",
            "MAE is 4.75% of the variance of Age column\n"
          ]
        }
      ]
    },
    {
      "cell_type": "code",
      "source": [],
      "metadata": {
        "id": "VPzclfzfyoe6"
      },
      "execution_count": null,
      "outputs": []
    },
    {
      "cell_type": "code",
      "source": [],
      "metadata": {
        "id": "kk-tePDwyocS"
      },
      "execution_count": null,
      "outputs": []
    },
    {
      "cell_type": "code",
      "source": [],
      "metadata": {
        "id": "DslwcqCpyoZo"
      },
      "execution_count": null,
      "outputs": []
    },
    {
      "cell_type": "code",
      "source": [
        "df_age_null = df.filter(col('Age').isNull())"
      ],
      "metadata": {
        "id": "CZMV7fEa10qA"
      },
      "execution_count": 165,
      "outputs": []
    },
    {
      "cell_type": "code",
      "source": [
        "df_age_null.show()"
      ],
      "metadata": {
        "id": "YZyp7XiU3PB4",
        "colab": {
          "base_uri": "https://localhost:8080/"
        },
        "outputId": "c9602127-33e2-4ae0-808c-e33b0b2d7896"
      },
      "execution_count": 166,
      "outputs": [
        {
          "output_type": "stream",
          "name": "stdout",
          "text": [
            "+-----------+--------+------+---+----+-----+-----+--------+---------+------------+------+----------+------------+-------------+\n",
            "|PassengerId|Survived|Pclass|sex| Age|SibSp|Parch|    Fare|traintest|TicketNumber|Embark|CabinAbrev|CabinNumbers|CabinOnTicket|\n",
            "+-----------+--------+------+---+----+-----+-----+--------+---------+------------+------+----------+------------+-------------+\n",
            "|          6|       0|     3|0.0|null|    0|    0|  8.4583|    train|      330877|   2.0|       0.0|           0|            0|\n",
            "|         18|       1|     2|0.0|null|    0|    0|      13|    train|      244373|   0.0|       0.0|           0|            0|\n",
            "|         20|       1|     3|1.0|null|    0|    0|   7.225|    train|        2649|   1.0|       0.0|           0|            0|\n",
            "|         27|       0|     3|0.0|null|    0|    0|   7.225|    train|        2631|   1.0|       0.0|           0|            0|\n",
            "|         29|       1|     3|1.0|null|    0|    0|  7.8792|    train|      330959|   2.0|       0.0|           0|            0|\n",
            "|         30|       0|     3|0.0|null|    0|    0|  7.8958|    train|      349216|   0.0|       0.0|           0|            0|\n",
            "|         32|       1|     1|1.0|null|    1|    0|146.5208|    train|       17569|   1.0|       2.0|          78|            1|\n",
            "|         33|       1|     3|1.0|null|    0|    0|    7.75|    train|      335677|   2.0|       0.0|           0|            0|\n",
            "|         37|       1|     3|0.0|null|    0|    0|  7.2292|    train|        2677|   1.0|       0.0|           0|            0|\n",
            "|         43|       0|     3|0.0|null|    0|    0|  7.8958|    train|      349253|   1.0|       0.0|           0|            0|\n",
            "|         46|       0|     3|0.0|null|    0|    0|    8.05|    train|       23567|   0.0|       0.0|           0|            0|\n",
            "|         47|       0|     3|0.0|null|    1|    0|    15.5|    train|      370371|   2.0|       0.0|           0|            0|\n",
            "|         48|       1|     3|1.0|null|    0|    0|    7.75|    train|       14311|   2.0|       0.0|           0|            0|\n",
            "|         49|       0|     3|0.0|null|    2|    0| 21.6792|    train|        2662|   1.0|       0.0|           0|            0|\n",
            "|         56|       1|     1|0.0|null|    0|    0|    35.5|    train|       19947|   0.0|       1.0|          52|            1|\n",
            "|         65|       0|     1|0.0|null|    0|    0| 27.7208|    train|       17605|   1.0|       0.0|           0|            0|\n",
            "|         66|       1|     3|0.0|null|    1|    1| 15.2458|    train|        2661|   1.0|       0.0|           0|            0|\n",
            "|         77|       0|     3|0.0|null|    0|    0|  7.8958|    train|      349208|   0.0|       0.0|           0|            0|\n",
            "|         78|       0|     3|0.0|null|    0|    0|    8.05|    train|      374746|   0.0|       0.0|           0|            0|\n",
            "|         83|       1|     3|1.0|null|    0|    0|  7.7875|    train|      330932|   2.0|       0.0|           0|            0|\n",
            "+-----------+--------+------+---+----+-----+-----+--------+---------+------------+------+----------+------------+-------------+\n",
            "only showing top 20 rows\n",
            "\n"
          ]
        }
      ]
    },
    {
      "cell_type": "code",
      "source": [
        "df2 = df2.withColumn('Age', when(col('Age').isNull(), predictions['prediction']).otherwise(col('Age')))"
      ],
      "metadata": {
        "id": "dPwVZGfB10nl",
        "colab": {
          "base_uri": "https://localhost:8080/",
          "height": 1000
        },
        "outputId": "307f6035-1620-4879-b939-ebf315da6cb5"
      },
      "execution_count": 168,
      "outputs": [
        {
          "output_type": "error",
          "ename": "AnalysisException",
          "evalue": "ignored",
          "traceback": [
            "\u001b[0;31m---------------------------------------------------------------------------\u001b[0m",
            "\u001b[0;31mAnalysisException\u001b[0m                         Traceback (most recent call last)",
            "\u001b[0;32m<ipython-input-168-9b953e92f6cb>\u001b[0m in \u001b[0;36m<module>\u001b[0;34m\u001b[0m\n\u001b[0;32m----> 1\u001b[0;31m \u001b[0mdf2\u001b[0m \u001b[0;34m=\u001b[0m \u001b[0mdf2\u001b[0m\u001b[0;34m.\u001b[0m\u001b[0mwithColumn\u001b[0m\u001b[0;34m(\u001b[0m\u001b[0;34m'Age'\u001b[0m\u001b[0;34m,\u001b[0m \u001b[0mwhen\u001b[0m\u001b[0;34m(\u001b[0m\u001b[0mcol\u001b[0m\u001b[0;34m(\u001b[0m\u001b[0;34m'Age'\u001b[0m\u001b[0;34m)\u001b[0m\u001b[0;34m.\u001b[0m\u001b[0misNull\u001b[0m\u001b[0;34m(\u001b[0m\u001b[0;34m)\u001b[0m\u001b[0;34m,\u001b[0m \u001b[0mpredictions\u001b[0m\u001b[0;34m[\u001b[0m\u001b[0;34m'prediction'\u001b[0m\u001b[0;34m]\u001b[0m\u001b[0;34m)\u001b[0m\u001b[0;34m.\u001b[0m\u001b[0motherwise\u001b[0m\u001b[0;34m(\u001b[0m\u001b[0mcol\u001b[0m\u001b[0;34m(\u001b[0m\u001b[0;34m'Age'\u001b[0m\u001b[0;34m)\u001b[0m\u001b[0;34m)\u001b[0m\u001b[0;34m)\u001b[0m\u001b[0;34m\u001b[0m\u001b[0;34m\u001b[0m\u001b[0m\n\u001b[0m",
            "\u001b[0;32m/usr/local/lib/python3.8/dist-packages/pyspark/sql/dataframe.py\u001b[0m in \u001b[0;36mwithColumn\u001b[0;34m(self, colName, col)\u001b[0m\n\u001b[1;32m   3034\u001b[0m         \u001b[0;32mif\u001b[0m \u001b[0;32mnot\u001b[0m \u001b[0misinstance\u001b[0m\u001b[0;34m(\u001b[0m\u001b[0mcol\u001b[0m\u001b[0;34m,\u001b[0m \u001b[0mColumn\u001b[0m\u001b[0;34m)\u001b[0m\u001b[0;34m:\u001b[0m\u001b[0;34m\u001b[0m\u001b[0;34m\u001b[0m\u001b[0m\n\u001b[1;32m   3035\u001b[0m             \u001b[0;32mraise\u001b[0m \u001b[0mTypeError\u001b[0m\u001b[0;34m(\u001b[0m\u001b[0;34m\"col should be Column\"\u001b[0m\u001b[0;34m)\u001b[0m\u001b[0;34m\u001b[0m\u001b[0;34m\u001b[0m\u001b[0m\n\u001b[0;32m-> 3036\u001b[0;31m         \u001b[0;32mreturn\u001b[0m \u001b[0mDataFrame\u001b[0m\u001b[0;34m(\u001b[0m\u001b[0mself\u001b[0m\u001b[0;34m.\u001b[0m\u001b[0m_jdf\u001b[0m\u001b[0;34m.\u001b[0m\u001b[0mwithColumn\u001b[0m\u001b[0;34m(\u001b[0m\u001b[0mcolName\u001b[0m\u001b[0;34m,\u001b[0m \u001b[0mcol\u001b[0m\u001b[0;34m.\u001b[0m\u001b[0m_jc\u001b[0m\u001b[0;34m)\u001b[0m\u001b[0;34m,\u001b[0m \u001b[0mself\u001b[0m\u001b[0;34m.\u001b[0m\u001b[0msparkSession\u001b[0m\u001b[0;34m)\u001b[0m\u001b[0;34m\u001b[0m\u001b[0;34m\u001b[0m\u001b[0m\n\u001b[0m\u001b[1;32m   3037\u001b[0m \u001b[0;34m\u001b[0m\u001b[0m\n\u001b[1;32m   3038\u001b[0m     \u001b[0;32mdef\u001b[0m \u001b[0mwithColumnRenamed\u001b[0m\u001b[0;34m(\u001b[0m\u001b[0mself\u001b[0m\u001b[0;34m,\u001b[0m \u001b[0mexisting\u001b[0m\u001b[0;34m:\u001b[0m \u001b[0mstr\u001b[0m\u001b[0;34m,\u001b[0m \u001b[0mnew\u001b[0m\u001b[0;34m:\u001b[0m \u001b[0mstr\u001b[0m\u001b[0;34m)\u001b[0m \u001b[0;34m->\u001b[0m \u001b[0;34m\"DataFrame\"\u001b[0m\u001b[0;34m:\u001b[0m\u001b[0;34m\u001b[0m\u001b[0;34m\u001b[0m\u001b[0m\n",
            "\u001b[0;32m/usr/local/lib/python3.8/dist-packages/py4j/java_gateway.py\u001b[0m in \u001b[0;36m__call__\u001b[0;34m(self, *args)\u001b[0m\n\u001b[1;32m   1319\u001b[0m \u001b[0;34m\u001b[0m\u001b[0m\n\u001b[1;32m   1320\u001b[0m         \u001b[0manswer\u001b[0m \u001b[0;34m=\u001b[0m \u001b[0mself\u001b[0m\u001b[0;34m.\u001b[0m\u001b[0mgateway_client\u001b[0m\u001b[0;34m.\u001b[0m\u001b[0msend_command\u001b[0m\u001b[0;34m(\u001b[0m\u001b[0mcommand\u001b[0m\u001b[0;34m)\u001b[0m\u001b[0;34m\u001b[0m\u001b[0;34m\u001b[0m\u001b[0m\n\u001b[0;32m-> 1321\u001b[0;31m         return_value = get_return_value(\n\u001b[0m\u001b[1;32m   1322\u001b[0m             answer, self.gateway_client, self.target_id, self.name)\n\u001b[1;32m   1323\u001b[0m \u001b[0;34m\u001b[0m\u001b[0m\n",
            "\u001b[0;32m/usr/local/lib/python3.8/dist-packages/pyspark/sql/utils.py\u001b[0m in \u001b[0;36mdeco\u001b[0;34m(*a, **kw)\u001b[0m\n\u001b[1;32m    194\u001b[0m                 \u001b[0;31m# Hide where the exception came from that shows a non-Pythonic\u001b[0m\u001b[0;34m\u001b[0m\u001b[0;34m\u001b[0m\u001b[0;34m\u001b[0m\u001b[0m\n\u001b[1;32m    195\u001b[0m                 \u001b[0;31m# JVM exception message.\u001b[0m\u001b[0;34m\u001b[0m\u001b[0;34m\u001b[0m\u001b[0;34m\u001b[0m\u001b[0m\n\u001b[0;32m--> 196\u001b[0;31m                 \u001b[0;32mraise\u001b[0m \u001b[0mconverted\u001b[0m \u001b[0;32mfrom\u001b[0m \u001b[0;32mNone\u001b[0m\u001b[0;34m\u001b[0m\u001b[0;34m\u001b[0m\u001b[0m\n\u001b[0m\u001b[1;32m    197\u001b[0m             \u001b[0;32melse\u001b[0m\u001b[0;34m:\u001b[0m\u001b[0;34m\u001b[0m\u001b[0;34m\u001b[0m\u001b[0m\n\u001b[1;32m    198\u001b[0m                 \u001b[0;32mraise\u001b[0m\u001b[0;34m\u001b[0m\u001b[0;34m\u001b[0m\u001b[0m\n",
            "\u001b[0;31mAnalysisException\u001b[0m: Resolved attribute(s) prediction#5591 missing from PassengerId#4510,Survived#4040,Pclass#4526,sex#589,Age#4542,SibSp#4557,Parch#4572,Fare#4421,TicketNumber#4588,Embark#1794,CabinAbrev#2649,CabinNumbers#4605,CabinOnTicket#2286 in operator !Project [PassengerId#4510, Survived#4040, Pclass#4526, sex#589, CASE WHEN isnull(Age#4542) THEN prediction#5591 ELSE cast(Age#4542 as double) END AS Age#5846, SibSp#4557, Parch#4572, Fare#4421, TicketNumber#4588, Embark#1794, CabinAbrev#2649, CabinNumbers#4605, CabinOnTicket#2286].;\n!Project [PassengerId#4510, Survived#4040, Pclass#4526, sex#589, CASE WHEN isnull(Age#4542) THEN prediction#5591 ELSE cast(Age#4542 as double) END AS Age#5846, SibSp#4557, Parch#4572, Fare#4421, TicketNumber#4588, Embark#1794, CabinAbrev#2649, CabinNumbers#4605, CabinOnTicket#2286]\n+- Project [PassengerId#4510, Survived#4040, Pclass#4526, sex#589, Age#4542, SibSp#4557, Parch#4572, Fare#4421, TicketNumber#4588, Embark#1794, CabinAbrev#2649, CabinNumbers#4605, CabinOnTicket#2286]\n   +- Project [PassengerId#4510, Survived#4040, Pclass#4526, sex#589, Age#4542, SibSp#4557, Parch#4572, Fare#4421, TicketNumber#4588, Embark#1794, CabinAbrev#2649, CabinNumbers#4605, CabinOnTicket#2286, UDF(struct(Survived_double_VectorAssembler_d0c6277a2187, cast(Survived#4040 as double), Pclass_double_VectorAssembler_d0c6277a2187, cast(Pclass#4526 as double), sex, sex#589, SibSp_double_VectorAssembler_d0c6277a2187, cast(SibSp#4557 as double), Parch_double_VectorAssembler_d0c6277a2187, cast(Parch#4572 as double), Fare_double_VectorAssembler_d0c6277a2187, cast(Fare#4421 as double), TicketNumber_double_VectorAssembler_d0c6277a2187, cast(TicketNumber#4588 as double), Embark, Embark#1794, CabinAbrev, CabinAbrev#2649, CabinNumbers_double_VectorAssembler_d0c6277a2187, cast(CabinNumbers#4605 as double), CabinOnTicket_double_VectorAssembler_d0c6277a2187, cast(CabinOnTicket#2286 as double))) AS features#4850]\n      +- Project [PassengerId#4510, Survived#4040, Pclass#4526, sex#589, Age#4542, SibSp#4557, Parch#4572, Fare#4421, TicketNumber#4588, Embark#1794, CabinAbrev#2649, cast(CabinNumbers#2154 as int) AS CabinNumbers#4605, CabinOnTicket#2286]\n         +- Project [PassengerId#4510, Survived#4040, Pclass#4526, sex#589, Age#4542, SibSp#4557, Parch#4572, Fare#4421, cast(TicketNumber#3218 as int) AS TicketNumber#4588, Embark#1794, CabinAbrev#2649, CabinNumbers#2154, CabinOnTicket#2286]\n            +- Project [PassengerId#4510, Survived#4040, Pclass#4526, sex#589, Age#4542, SibSp#4557, cast(Parch#63 as int) AS Parch#4572, Fare#4421, TicketNumber#3218, Embark#1794, CabinAbrev#2649, CabinNumbers#2154, CabinOnTicket#2286]\n               +- Project [PassengerId#4510, Survived#4040, Pclass#4526, sex#589, Age#4542, cast(SibSp#62 as int) AS SibSp#4557, Parch#63, Fare#4421, TicketNumber#3218, Embark#1794, CabinAbrev#2649, CabinNumbers#2154, CabinOnTicket#2286]\n                  +- Project [PassengerId#4510, Survived#4040, Pclass#4526, sex#589, cast(Age#61 as int) AS Age#4542, SibSp#62, Parch#63, Fare#4421, TicketNumber#3218, Embark#1794, CabinAbrev#2649, CabinNumbers#2154, CabinOnTicket#2286]\n                     +- Project [PassengerId#4510, Survived#4040, cast(Pclass#58 as int) AS Pclass#4526, sex#589, Age#61, SibSp#62, Parch#63, Fare#4421, TicketNumber#3218, Embark#1794, CabinAbrev#2649, CabinNumbers#2154, CabinOnTicket#2286]\n                        +- Project [cast(PassengerId#56 as int) AS PassengerId#4510, Survived#4040, Pclass#58, sex#589, Age#61, SibSp#62, Parch#63, Fare#4421, TicketNumber#3218, Embark#1794, CabinAbrev#2649, CabinNumbers#2154, CabinOnTicket#2286]\n                           +- Project [PassengerId#56, Survived#4040, Pclass#58, sex#589, Age#61, SibSp#62, Parch#63, cast(Fare#65 as float) AS Fare#4421, TicketNumber#3218, Embark#1794, CabinAbrev#2649, CabinNumbers#2154, CabinOnTicket#2286]\n                              +- Project [PassengerId#56, Survived#4040, Pclass#58, sex#589, Age#61, SibSp#62, Parch#63, Fare#65, TicketNumber#3218, Embark#1794, CabinAbrev#2649, CabinNumbers#2154, CabinOnTicket#2286]\n                                 +- Project [PassengerId#56, cast(Survived#57 as int) AS Survived#4040, Pclass#58, sex#589, Age#61, SibSp#62, Parch#63, Fare#65, traintest#170, TicketNumber#3218, Embark#1794, CabinAbrev#2649, CabinNumbers#2154, CabinOnTicket#2286]\n                                    +- Project [PassengerId#56, Survived#57, Pclass#58, sex#589, Age#61, SibSp#62, Parch#63, Fare#65, traintest#170, TicketNumber#3218, Embark#1794, CabinAbrev#2649, CabinNumbers#2154, CabinOnTicket#2286]\n                                       +- Project [PassengerId#56, Survived#57, Pclass#58, sex#589, Age#61, SibSp#62, Parch#63, Fare#65, traintest#170, NameAbrev#1551, TicketNumber#3218, Embark#1794, CabinAbrev#2649, CabinNumbers#2154, CabinOnTicket#2286]\n                                          +- Project [PassengerId#56, Survived#57, Pclass#58, sex#589, Age#61, SibSp#62, Parch#63, Fare#65, traintest#170, NameAbrev#1551, TicketNumber#3218, Embark#1794, CabinAbrev#2649, CabinNumbers#2154, CabinOnTicket#2286, TicketName#3200]\n                                             +- Project [PassengerId#56, Survived#57, Pclass#58, sex#589, Age#61, SibSp#62, Parch#63, Ticket#64, Fare#65, traintest#170, NameAbrev#1551, CASE WHEN RLIKE(Ticket#64, \\s) THEN split(Ticket#64,  , -1)[1] ELSE Ticket#64 END AS TicketNumber#3218, Embark#1794, CabinAbrev#2649, CabinNumbers#2154, CabinOnTicket#2286, TicketName#3200]\n                                                +- Project [PassengerId#56, Survived#57, Pclass#58, sex#589, Age#61, SibSp#62, Parch#63, Ticket#64, Fare#65, traintest#170, NameAbrev#1551, TicketNumber#1668, Embark#1794, CabinAbrev#2649, CabinNumbers#2154, CabinOnTicket#2286, CASE WHEN RLIKE(Ticket#64, \\s) THEN split(Ticket#64,  , -1)[0] ELSE cast(null as string) END AS TicketName#3200]\n                                                   +- Project [PassengerId#56, Survived#57, Pclass#58, sex#589, Age#61, SibSp#62, Parch#63, Ticket#64, Fare#65, traintest#170, NameAbrev#1551, TicketNumber#1668, Embark#1794, CabinAbrev#2649, CabinNumbers#2154, CabinOnTicket#2286]\n                                                      +- Project [PassengerId#56, Survived#57, Pclass#58, sex#589, Age#61, SibSp#62, Parch#63, Ticket#64, Fare#65, traintest#170, NameAbrev#1551, TicketName#1651, TicketNumber#1668, Embark#1794, CabinAbrev#2649, CabinNumbers#2154, CabinOnTicket#2286]\n                                                         +- Project [PassengerId#56, Survived#57, Pclass#58, Name#59, sex#589, Age#61, SibSp#62, Parch#63, Ticket#64, Fare#65, traintest#170, NameAbrev#1551, TicketName#1651, TicketNumber#1668, Embark#1794, CabinAbrev#2649, CabinNumbers#2154, CabinOnTicket#2286]\n                                                            +- Project [PassengerId#56, Survived#57, Pclass#58, Name#59, sex#589, Age#61, SibSp#62, Parch#63, Ticket#64, Fare#65, traintest#170, NameAbrev#1551, TicketName#1651, TicketNumber#1668, Embark#1794, CabinAbrevEncoded#2484 AS CabinAbrev#2649, CabinNumbers#2154, CabinOnTicket#2286, CabinAbrevEncoded#2484]\n                                                               +- Project [PassengerId#56, Survived#57, Pclass#58, Name#59, sex#589, Age#61, SibSp#62, Parch#63, Ticket#64, Fare#65, traintest#170, NameAbrev#1551, TicketName#1651, TicketNumber#1668, Embark#1794, CabinAbrev#2044, CabinNumbers#2154, CabinOnTicket#2286, UDF(cast(CabinAbrev#2044 as string)) AS CabinAbrevEncoded#2484]\n                                                                  +- Project [PassengerId#56, Survived#57, Pclass#58, Name#59, sex#589, Age#61, SibSp#62, Parch#63, Ticket#64, Fare#65, traintest#170, NameAbrev#1551, TicketName#1651, TicketNumber#1668, Embark#1794, CabinAbrev#2044, CabinNumbers#2154, CASE WHEN (cast(CabinAbrev#2044 as int) = 0) THEN 0 ELSE 1 END AS CabinOnTicket#2286]\n                                                                     +- Project [PassengerId#56, Survived#57, Pclass#58, Name#59, sex#589, Age#61, SibSp#62, Parch#63, Ticket#64, Fare#65, traintest#170, NameAbrev#1551, TicketName#1651, TicketNumber#1668, Embark#1794, CabinAbrev#2044, CabinNumbers#2154]\n                                                                        +- Project [PassengerId#56, Survived#57, Pclass#58, Name#59, sex#589, Age#61, SibSp#62, Parch#63, Ticket#64, Fare#65, Cabin#706, traintest#170, NameAbrev#1551, TicketName#1651, TicketNumber#1668, Embark#1794, CabinAbrev#2044, regexp_replace(Cabin#706, [^0-9], , 1) AS CabinNumbers#2154]\n                                                                           +- Project [PassengerId#56, Survived#57, Pclass#58, Name#59, sex#589, Age#61, SibSp#62, Parch#63, Ticket#64, Fare#65, Cabin#706, traintest#170, NameAbrev#1551, TicketName#1651, TicketNumber#1668, Embark#1794, CASE WHEN RLIKE(Cabin#706, [A-Za-z]) THEN regexp_extract(Cabin#706, [A-Za-z], 0) ELSE cast(0 as string) END AS CabinAbrev#2044]\n                                                                              +- Project [PassengerId#56, Survived#57, Pclass#58, Name#59, sex#589, Age#61, SibSp#62, Parch#63, Ticket#64, Fare#65, Cabin#706, traintest#170, NameAbrev#1551, TicketName#1651, TicketNumber#1668, Embark#1794]\n                                                                                 +- Project [PassengerId#56, Survived#57, Pclass#58, Name#59, sex#589, Age#61, SibSp#62, Parch#63, Ticket#64, Fare#65, Cabin#706, Embark#1794 AS Embarked#1922, traintest#170, NameAbrev#1551, TicketName#1651, TicketNumber#1668, Embark#1794]\n                                                                                    +- Project [PassengerId#56, Survived#57, Pclass#58, Name#59, sex#589, Age#61, SibSp#62, Parch#63, Ticket#64, Fare#65, Cabin#706, Embarked#67, traintest#170, NameAbrev#1551, TicketName#1651, TicketNumber#1668, Embark#1794]\n                                                                                       +- Project [PassengerId#56, Survived#57, Pclass#58, Name#59, sex#589, Age#61, SibSp#62, Parch#63, Ticket#64, Fare#65, Cabin#706, Embarked#67, traintest#170, EmbarkedEncoded#1437, NameAbrev#1551, TicketName#1651, TicketNumber#1668, EmbarkedEncoded#1437 AS Embark#1794]\n                                                                                          +- Project [PassengerId#56, Survived#57, Pclass#58, Name#59, sex#589, Age#61, SibSp#62, Parch#63, Ticket#64, Fare#65, Cabin#706, Embarked#67, traintest#170, EmbarkedEncoded#1437, NameAbrev#1551, TicketName#1651, CASE WHEN RLIKE(Ticket#64, \\s) THEN split(Ticket#64,  , -1)[1] ELSE Ticket#64 END AS TicketNumber#1668]\n                                                                                             +- Project [PassengerId#56, Survived#57, Pclass#58, Name#59, sex#589, Age#61, SibSp#62, Parch#63, Ticket#64, Fare#65, Cabin#706, Embarked#67, traintest#170, EmbarkedEncoded#1437, NameAbrev#1551, CASE WHEN RLIKE(Ticket#64, \\s) THEN split(Ticket#64,  , -1)[0] ELSE cast(null as string) END AS TicketName#1651]\n                                                                                                +- Project [PassengerId#56, Survived#57, Pclass#58, Name#59, sex#589, Age#61, SibSp#62, Parch#63, Ticket#64, Fare#65, Cabin#706, Embarked#67, traintest#170, EmbarkedEncoded#1437, CASE WHEN (isnull(NameAbrev#1535) OR (NameAbrev#1535 = )) THEN None ELSE NameAbrev#1535 END AS NameAbrev#1551]\n                                                                                                   +- Project [PassengerId#56, Survived#57, Pclass#58, Name#59, sex#589, Age#61, SibSp#62, Parch#63, Ticket#64, Fare#65, Cabin#706, Embarked#67, traintest#170, EmbarkedEncoded#1437, regexp_extract(Name#59, (Mrs|Mr|Miss), 1) AS NameAbrev#1535]\n                                                                                                      +- Project [PassengerId#56, Survived#57, Pclass#58, Name#59, sex#589, Age#61, SibSp#62, Parch#63, Ticket#64, Fare#65, Cabin#706, Embarked#67, traintest#170, UDF(cast(Embarked#67 as string)) AS EmbarkedEncoded#1437]\n                                                                                                         +- Filter atleastnnonnulls(1, Fare#65)\n                                                                                                            +- Filter atleastnnonnulls(1, Embarked#67)\n                                                                                                               +- Project [PassengerId#56, Survived#57, Pclass#58, Name#59, sex#589, Age#61, SibSp#62, Parch#63, Ticket#64, Fare#65, coalesce(Cabin#66, cast(0 as string)) AS Cabin#706, Embarked#67, traintest#170]\n                                                                                                                  +- Project [PassengerId#56, Survived#57, Pclass#58, Name#59, sex#589, Age#61, SibSp#62, Parch#63, Ticket#64, Fare#65, Cabin#66, Embarked#67, traintest#170]\n                                                                                                                     +- Project [PassengerId#56, Survived#57, Pclass#58, Name#59, SexEncoded#476 AS sex#589, Age#61, SibSp#62, Parch#63, Ticket#64, Fare#65, Cabin#66, Embarked#67, traintest#170, SexEncoded#476]\n                                                                                                                        +- Project [PassengerId#56, Survived#57, Pclass#58, Name#59, Sex#60, Age#61, SibSp#62, Parch#63, Ticket#64, Fare#65, Cabin#66, Embarked#67, traintest#170, UDF(cast(Sex#60 as string)) AS SexEncoded#476]\n                                                                                                                           +- Union false, false\n                                                                                                                              :- Project [PassengerId#56, Survived#57, Pclass#58, Name#59, Sex#60, Age#61, SibSp#62, Parch#63, Ticket#64, Fare#65, Cabin#66, Embarked#67, train AS traintest#170]\n                                                                                                                              :  +- Relation [PassengerId#56,Survived#57,Pclass#58,Name#59,Sex#60,Age#61,SibSp#62,Parch#63,Ticket#64,Fare#65,Cabin#66,Embarked#67] csv\n                                                                                                                              +- Project [PassengerId#17, cast(Survived#197 as string) AS Survived#224, Pclass#18, Name#19, Sex#20, Age#21, SibSp#22, Parch#23, Ticket#24, Fare#25, Cabin#26, Embarked#27, traintest#156]\n                                                                                                                                 +- Project [PassengerId#17, 0 AS Survived#197, Pclass#18, Name#19, Sex#20, Age#21, SibSp#22, Parch#23, Ticket#24, Fare#25, Cabin#26, Embarked#27, test AS traintest#156]\n                                                                                                                                    +- Relation [PassengerId#17,Pclass#18,Name#19,Sex#20,Age#21,SibSp#22,Parch#23,Ticket#24,Fare#25,Cabin#26,Embarked#27] csv\n"
          ]
        }
      ]
    },
    {
      "cell_type": "code",
      "source": [
        "df2.show()"
      ],
      "metadata": {
        "id": "cA6qOMPH10lH",
        "colab": {
          "base_uri": "https://localhost:8080/"
        },
        "outputId": "a140129b-d892-4c44-b2ce-f4503d456c44"
      },
      "execution_count": 169,
      "outputs": [
        {
          "output_type": "stream",
          "name": "stdout",
          "text": [
            "+-----------+--------+------+---+----+-----+-----+-------+------------+------+----------+------------+-------------+\n",
            "|PassengerId|Survived|Pclass|sex| Age|SibSp|Parch|   Fare|TicketNumber|Embark|CabinAbrev|CabinNumbers|CabinOnTicket|\n",
            "+-----------+--------+------+---+----+-----+-----+-------+------------+------+----------+------------+-------------+\n",
            "|          1|       0|     3|0.0|  22|    1|    0|   7.25|       21171|   0.0|       0.0|           0|            0|\n",
            "|          2|       1|     1|1.0|  38|    1|    0|71.2833|       17599|   1.0|       1.0|          85|            1|\n",
            "|          3|       1|     3|1.0|  26|    0|    0|  7.925|     3101282|   0.0|       0.0|           0|            0|\n",
            "|          4|       1|     1|1.0|  35|    1|    0|   53.1|      113803|   0.0|       1.0|         123|            1|\n",
            "|          5|       0|     3|0.0|  35|    0|    0|   8.05|      373450|   0.0|       0.0|           0|            0|\n",
            "|          6|       0|     3|0.0|null|    0|    0| 8.4583|      330877|   2.0|       0.0|           0|            0|\n",
            "|          7|       0|     1|0.0|  54|    0|    0|51.8625|       17463|   0.0|       4.0|          46|            1|\n",
            "|          8|       0|     3|0.0|   2|    3|    1| 21.075|      349909|   0.0|       0.0|           0|            0|\n",
            "|          9|       1|     3|1.0|  27|    0|    2|11.1333|      347742|   0.0|       0.0|           0|            0|\n",
            "|         10|       1|     2|1.0|  14|    1|    0|30.0708|      237736|   1.0|       0.0|           0|            0|\n",
            "|         11|       1|     3|1.0|   4|    1|    1|   16.7|        9549|   0.0|       7.0|           6|            1|\n",
            "|         12|       1|     1|1.0|  58|    0|    0|  26.55|      113783|   0.0|       1.0|         103|            1|\n",
            "|         13|       0|     3|0.0|  20|    0|    0|   8.05|        2151|   0.0|       0.0|           0|            0|\n",
            "|         14|       0|     3|0.0|  39|    1|    5| 31.275|      347082|   0.0|       0.0|           0|            0|\n",
            "|         15|       0|     3|1.0|  14|    0|    0| 7.8542|      350406|   0.0|       0.0|           0|            0|\n",
            "|         16|       1|     2|1.0|  55|    0|    0|   16.0|      248706|   0.0|       0.0|           0|            0|\n",
            "|         17|       0|     3|0.0|   2|    4|    1| 29.125|      382652|   2.0|       0.0|           0|            0|\n",
            "|         18|       1|     2|0.0|null|    0|    0|   13.0|      244373|   0.0|       0.0|           0|            0|\n",
            "|         19|       0|     3|1.0|  31|    1|    0|   18.0|      345763|   0.0|       0.0|           0|            0|\n",
            "|         20|       1|     3|1.0|null|    0|    0|  7.225|        2649|   1.0|       0.0|           0|            0|\n",
            "+-----------+--------+------+---+----+-----+-----+-------+------------+------+----------+------------+-------------+\n",
            "only showing top 20 rows\n",
            "\n"
          ]
        }
      ]
    },
    {
      "cell_type": "code",
      "source": [
        "data_with_age = df2.filter(\"Age is not null\")\n",
        "data_without_age = df2.filter(\"Age is null\")"
      ],
      "metadata": {
        "id": "JhjmBrDU10ig"
      },
      "execution_count": 254,
      "outputs": []
    },
    {
      "cell_type": "code",
      "source": [
        "data_without_age.show()"
      ],
      "metadata": {
        "colab": {
          "base_uri": "https://localhost:8080/"
        },
        "id": "Y-z7zPxKp-ML",
        "outputId": "b622a484-fdb4-43b1-84b5-1f388317d803"
      },
      "execution_count": 257,
      "outputs": [
        {
          "output_type": "stream",
          "name": "stdout",
          "text": [
            "+-----------+--------+------+---+----+-----+-----+--------+------------+------+----------+------------+-------------+-------------+\n",
            "|PassengerId|Survived|Pclass|sex| Age|SibSp|Parch|    Fare|TicketNumber|Embark|CabinAbrev|CabinNumbers|CabinOnTicket| NameAbrevVec|\n",
            "+-----------+--------+------+---+----+-----+-----+--------+------------+------+----------+------------+-------------+-------------+\n",
            "|          6|       0|     3|0.0|null|    0|    0|  8.4583|      330877|   2.0|       0.0|           0|            0|(3,[0],[1.0])|\n",
            "|         18|       1|     2|0.0|null|    0|    0|    13.0|      244373|   0.0|       0.0|           0|            0|(3,[0],[1.0])|\n",
            "|         20|       1|     3|1.0|null|    0|    0|   7.225|        2649|   1.0|       0.0|           0|            0|(3,[2],[1.0])|\n",
            "|         27|       0|     3|0.0|null|    0|    0|   7.225|        2631|   1.0|       0.0|           0|            0|(3,[0],[1.0])|\n",
            "|         29|       1|     3|1.0|null|    0|    0|  7.8792|      330959|   2.0|       0.0|           0|            0|(3,[1],[1.0])|\n",
            "|         30|       0|     3|0.0|null|    0|    0|  7.8958|      349216|   0.0|       0.0|           0|            0|(3,[0],[1.0])|\n",
            "|         32|       1|     1|1.0|null|    1|    0|146.5208|       17569|   1.0|       2.0|          78|            1|(3,[2],[1.0])|\n",
            "|         33|       1|     3|1.0|null|    0|    0|    7.75|      335677|   2.0|       0.0|           0|            0|(3,[1],[1.0])|\n",
            "|         37|       1|     3|0.0|null|    0|    0|  7.2292|        2677|   1.0|       0.0|           0|            0|(3,[0],[1.0])|\n",
            "|         43|       0|     3|0.0|null|    0|    0|  7.8958|      349253|   1.0|       0.0|           0|            0|(3,[0],[1.0])|\n",
            "|         46|       0|     3|0.0|null|    0|    0|    8.05|       23567|   0.0|       0.0|           0|            0|(3,[0],[1.0])|\n",
            "|         47|       0|     3|0.0|null|    1|    0|    15.5|      370371|   2.0|       0.0|           0|            0|(3,[0],[1.0])|\n",
            "|         48|       1|     3|1.0|null|    0|    0|    7.75|       14311|   2.0|       0.0|           0|            0|(3,[1],[1.0])|\n",
            "|         49|       0|     3|0.0|null|    2|    0| 21.6792|        2662|   1.0|       0.0|           0|            0|(3,[0],[1.0])|\n",
            "|         56|       1|     1|0.0|null|    0|    0|    35.5|       19947|   0.0|       1.0|          52|            1|(3,[0],[1.0])|\n",
            "|         65|       0|     1|0.0|null|    0|    0| 27.7208|       17605|   1.0|       0.0|           0|            0|(3,[0],[1.0])|\n",
            "|         66|       1|     3|0.0|null|    1|    1| 15.2458|        2661|   1.0|       0.0|           0|            0|    (3,[],[])|\n",
            "|         77|       0|     3|0.0|null|    0|    0|  7.8958|      349208|   0.0|       0.0|           0|            0|(3,[0],[1.0])|\n",
            "|         78|       0|     3|0.0|null|    0|    0|    8.05|      374746|   0.0|       0.0|           0|            0|(3,[0],[1.0])|\n",
            "|         83|       1|     3|1.0|null|    0|    0|  7.7875|      330932|   2.0|       0.0|           0|            0|(3,[1],[1.0])|\n",
            "+-----------+--------+------+---+----+-----+-----+--------+------------+------+----------+------------+-------------+-------------+\n",
            "only showing top 20 rows\n",
            "\n"
          ]
        }
      ]
    },
    {
      "cell_type": "code",
      "source": [
        "assembler = VectorAssembler(inputCols=['SibSp', 'Parch', 'Fare', 'Pclass','Survived','NameAbrevVec','Embark','CabinAbrev','CabinOnTicket','sex'], outputCol='features')\n"
      ],
      "metadata": {
        "id": "uba70x3c10gC"
      },
      "execution_count": 258,
      "outputs": []
    },
    {
      "cell_type": "code",
      "source": [
        "# Transform the data with the assembler\n",
        "data_with_age_transformed = assembler.transform(data_with_age)\n",
        "data_without_age_transformed = assembler.transform(data_without_age)"
      ],
      "metadata": {
        "id": "6ECIn6xZ10dk"
      },
      "execution_count": 259,
      "outputs": []
    },
    {
      "cell_type": "code",
      "source": [
        "# Train a regression model on the non-null Age data\n",
        "regressor = LinearRegression(featuresCol=\"features\", labelCol=\"Age\")\n",
        "model = regressor.fit(data_with_age_transformed)"
      ],
      "metadata": {
        "id": "zEwE4drG1N9d"
      },
      "execution_count": 260,
      "outputs": []
    },
    {
      "cell_type": "code",
      "source": [
        "# Use the trained model to predict the Age values for the null values\n",
        "predicted_age = model.transform(data_without_age_transformed)"
      ],
      "metadata": {
        "id": "-dD6W5Vh10bK"
      },
      "execution_count": 261,
      "outputs": []
    },
    {
      "cell_type": "code",
      "source": [
        "predicted_age.show()"
      ],
      "metadata": {
        "colab": {
          "base_uri": "https://localhost:8080/"
        },
        "id": "gO92M2mP144l",
        "outputId": "a73a9042-d700-488a-c576-017ee06a5e81"
      },
      "execution_count": 267,
      "outputs": [
        {
          "output_type": "stream",
          "name": "stdout",
          "text": [
            "+-----------+--------+------+---+----+-----+-----+--------+------------+------+----------+------------+-------------+-------------+--------------------+------------------+\n",
            "|PassengerId|Survived|Pclass|sex| Age|SibSp|Parch|    Fare|TicketNumber|Embark|CabinAbrev|CabinNumbers|CabinOnTicket| NameAbrevVec|            features|        prediction|\n",
            "+-----------+--------+------+---+----+-----+-----+--------+------------+------+----------+------------+-------------+-------------+--------------------+------------------+\n",
            "|          6|       0|     3|0.0|null|    0|    0|  8.4583|      330877|   2.0|       0.0|           0|            0|(3,[0],[1.0])|(12,[2,3,5,8],[8....|30.033191509918826|\n",
            "|         18|       1|     2|0.0|null|    0|    0|    13.0|      244373|   0.0|       0.0|           0|            0|(3,[0],[1.0])|(12,[2,3,4,5],[13...|31.413142955207455|\n",
            "|         20|       1|     3|1.0|null|    0|    0|   7.225|        2649|   1.0|       0.0|           0|            0|(3,[2],[1.0])|(12,[2,3,4,7,8,11...|29.939075450678303|\n",
            "|         27|       0|     3|0.0|null|    0|    0|   7.225|        2631|   1.0|       0.0|           0|            0|(3,[0],[1.0])|(12,[2,3,5,8],[7....|29.277488867814984|\n",
            "|         29|       1|     3|1.0|null|    0|    0|  7.8792|      330959|   2.0|       0.0|           0|            0|(3,[1],[1.0])|(12,[2,3,4,6,8,11...| 17.22444899990872|\n",
            "|         30|       0|     3|0.0|null|    0|    0|  7.8958|      349216|   0.0|       0.0|           0|            0|(3,[0],[1.0])|(12,[2,3,5],[7.89...| 28.52585566629341|\n",
            "|         32|       1|     1|1.0|null|    1|    0|146.5208|       17569|   1.0|       2.0|          78|            1|(3,[2],[1.0])|[1.0,0.0,146.5207...| 41.80579277074762|\n",
            "|         33|       1|     3|1.0|null|    0|    0|    7.75|      335677|   2.0|       0.0|           0|            0|(3,[1],[1.0])|(12,[2,3,4,6,8,11...|17.224172873830813|\n",
            "|         37|       1|     3|0.0|null|    0|    0|  7.2292|        2677|   1.0|       0.0|           0|            0|(3,[0],[1.0])|(12,[2,3,4,5,8],[...|25.355124904658336|\n",
            "|         43|       0|     3|0.0|null|    0|    0|  7.8958|      349253|   1.0|       0.0|           0|            0|(3,[0],[1.0])|(12,[2,3,5,8],[7....|29.278922501383338|\n",
            "|         46|       0|     3|0.0|null|    0|    0|    8.05|       23567|   0.0|       0.0|           0|            0|(3,[0],[1.0])|(12,[2,3,5],[8.05...| 28.52618522255134|\n",
            "|         47|       0|     3|0.0|null|    1|    0|    15.5|      370371|   2.0|       0.0|           0|            0|(3,[0],[1.0])|(12,[0,2,3,5,8],[...|27.726076387194922|\n",
            "|         48|       1|     3|1.0|null|    0|    0|    7.75|       14311|   2.0|       0.0|           0|            0|(3,[1],[1.0])|(12,[2,3,4,6,8,11...|17.224172873830813|\n",
            "|         49|       0|     3|0.0|null|    2|    0| 21.6792|        2662|   1.0|       0.0|           0|            0|(3,[0],[1.0])|(12,[0,2,3,5,8],[...| 24.66405109275612|\n",
            "|         56|       1|     1|0.0|null|    0|    0|    35.5|       19947|   0.0|       1.0|          52|            1|(3,[0],[1.0])|(12,[2,3,4,5,9,10...| 38.78184339389847|\n",
            "|         65|       0|     1|0.0|null|    0|    0| 27.7208|       17605|   1.0|       0.0|           0|            0|(3,[0],[1.0])|(12,[2,3,5,8],[27...| 42.91879554738347|\n",
            "|         66|       1|     3|0.0|null|    1|    1| 15.2458|        2661|   1.0|       0.0|           0|            0|    (3,[],[])|(12,[0,1,2,3,4,8]...| 11.53141124222065|\n",
            "|         77|       0|     3|0.0|null|    0|    0|  7.8958|      349208|   0.0|       0.0|           0|            0|(3,[0],[1.0])|(12,[2,3,5],[7.89...| 28.52585566629341|\n",
            "|         78|       0|     3|0.0|null|    0|    0|    8.05|      374746|   0.0|       0.0|           0|            0|(3,[0],[1.0])|(12,[2,3,5],[8.05...| 28.52618522255134|\n",
            "|         83|       1|     3|1.0|null|    0|    0|  7.7875|      330932|   2.0|       0.0|           0|            0|(3,[1],[1.0])|(12,[2,3,4,6,8,11...| 17.22425301859131|\n",
            "+-----------+--------+------+---+----+-----+-----+--------+------------+------+----------+------------+-------------+-------------+--------------------+------------------+\n",
            "only showing top 20 rows\n",
            "\n"
          ]
        }
      ]
    },
    {
      "cell_type": "code",
      "source": [
        "df2.filter(col(\"Age\").isNull()).count()"
      ],
      "metadata": {
        "colab": {
          "base_uri": "https://localhost:8080/",
          "height": 311
        },
        "id": "F5RqRrxO2h-R",
        "outputId": "9a13f83f-c349-4d46-d4a6-23a29274422c"
      },
      "execution_count": 269,
      "outputs": [
        {
          "output_type": "error",
          "ename": "AnalysisException",
          "evalue": "ignored",
          "traceback": [
            "\u001b[0;31m---------------------------------------------------------------------------\u001b[0m",
            "\u001b[0;31mAnalysisException\u001b[0m                         Traceback (most recent call last)",
            "\u001b[0;32m<ipython-input-269-f79daafb3e50>\u001b[0m in \u001b[0;36m<module>\u001b[0;34m\u001b[0m\n\u001b[0;32m----> 1\u001b[0;31m \u001b[0mdf2\u001b[0m\u001b[0;34m.\u001b[0m\u001b[0mfilter\u001b[0m\u001b[0;34m(\u001b[0m\u001b[0mcol\u001b[0m\u001b[0;34m(\u001b[0m\u001b[0;34m\"Age\"\u001b[0m\u001b[0;34m)\u001b[0m\u001b[0;34m.\u001b[0m\u001b[0misNull\u001b[0m\u001b[0;34m(\u001b[0m\u001b[0;34m)\u001b[0m\u001b[0;34m)\u001b[0m\u001b[0;34m.\u001b[0m\u001b[0mcount\u001b[0m\u001b[0;34m(\u001b[0m\u001b[0;34m)\u001b[0m\u001b[0;34m\u001b[0m\u001b[0;34m\u001b[0m\u001b[0m\n\u001b[0m",
            "\u001b[0;32m/usr/local/lib/python3.8/dist-packages/pyspark/sql/dataframe.py\u001b[0m in \u001b[0;36mfilter\u001b[0;34m(self, condition)\u001b[0m\n\u001b[1;32m   2077\u001b[0m             \u001b[0mjdf\u001b[0m \u001b[0;34m=\u001b[0m \u001b[0mself\u001b[0m\u001b[0;34m.\u001b[0m\u001b[0m_jdf\u001b[0m\u001b[0;34m.\u001b[0m\u001b[0mfilter\u001b[0m\u001b[0;34m(\u001b[0m\u001b[0mcondition\u001b[0m\u001b[0;34m)\u001b[0m\u001b[0;34m\u001b[0m\u001b[0;34m\u001b[0m\u001b[0m\n\u001b[1;32m   2078\u001b[0m         \u001b[0;32melif\u001b[0m \u001b[0misinstance\u001b[0m\u001b[0;34m(\u001b[0m\u001b[0mcondition\u001b[0m\u001b[0;34m,\u001b[0m \u001b[0mColumn\u001b[0m\u001b[0;34m)\u001b[0m\u001b[0;34m:\u001b[0m\u001b[0;34m\u001b[0m\u001b[0;34m\u001b[0m\u001b[0m\n\u001b[0;32m-> 2079\u001b[0;31m             \u001b[0mjdf\u001b[0m \u001b[0;34m=\u001b[0m \u001b[0mself\u001b[0m\u001b[0;34m.\u001b[0m\u001b[0m_jdf\u001b[0m\u001b[0;34m.\u001b[0m\u001b[0mfilter\u001b[0m\u001b[0;34m(\u001b[0m\u001b[0mcondition\u001b[0m\u001b[0;34m.\u001b[0m\u001b[0m_jc\u001b[0m\u001b[0;34m)\u001b[0m\u001b[0;34m\u001b[0m\u001b[0;34m\u001b[0m\u001b[0m\n\u001b[0m\u001b[1;32m   2080\u001b[0m         \u001b[0;32melse\u001b[0m\u001b[0;34m:\u001b[0m\u001b[0;34m\u001b[0m\u001b[0;34m\u001b[0m\u001b[0m\n\u001b[1;32m   2081\u001b[0m             \u001b[0;32mraise\u001b[0m \u001b[0mTypeError\u001b[0m\u001b[0;34m(\u001b[0m\u001b[0;34m\"condition should be string or Column\"\u001b[0m\u001b[0;34m)\u001b[0m\u001b[0;34m\u001b[0m\u001b[0;34m\u001b[0m\u001b[0m\n",
            "\u001b[0;32m/usr/local/lib/python3.8/dist-packages/py4j/java_gateway.py\u001b[0m in \u001b[0;36m__call__\u001b[0;34m(self, *args)\u001b[0m\n\u001b[1;32m   1319\u001b[0m \u001b[0;34m\u001b[0m\u001b[0m\n\u001b[1;32m   1320\u001b[0m         \u001b[0manswer\u001b[0m \u001b[0;34m=\u001b[0m \u001b[0mself\u001b[0m\u001b[0;34m.\u001b[0m\u001b[0mgateway_client\u001b[0m\u001b[0;34m.\u001b[0m\u001b[0msend_command\u001b[0m\u001b[0;34m(\u001b[0m\u001b[0mcommand\u001b[0m\u001b[0;34m)\u001b[0m\u001b[0;34m\u001b[0m\u001b[0;34m\u001b[0m\u001b[0m\n\u001b[0;32m-> 1321\u001b[0;31m         return_value = get_return_value(\n\u001b[0m\u001b[1;32m   1322\u001b[0m             answer, self.gateway_client, self.target_id, self.name)\n\u001b[1;32m   1323\u001b[0m \u001b[0;34m\u001b[0m\u001b[0m\n",
            "\u001b[0;32m/usr/local/lib/python3.8/dist-packages/pyspark/sql/utils.py\u001b[0m in \u001b[0;36mdeco\u001b[0;34m(*a, **kw)\u001b[0m\n\u001b[1;32m    194\u001b[0m                 \u001b[0;31m# Hide where the exception came from that shows a non-Pythonic\u001b[0m\u001b[0;34m\u001b[0m\u001b[0;34m\u001b[0m\u001b[0;34m\u001b[0m\u001b[0m\n\u001b[1;32m    195\u001b[0m                 \u001b[0;31m# JVM exception message.\u001b[0m\u001b[0;34m\u001b[0m\u001b[0;34m\u001b[0m\u001b[0;34m\u001b[0m\u001b[0m\n\u001b[0;32m--> 196\u001b[0;31m                 \u001b[0;32mraise\u001b[0m \u001b[0mconverted\u001b[0m \u001b[0;32mfrom\u001b[0m \u001b[0;32mNone\u001b[0m\u001b[0;34m\u001b[0m\u001b[0;34m\u001b[0m\u001b[0m\n\u001b[0m\u001b[1;32m    197\u001b[0m             \u001b[0;32melse\u001b[0m\u001b[0;34m:\u001b[0m\u001b[0;34m\u001b[0m\u001b[0;34m\u001b[0m\u001b[0m\n\u001b[1;32m    198\u001b[0m                 \u001b[0;32mraise\u001b[0m\u001b[0;34m\u001b[0m\u001b[0;34m\u001b[0m\u001b[0m\n",
            "\u001b[0;31mAnalysisException\u001b[0m: Reference 'Age' is ambiguous, could be: Age, Age."
          ]
        }
      ]
    },
    {
      "cell_type": "code",
      "source": [
        "predicted_age.printSchema()"
      ],
      "metadata": {
        "colab": {
          "base_uri": "https://localhost:8080/"
        },
        "id": "2_C2LJ0I2asu",
        "outputId": "7de1051d-1d61-4343-8791-a72bdb8a456e"
      },
      "execution_count": 268,
      "outputs": [
        {
          "output_type": "stream",
          "name": "stdout",
          "text": [
            "root\n",
            " |-- PassengerId: integer (nullable = true)\n",
            " |-- Survived: integer (nullable = true)\n",
            " |-- Pclass: integer (nullable = true)\n",
            " |-- sex: double (nullable = false)\n",
            " |-- Age: integer (nullable = true)\n",
            " |-- SibSp: integer (nullable = true)\n",
            " |-- Parch: integer (nullable = true)\n",
            " |-- Fare: float (nullable = true)\n",
            " |-- TicketNumber: integer (nullable = true)\n",
            " |-- Embark: double (nullable = false)\n",
            " |-- CabinAbrev: double (nullable = false)\n",
            " |-- CabinNumbers: integer (nullable = true)\n",
            " |-- CabinOnTicket: integer (nullable = false)\n",
            " |-- NameAbrevVec: vector (nullable = true)\n",
            " |-- features: vector (nullable = true)\n",
            " |-- prediction: double (nullable = false)\n",
            "\n"
          ]
        }
      ]
    },
    {
      "cell_type": "code",
      "source": [
        "df2 = df2.join(predicted_age.select(\"PassengerId\", \"prediction\"), \"PassengerId\", \"left\")\n"
      ],
      "metadata": {
        "id": "mzRbw4us1SQi"
      },
      "execution_count": 272,
      "outputs": []
    },
    {
      "cell_type": "code",
      "source": [
        "df2 = df2.withColumnRenamed(\"Age\", \"Age_original\")\n"
      ],
      "metadata": {
        "id": "x3gfzY8c1xNb"
      },
      "execution_count": 274,
      "outputs": []
    },
    {
      "cell_type": "code",
      "source": [
        "df2 = df2.withColumnRenamed(\"prediction\", \"Age_predicted\")\n"
      ],
      "metadata": {
        "id": "xHwGULOh3N7y"
      },
      "execution_count": 276,
      "outputs": []
    },
    {
      "cell_type": "code",
      "source": [
        "df2.show()"
      ],
      "metadata": {
        "colab": {
          "base_uri": "https://localhost:8080/"
        },
        "id": "Sd7afjLJ3SyU",
        "outputId": "b7ba1adc-09c6-41a2-c863-49db3076c46e"
      },
      "execution_count": 277,
      "outputs": [
        {
          "output_type": "stream",
          "name": "stdout",
          "text": [
            "+-----------+--------+------+---+------------+-----+-----+-------+------------+------+----------+------------+-------------+-------------+------------------+------------------+\n",
            "|PassengerId|Survived|Pclass|sex|Age_original|SibSp|Parch|   Fare|TicketNumber|Embark|CabinAbrev|CabinNumbers|CabinOnTicket| NameAbrevVec|      Age_original|     Age_predicted|\n",
            "+-----------+--------+------+---+------------+-----+-----+-------+------------+------+----------+------------+-------------+-------------+------------------+------------------+\n",
            "|          1|       0|     3|0.0|          22|    1|    0|   7.25|       21171|   0.0|       0.0|           0|            0|(3,[0],[1.0])|              null|              null|\n",
            "|          2|       1|     1|1.0|          38|    1|    0|71.2833|       17599|   1.0|       1.0|          85|            1|(3,[2],[1.0])|              null|              null|\n",
            "|          3|       1|     3|1.0|          26|    0|    0|  7.925|     3101282|   0.0|       0.0|           0|            0|(3,[1],[1.0])|              null|              null|\n",
            "|          4|       1|     1|1.0|          35|    1|    0|   53.1|      113803|   0.0|       1.0|         123|            1|(3,[2],[1.0])|              null|              null|\n",
            "|          5|       0|     3|0.0|          35|    0|    0|   8.05|      373450|   0.0|       0.0|           0|            0|(3,[0],[1.0])|              null|              null|\n",
            "|          6|       0|     3|0.0|        null|    0|    0| 8.4583|      330877|   2.0|       0.0|           0|            0|(3,[0],[1.0])|30.033191509918826|30.033191509918826|\n",
            "|          7|       0|     1|0.0|          54|    0|    0|51.8625|       17463|   0.0|       4.0|          46|            1|(3,[0],[1.0])|              null|              null|\n",
            "|          8|       0|     3|0.0|           2|    3|    1| 21.075|      349909|   0.0|       0.0|           0|            0|    (3,[],[])|              null|              null|\n",
            "|          9|       1|     3|1.0|          27|    0|    2|11.1333|      347742|   0.0|       0.0|           0|            0|(3,[2],[1.0])|              null|              null|\n",
            "|         10|       1|     2|1.0|          14|    1|    0|30.0708|      237736|   1.0|       0.0|           0|            0|(3,[2],[1.0])|              null|              null|\n",
            "|         11|       1|     3|1.0|           4|    1|    1|   16.7|        9549|   0.0|       7.0|           6|            1|(3,[1],[1.0])|              null|              null|\n",
            "|         12|       1|     1|1.0|          58|    0|    0|  26.55|      113783|   0.0|       1.0|         103|            1|(3,[1],[1.0])|              null|              null|\n",
            "|         13|       0|     3|0.0|          20|    0|    0|   8.05|        2151|   0.0|       0.0|           0|            0|(3,[0],[1.0])|              null|              null|\n",
            "|         14|       0|     3|0.0|          39|    1|    5| 31.275|      347082|   0.0|       0.0|           0|            0|(3,[0],[1.0])|              null|              null|\n",
            "|         15|       0|     3|1.0|          14|    0|    0| 7.8542|      350406|   0.0|       0.0|           0|            0|(3,[1],[1.0])|              null|              null|\n",
            "|         16|       1|     2|1.0|          55|    0|    0|   16.0|      248706|   0.0|       0.0|           0|            0|(3,[2],[1.0])|              null|              null|\n",
            "|         17|       0|     3|0.0|           2|    4|    1| 29.125|      382652|   2.0|       0.0|           0|            0|    (3,[],[])|              null|              null|\n",
            "|         18|       1|     2|0.0|        null|    0|    0|   13.0|      244373|   0.0|       0.0|           0|            0|(3,[0],[1.0])|31.413142955207455|31.413142955207455|\n",
            "|         19|       0|     3|1.0|          31|    1|    0|   18.0|      345763|   0.0|       0.0|           0|            0|(3,[2],[1.0])|              null|              null|\n",
            "|         20|       1|     3|1.0|        null|    0|    0|  7.225|        2649|   1.0|       0.0|           0|            0|(3,[2],[1.0])|29.939075450678303|29.939075450678303|\n",
            "+-----------+--------+------+---+------------+-----+-----+-------+------------+------+----------+------------+-------------+-------------+------------------+------------------+\n",
            "only showing top 20 rows\n",
            "\n"
          ]
        }
      ]
    },
    {
      "cell_type": "code",
      "source": [],
      "metadata": {
        "id": "4KvPoBWb3SvB"
      },
      "execution_count": null,
      "outputs": []
    },
    {
      "cell_type": "code",
      "source": [],
      "metadata": {
        "id": "1KxLCcmL3Ssh"
      },
      "execution_count": null,
      "outputs": []
    },
    {
      "cell_type": "code",
      "source": [],
      "metadata": {
        "id": "pq1pPTXf3SqC"
      },
      "execution_count": null,
      "outputs": []
    },
    {
      "cell_type": "code",
      "source": [],
      "metadata": {
        "id": "CaBkMpsl3Snm"
      },
      "execution_count": null,
      "outputs": []
    }
  ]
}